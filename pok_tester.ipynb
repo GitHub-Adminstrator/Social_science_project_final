{
 "cells": [
  {
   "cell_type": "code",
   "execution_count": 1,
   "metadata": {},
   "outputs": [],
   "source": [
    "import requests\n",
    "\n",
    "# Make request to PokeApi for all the pokemons\n",
    "url = 'https://pokeapi.co/api/v2/pokemon?limit=100'\n",
    "response = requests.get(url)\n",
    "pokemon_data = response.json()"
   ]
  },
  {
   "cell_type": "code",
   "execution_count": 2,
   "metadata": {},
   "outputs": [
    {
     "name": "stdout",
     "output_type": "stream",
     "text": [
      "bulbasaur\n",
      "ivysaur\n",
      "venusaur\n",
      "charmander\n",
      "charmeleon\n",
      "charizard\n",
      "squirtle\n",
      "wartortle\n",
      "blastoise\n",
      "caterpie\n",
      "metapod\n",
      "butterfree\n",
      "weedle\n",
      "kakuna\n",
      "beedrill\n",
      "pidgey\n",
      "pidgeotto\n",
      "pidgeot\n",
      "rattata\n",
      "raticate\n",
      "spearow\n",
      "fearow\n",
      "ekans\n",
      "arbok\n",
      "pikachu\n",
      "raichu\n",
      "sandshrew\n",
      "sandslash\n",
      "nidoran-f\n",
      "nidorina\n",
      "nidoqueen\n",
      "nidoran-m\n",
      "nidorino\n",
      "nidoking\n",
      "clefairy\n",
      "clefable\n",
      "vulpix\n",
      "ninetales\n",
      "jigglypuff\n",
      "wigglytuff\n",
      "zubat\n",
      "golbat\n",
      "oddish\n",
      "gloom\n",
      "vileplume\n",
      "paras\n",
      "parasect\n",
      "venonat\n",
      "venomoth\n",
      "diglett\n",
      "dugtrio\n",
      "meowth\n",
      "persian\n",
      "psyduck\n",
      "golduck\n",
      "mankey\n",
      "primeape\n",
      "growlithe\n",
      "arcanine\n",
      "poliwag\n",
      "poliwhirl\n",
      "poliwrath\n",
      "abra\n",
      "kadabra\n",
      "alakazam\n",
      "machop\n",
      "machoke\n",
      "machamp\n",
      "bellsprout\n",
      "weepinbell\n",
      "victreebel\n",
      "tentacool\n",
      "tentacruel\n",
      "geodude\n",
      "graveler\n",
      "golem\n",
      "ponyta\n",
      "rapidash\n",
      "slowpoke\n",
      "slowbro\n",
      "magnemite\n",
      "magneton\n",
      "farfetchd\n",
      "doduo\n",
      "dodrio\n",
      "seel\n",
      "dewgong\n",
      "grimer\n",
      "muk\n",
      "shellder\n",
      "cloyster\n",
      "gastly\n",
      "haunter\n",
      "gengar\n",
      "onix\n",
      "drowzee\n",
      "hypno\n",
      "krabby\n",
      "kingler\n",
      "voltorb\n",
      "Numer of names 100\n"
     ]
    }
   ],
   "source": [
    "k = 0\n",
    "for n in pokemon_data['results']:\n",
    "    print(n['name'])\n",
    "    k += 1\n",
    "print(\"Numer of names\",k)"
   ]
  },
  {
   "cell_type": "code",
   "execution_count": 3,
   "metadata": {},
   "outputs": [],
   "source": [
    "# Extract pokemon names and abilities from the response\n",
    "pokemon_list = []\n",
    "abilities_list = []\n",
    "for pokemon in pokemon_data['results']:\n",
    "    pokemon_name = pokemon['name']\n",
    "    pokemon_list.append(pokemon_name)\n",
    "    pokemon_url = pokemon['url']\n",
    "    response = requests.get(pokemon_url)\n",
    "    pokemon_details = response.json()\n",
    "    abilities = []\n",
    "    for ability in pokemon_details['abilities']:\n",
    "        abilities.append(ability['ability']['name'])\n",
    "        pokemon_list.append(pokemon_name)\n",
    "    abilities_list.append(abilities)"
   ]
  },
  {
   "cell_type": "code",
   "execution_count": null,
   "metadata": {},
   "outputs": [],
   "source": [
    "#pokemon_url = pokemon['url']\n",
    "#response = requests.get(pokemon_url)\n",
    "#pokemon_details = response.json()\n",
    "#abilities = []\n",
    "#for ability in pokemon_details['abilities']:\n",
    "#    print(ability['ability'])\n",
    "#    abilities.append(ability['ability']['name'])\n",
    "#    pokemon_list.append(pokemon_name)\n",
    "#    abilities_list.append(abilities)"
   ]
  },
  {
   "cell_type": "code",
   "execution_count": 4,
   "metadata": {},
   "outputs": [
    {
     "name": "stdout",
     "output_type": "stream",
     "text": [
      "361 100\n",
      "[['overgrow', 'chlorophyll'], ['overgrow', 'chlorophyll'], ['overgrow', 'chlorophyll'], ['blaze', 'solar-power'], ['blaze', 'solar-power'], ['blaze', 'solar-power'], ['torrent', 'rain-dish'], ['torrent', 'rain-dish'], ['torrent', 'rain-dish'], ['shield-dust', 'run-away'], ['shed-skin'], ['compound-eyes', 'tinted-lens'], ['shield-dust', 'run-away'], ['shed-skin'], ['swarm', 'sniper'], ['keen-eye', 'tangled-feet', 'big-pecks'], ['keen-eye', 'tangled-feet', 'big-pecks'], ['keen-eye', 'tangled-feet', 'big-pecks'], ['run-away', 'guts', 'hustle'], ['run-away', 'guts', 'hustle'], ['keen-eye', 'sniper'], ['keen-eye', 'sniper'], ['intimidate', 'shed-skin', 'unnerve'], ['intimidate', 'shed-skin', 'unnerve'], ['static', 'lightning-rod'], ['static', 'lightning-rod'], ['sand-veil', 'sand-rush'], ['sand-veil', 'sand-rush'], ['poison-point', 'rivalry', 'hustle'], ['poison-point', 'rivalry', 'hustle'], ['poison-point', 'rivalry', 'sheer-force'], ['poison-point', 'rivalry', 'hustle'], ['poison-point', 'rivalry', 'hustle'], ['poison-point', 'rivalry', 'sheer-force'], ['cute-charm', 'magic-guard', 'friend-guard'], ['cute-charm', 'magic-guard', 'unaware'], ['flash-fire', 'drought'], ['flash-fire', 'drought'], ['cute-charm', 'competitive', 'friend-guard'], ['cute-charm', 'competitive', 'frisk'], ['inner-focus', 'infiltrator'], ['inner-focus', 'infiltrator'], ['chlorophyll', 'run-away'], ['chlorophyll', 'stench'], ['chlorophyll', 'effect-spore'], ['effect-spore', 'dry-skin', 'damp'], ['effect-spore', 'dry-skin', 'damp'], ['compound-eyes', 'tinted-lens', 'run-away'], ['shield-dust', 'tinted-lens', 'wonder-skin'], ['sand-veil', 'arena-trap', 'sand-force'], ['sand-veil', 'arena-trap', 'sand-force'], ['pickup', 'technician', 'unnerve'], ['limber', 'technician', 'unnerve'], ['damp', 'cloud-nine', 'swift-swim'], ['damp', 'cloud-nine', 'swift-swim'], ['vital-spirit', 'anger-point', 'defiant'], ['vital-spirit', 'anger-point', 'defiant'], ['intimidate', 'flash-fire', 'justified'], ['intimidate', 'flash-fire', 'justified'], ['water-absorb', 'damp', 'swift-swim'], ['water-absorb', 'damp', 'swift-swim'], ['water-absorb', 'damp', 'swift-swim'], ['synchronize', 'inner-focus', 'magic-guard'], ['synchronize', 'inner-focus', 'magic-guard'], ['synchronize', 'inner-focus', 'magic-guard'], ['guts', 'no-guard', 'steadfast'], ['guts', 'no-guard', 'steadfast'], ['guts', 'no-guard', 'steadfast'], ['chlorophyll', 'gluttony'], ['chlorophyll', 'gluttony'], ['chlorophyll', 'gluttony'], ['clear-body', 'liquid-ooze', 'rain-dish'], ['clear-body', 'liquid-ooze', 'rain-dish'], ['rock-head', 'sturdy', 'sand-veil'], ['rock-head', 'sturdy', 'sand-veil'], ['rock-head', 'sturdy', 'sand-veil'], ['run-away', 'flash-fire', 'flame-body'], ['run-away', 'flash-fire', 'flame-body'], ['oblivious', 'own-tempo', 'regenerator'], ['oblivious', 'own-tempo', 'regenerator'], ['magnet-pull', 'sturdy', 'analytic'], ['magnet-pull', 'sturdy', 'analytic'], ['keen-eye', 'inner-focus', 'defiant'], ['run-away', 'early-bird', 'tangled-feet'], ['run-away', 'early-bird', 'tangled-feet'], ['thick-fat', 'hydration', 'ice-body'], ['thick-fat', 'hydration', 'ice-body'], ['stench', 'sticky-hold', 'poison-touch'], ['stench', 'sticky-hold', 'poison-touch'], ['shell-armor', 'skill-link', 'overcoat'], ['shell-armor', 'skill-link', 'overcoat'], ['levitate'], ['levitate'], ['cursed-body'], ['rock-head', 'sturdy', 'weak-armor'], ['insomnia', 'forewarn', 'inner-focus'], ['insomnia', 'forewarn', 'inner-focus'], ['hyper-cutter', 'shell-armor', 'sheer-force'], ['hyper-cutter', 'shell-armor', 'sheer-force'], ['soundproof', 'static', 'aftermath']]\n"
     ]
    }
   ],
   "source": [
    "print(len(pokemon_list), len(abilities_list))\n",
    "print(abilities_list)"
   ]
  },
  {
   "cell_type": "code",
   "execution_count": null,
   "metadata": {},
   "outputs": [],
   "source": [
    "# Fetch pokemon stats from the API\n",
    "stats = []\n",
    "for pokemon_name in pokemon_list:\n",
    "    url = f'https://pokeapi.co/api/v2/pokemon/{pokemon_name}'\n",
    "    response = requests.get(url)\n",
    "    pokemon_details = response.json()\n",
    "    stat_values = []\n",
    "    for stat in pokemon_details['stats']:\n",
    "        stat_values.append(stat['base_stat'])\n",
    "    stats.append(stat_values)"
   ]
  },
  {
   "cell_type": "code",
   "execution_count": null,
   "metadata": {},
   "outputs": [],
   "source": [
    "# Merge data into a single list of dictionaries\n",
    "data_set = []\n",
    "for i in range(len(pokemon_list)):\n",
    "    pokemon = {}\n",
    "    pokemon['name'] = pokemon_list[i]\n",
    "    pokemon['abilities'] = abilities_list[i]\n",
    "    pokemon['hp'] = stats[i][0]\n",
    "    pokemon['attack'] = stats[i][1]\n",
    "    pokemon['defense'] = stats[i][2]\n",
    "    pokemon['special-attack'] = stats[i][3]\n",
    "    pokemon['special-defense'] = stats[i][4]\n",
    "    pokemon['speed'] = stats[i][5]\n",
    "    data_set.append(pokemon)\n",
    "\n",
    "print(data_set)"
   ]
  },
  {
   "cell_type": "code",
   "execution_count": null,
   "metadata": {},
   "outputs": [],
   "source": []
  }
 ],
 "metadata": {
  "kernelspec": {
   "display_name": "Python 3",
   "language": "python",
   "name": "python3"
  },
  "language_info": {
   "codemirror_mode": {
    "name": "ipython",
    "version": 3
   },
   "file_extension": ".py",
   "mimetype": "text/x-python",
   "name": "python",
   "nbconvert_exporter": "python",
   "pygments_lexer": "ipython3",
   "version": "3.10.10"
  },
  "orig_nbformat": 4
 },
 "nbformat": 4,
 "nbformat_minor": 2
}
