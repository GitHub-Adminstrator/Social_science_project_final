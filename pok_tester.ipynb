{
 "cells": [
  {
   "cell_type": "code",
   "execution_count": 1,
   "metadata": {},
   "outputs": [],
   "source": [
    "import requests\n",
    "\n",
    "# Make request to PokeApi for all the pokemons\n",
    "url = 'https://pokeapi.co/api/v2/pokemon?limit=100'\n",
    "response = requests.get(url)\n",
    "pokemon_data = response.json()"
   ]
  },
  {
   "cell_type": "code",
   "execution_count": 2,
   "metadata": {},
   "outputs": [
    {
     "name": "stdout",
     "output_type": "stream",
     "text": [
      "bulbasaur\n",
      "ivysaur\n",
      "venusaur\n",
      "charmander\n",
      "charmeleon\n",
      "charizard\n",
      "squirtle\n",
      "wartortle\n",
      "blastoise\n",
      "caterpie\n",
      "metapod\n",
      "butterfree\n",
      "weedle\n",
      "kakuna\n",
      "beedrill\n",
      "pidgey\n",
      "pidgeotto\n",
      "pidgeot\n",
      "rattata\n",
      "raticate\n",
      "spearow\n",
      "fearow\n",
      "ekans\n",
      "arbok\n",
      "pikachu\n",
      "raichu\n",
      "sandshrew\n",
      "sandslash\n",
      "nidoran-f\n",
      "nidorina\n",
      "nidoqueen\n",
      "nidoran-m\n",
      "nidorino\n",
      "nidoking\n",
      "clefairy\n",
      "clefable\n",
      "vulpix\n",
      "ninetales\n",
      "jigglypuff\n",
      "wigglytuff\n",
      "zubat\n",
      "golbat\n",
      "oddish\n",
      "gloom\n",
      "vileplume\n",
      "paras\n",
      "parasect\n",
      "venonat\n",
      "venomoth\n",
      "diglett\n",
      "dugtrio\n",
      "meowth\n",
      "persian\n",
      "psyduck\n",
      "golduck\n",
      "mankey\n",
      "primeape\n",
      "growlithe\n",
      "arcanine\n",
      "poliwag\n",
      "poliwhirl\n",
      "poliwrath\n",
      "abra\n",
      "kadabra\n",
      "alakazam\n",
      "machop\n",
      "machoke\n",
      "machamp\n",
      "bellsprout\n",
      "weepinbell\n",
      "victreebel\n",
      "tentacool\n",
      "tentacruel\n",
      "geodude\n",
      "graveler\n",
      "golem\n",
      "ponyta\n",
      "rapidash\n",
      "slowpoke\n",
      "slowbro\n",
      "magnemite\n",
      "magneton\n",
      "farfetchd\n",
      "doduo\n",
      "dodrio\n",
      "seel\n",
      "dewgong\n",
      "grimer\n",
      "muk\n",
      "shellder\n",
      "cloyster\n",
      "gastly\n",
      "haunter\n",
      "gengar\n",
      "onix\n",
      "drowzee\n",
      "hypno\n",
      "krabby\n",
      "kingler\n",
      "voltorb\n",
      "Numer of names 100\n"
     ]
    }
   ],
   "source": [
    "k = 0\n",
    "for n in pokemon_data['results']:\n",
    "    print(n['name'])\n",
    "    k += 1\n",
    "print(\"Numer of names\",k)"
   ]
  },
  {
   "cell_type": "code",
   "execution_count": 3,
   "metadata": {},
   "outputs": [],
   "source": [
    "# Extract pokemon names and abilities from the response\n",
    "pokemon_list = []\n",
    "abilities_list = []\n",
    "for pokemon in pokemon_data['results']:\n",
    "    pokemon_name = pokemon['name']\n",
    "    pokemon_list.append(pokemon_name)\n",
    "\n",
    "    #FEJLLEI DENNE LINJE:\n",
    "    pokemon_url = pokemon['url']\n",
    "    response = requests.get(pokemon_url)\n",
    "    pokemon_details = response.json()\n",
    "    abilities = []\n",
    "    for ability in pokemon_details['abilities']:\n",
    "        abilities.append(ability['ability']['name'])\n",
    "        pokemon_list.append(pokemon_name)\n",
    "    abilities_list.append(abilities)"
   ]
  },
  {
   "cell_type": "code",
   "execution_count": 12,
   "metadata": {},
   "outputs": [
    {
     "name": "stdout",
     "output_type": "stream",
     "text": [
      "361 100 Lenght the same??: False\n",
      "bulbasaur abilities: ['overgrow', 'chlorophyll']\n"
     ]
    }
   ],
   "source": [
    "print(len(pokemon_list), len(abilities_list), \"Lenght the same??:\", len(pokemon_list) == len(abilities_list))\n",
    "print(pokemon_list[0], \"abilities:\", abilities_list[0])"
   ]
  },
  {
   "cell_type": "code",
   "execution_count": 7,
   "metadata": {},
   "outputs": [],
   "source": [
    "# Fetch pokemon stats from the API\n",
    "stats = []\n",
    "for pokemon_name in pokemon_list:\n",
    "    url = f'https://pokeapi.co/api/v2/pokemon/{pokemon_name}'\n",
    "    response = requests.get(url)\n",
    "    pokemon_details = response.json()\n",
    "    stat_values = []\n",
    "    for stat in pokemon_details['stats']:\n",
    "        stat_values.append(stat['base_stat'])\n",
    "    stats.append(stat_values)"
   ]
  },
  {
   "cell_type": "code",
   "execution_count": 10,
   "metadata": {},
   "outputs": [
    {
     "name": "stdout",
     "output_type": "stream",
     "text": [
      "361\n",
      "[45, 49, 49, 65, 65, 45]\n"
     ]
    }
   ],
   "source": [
    "print(len(stats))\n",
    "print(stats[0])"
   ]
  },
  {
   "cell_type": "code",
   "execution_count": 11,
   "metadata": {},
   "outputs": [
    {
     "name": "stdout",
     "output_type": "stream",
     "text": [
      "[{'name': 'bulbasaur', 'hp': 45, 'attack': 49, 'defense': 49, 'special-attack': 65, 'special-defense': 65, 'speed': 45}, {'name': 'bulbasaur', 'hp': 45, 'attack': 49, 'defense': 49, 'special-attack': 65, 'special-defense': 65, 'speed': 45}, {'name': 'bulbasaur', 'hp': 45, 'attack': 49, 'defense': 49, 'special-attack': 65, 'special-defense': 65, 'speed': 45}, {'name': 'ivysaur', 'hp': 60, 'attack': 62, 'defense': 63, 'special-attack': 80, 'special-defense': 80, 'speed': 60}, {'name': 'ivysaur', 'hp': 60, 'attack': 62, 'defense': 63, 'special-attack': 80, 'special-defense': 80, 'speed': 60}, {'name': 'ivysaur', 'hp': 60, 'attack': 62, 'defense': 63, 'special-attack': 80, 'special-defense': 80, 'speed': 60}, {'name': 'venusaur', 'hp': 80, 'attack': 82, 'defense': 83, 'special-attack': 100, 'special-defense': 100, 'speed': 80}, {'name': 'venusaur', 'hp': 80, 'attack': 82, 'defense': 83, 'special-attack': 100, 'special-defense': 100, 'speed': 80}, {'name': 'venusaur', 'hp': 80, 'attack': 82, 'defense': 83, 'special-attack': 100, 'special-defense': 100, 'speed': 80}, {'name': 'charmander', 'hp': 39, 'attack': 52, 'defense': 43, 'special-attack': 60, 'special-defense': 50, 'speed': 65}, {'name': 'charmander', 'hp': 39, 'attack': 52, 'defense': 43, 'special-attack': 60, 'special-defense': 50, 'speed': 65}, {'name': 'charmander', 'hp': 39, 'attack': 52, 'defense': 43, 'special-attack': 60, 'special-defense': 50, 'speed': 65}, {'name': 'charmeleon', 'hp': 58, 'attack': 64, 'defense': 58, 'special-attack': 80, 'special-defense': 65, 'speed': 80}, {'name': 'charmeleon', 'hp': 58, 'attack': 64, 'defense': 58, 'special-attack': 80, 'special-defense': 65, 'speed': 80}, {'name': 'charmeleon', 'hp': 58, 'attack': 64, 'defense': 58, 'special-attack': 80, 'special-defense': 65, 'speed': 80}, {'name': 'charizard', 'hp': 78, 'attack': 84, 'defense': 78, 'special-attack': 109, 'special-defense': 85, 'speed': 100}, {'name': 'charizard', 'hp': 78, 'attack': 84, 'defense': 78, 'special-attack': 109, 'special-defense': 85, 'speed': 100}, {'name': 'charizard', 'hp': 78, 'attack': 84, 'defense': 78, 'special-attack': 109, 'special-defense': 85, 'speed': 100}, {'name': 'squirtle', 'hp': 44, 'attack': 48, 'defense': 65, 'special-attack': 50, 'special-defense': 64, 'speed': 43}, {'name': 'squirtle', 'hp': 44, 'attack': 48, 'defense': 65, 'special-attack': 50, 'special-defense': 64, 'speed': 43}, {'name': 'squirtle', 'hp': 44, 'attack': 48, 'defense': 65, 'special-attack': 50, 'special-defense': 64, 'speed': 43}, {'name': 'wartortle', 'hp': 59, 'attack': 63, 'defense': 80, 'special-attack': 65, 'special-defense': 80, 'speed': 58}, {'name': 'wartortle', 'hp': 59, 'attack': 63, 'defense': 80, 'special-attack': 65, 'special-defense': 80, 'speed': 58}, {'name': 'wartortle', 'hp': 59, 'attack': 63, 'defense': 80, 'special-attack': 65, 'special-defense': 80, 'speed': 58}, {'name': 'blastoise', 'hp': 79, 'attack': 83, 'defense': 100, 'special-attack': 85, 'special-defense': 105, 'speed': 78}, {'name': 'blastoise', 'hp': 79, 'attack': 83, 'defense': 100, 'special-attack': 85, 'special-defense': 105, 'speed': 78}, {'name': 'blastoise', 'hp': 79, 'attack': 83, 'defense': 100, 'special-attack': 85, 'special-defense': 105, 'speed': 78}, {'name': 'caterpie', 'hp': 45, 'attack': 30, 'defense': 35, 'special-attack': 20, 'special-defense': 20, 'speed': 45}, {'name': 'caterpie', 'hp': 45, 'attack': 30, 'defense': 35, 'special-attack': 20, 'special-defense': 20, 'speed': 45}, {'name': 'caterpie', 'hp': 45, 'attack': 30, 'defense': 35, 'special-attack': 20, 'special-defense': 20, 'speed': 45}, {'name': 'metapod', 'hp': 50, 'attack': 20, 'defense': 55, 'special-attack': 25, 'special-defense': 25, 'speed': 30}, {'name': 'metapod', 'hp': 50, 'attack': 20, 'defense': 55, 'special-attack': 25, 'special-defense': 25, 'speed': 30}, {'name': 'butterfree', 'hp': 60, 'attack': 45, 'defense': 50, 'special-attack': 90, 'special-defense': 80, 'speed': 70}, {'name': 'butterfree', 'hp': 60, 'attack': 45, 'defense': 50, 'special-attack': 90, 'special-defense': 80, 'speed': 70}, {'name': 'butterfree', 'hp': 60, 'attack': 45, 'defense': 50, 'special-attack': 90, 'special-defense': 80, 'speed': 70}, {'name': 'weedle', 'hp': 40, 'attack': 35, 'defense': 30, 'special-attack': 20, 'special-defense': 20, 'speed': 50}, {'name': 'weedle', 'hp': 40, 'attack': 35, 'defense': 30, 'special-attack': 20, 'special-defense': 20, 'speed': 50}, {'name': 'weedle', 'hp': 40, 'attack': 35, 'defense': 30, 'special-attack': 20, 'special-defense': 20, 'speed': 50}, {'name': 'kakuna', 'hp': 45, 'attack': 25, 'defense': 50, 'special-attack': 25, 'special-defense': 25, 'speed': 35}, {'name': 'kakuna', 'hp': 45, 'attack': 25, 'defense': 50, 'special-attack': 25, 'special-defense': 25, 'speed': 35}, {'name': 'beedrill', 'hp': 65, 'attack': 90, 'defense': 40, 'special-attack': 45, 'special-defense': 80, 'speed': 75}, {'name': 'beedrill', 'hp': 65, 'attack': 90, 'defense': 40, 'special-attack': 45, 'special-defense': 80, 'speed': 75}, {'name': 'beedrill', 'hp': 65, 'attack': 90, 'defense': 40, 'special-attack': 45, 'special-defense': 80, 'speed': 75}, {'name': 'pidgey', 'hp': 40, 'attack': 45, 'defense': 40, 'special-attack': 35, 'special-defense': 35, 'speed': 56}, {'name': 'pidgey', 'hp': 40, 'attack': 45, 'defense': 40, 'special-attack': 35, 'special-defense': 35, 'speed': 56}, {'name': 'pidgey', 'hp': 40, 'attack': 45, 'defense': 40, 'special-attack': 35, 'special-defense': 35, 'speed': 56}, {'name': 'pidgey', 'hp': 40, 'attack': 45, 'defense': 40, 'special-attack': 35, 'special-defense': 35, 'speed': 56}, {'name': 'pidgeotto', 'hp': 63, 'attack': 60, 'defense': 55, 'special-attack': 50, 'special-defense': 50, 'speed': 71}, {'name': 'pidgeotto', 'hp': 63, 'attack': 60, 'defense': 55, 'special-attack': 50, 'special-defense': 50, 'speed': 71}, {'name': 'pidgeotto', 'hp': 63, 'attack': 60, 'defense': 55, 'special-attack': 50, 'special-defense': 50, 'speed': 71}, {'name': 'pidgeotto', 'hp': 63, 'attack': 60, 'defense': 55, 'special-attack': 50, 'special-defense': 50, 'speed': 71}, {'name': 'pidgeot', 'hp': 83, 'attack': 80, 'defense': 75, 'special-attack': 70, 'special-defense': 70, 'speed': 101}, {'name': 'pidgeot', 'hp': 83, 'attack': 80, 'defense': 75, 'special-attack': 70, 'special-defense': 70, 'speed': 101}, {'name': 'pidgeot', 'hp': 83, 'attack': 80, 'defense': 75, 'special-attack': 70, 'special-defense': 70, 'speed': 101}, {'name': 'pidgeot', 'hp': 83, 'attack': 80, 'defense': 75, 'special-attack': 70, 'special-defense': 70, 'speed': 101}, {'name': 'rattata', 'hp': 30, 'attack': 56, 'defense': 35, 'special-attack': 25, 'special-defense': 35, 'speed': 72}, {'name': 'rattata', 'hp': 30, 'attack': 56, 'defense': 35, 'special-attack': 25, 'special-defense': 35, 'speed': 72}, {'name': 'rattata', 'hp': 30, 'attack': 56, 'defense': 35, 'special-attack': 25, 'special-defense': 35, 'speed': 72}, {'name': 'rattata', 'hp': 30, 'attack': 56, 'defense': 35, 'special-attack': 25, 'special-defense': 35, 'speed': 72}, {'name': 'raticate', 'hp': 55, 'attack': 81, 'defense': 60, 'special-attack': 50, 'special-defense': 70, 'speed': 97}, {'name': 'raticate', 'hp': 55, 'attack': 81, 'defense': 60, 'special-attack': 50, 'special-defense': 70, 'speed': 97}, {'name': 'raticate', 'hp': 55, 'attack': 81, 'defense': 60, 'special-attack': 50, 'special-defense': 70, 'speed': 97}, {'name': 'raticate', 'hp': 55, 'attack': 81, 'defense': 60, 'special-attack': 50, 'special-defense': 70, 'speed': 97}, {'name': 'spearow', 'hp': 40, 'attack': 60, 'defense': 30, 'special-attack': 31, 'special-defense': 31, 'speed': 70}, {'name': 'spearow', 'hp': 40, 'attack': 60, 'defense': 30, 'special-attack': 31, 'special-defense': 31, 'speed': 70}, {'name': 'spearow', 'hp': 40, 'attack': 60, 'defense': 30, 'special-attack': 31, 'special-defense': 31, 'speed': 70}, {'name': 'fearow', 'hp': 65, 'attack': 90, 'defense': 65, 'special-attack': 61, 'special-defense': 61, 'speed': 100}, {'name': 'fearow', 'hp': 65, 'attack': 90, 'defense': 65, 'special-attack': 61, 'special-defense': 61, 'speed': 100}, {'name': 'fearow', 'hp': 65, 'attack': 90, 'defense': 65, 'special-attack': 61, 'special-defense': 61, 'speed': 100}, {'name': 'ekans', 'hp': 35, 'attack': 60, 'defense': 44, 'special-attack': 40, 'special-defense': 54, 'speed': 55}, {'name': 'ekans', 'hp': 35, 'attack': 60, 'defense': 44, 'special-attack': 40, 'special-defense': 54, 'speed': 55}, {'name': 'ekans', 'hp': 35, 'attack': 60, 'defense': 44, 'special-attack': 40, 'special-defense': 54, 'speed': 55}, {'name': 'ekans', 'hp': 35, 'attack': 60, 'defense': 44, 'special-attack': 40, 'special-defense': 54, 'speed': 55}, {'name': 'arbok', 'hp': 60, 'attack': 95, 'defense': 69, 'special-attack': 65, 'special-defense': 79, 'speed': 80}, {'name': 'arbok', 'hp': 60, 'attack': 95, 'defense': 69, 'special-attack': 65, 'special-defense': 79, 'speed': 80}, {'name': 'arbok', 'hp': 60, 'attack': 95, 'defense': 69, 'special-attack': 65, 'special-defense': 79, 'speed': 80}, {'name': 'arbok', 'hp': 60, 'attack': 95, 'defense': 69, 'special-attack': 65, 'special-defense': 79, 'speed': 80}, {'name': 'pikachu', 'hp': 35, 'attack': 55, 'defense': 40, 'special-attack': 50, 'special-defense': 50, 'speed': 90}, {'name': 'pikachu', 'hp': 35, 'attack': 55, 'defense': 40, 'special-attack': 50, 'special-defense': 50, 'speed': 90}, {'name': 'pikachu', 'hp': 35, 'attack': 55, 'defense': 40, 'special-attack': 50, 'special-defense': 50, 'speed': 90}, {'name': 'raichu', 'hp': 60, 'attack': 90, 'defense': 55, 'special-attack': 90, 'special-defense': 80, 'speed': 110}, {'name': 'raichu', 'hp': 60, 'attack': 90, 'defense': 55, 'special-attack': 90, 'special-defense': 80, 'speed': 110}, {'name': 'raichu', 'hp': 60, 'attack': 90, 'defense': 55, 'special-attack': 90, 'special-defense': 80, 'speed': 110}, {'name': 'sandshrew', 'hp': 50, 'attack': 75, 'defense': 85, 'special-attack': 20, 'special-defense': 30, 'speed': 40}, {'name': 'sandshrew', 'hp': 50, 'attack': 75, 'defense': 85, 'special-attack': 20, 'special-defense': 30, 'speed': 40}, {'name': 'sandshrew', 'hp': 50, 'attack': 75, 'defense': 85, 'special-attack': 20, 'special-defense': 30, 'speed': 40}, {'name': 'sandslash', 'hp': 75, 'attack': 100, 'defense': 110, 'special-attack': 45, 'special-defense': 55, 'speed': 65}, {'name': 'sandslash', 'hp': 75, 'attack': 100, 'defense': 110, 'special-attack': 45, 'special-defense': 55, 'speed': 65}, {'name': 'sandslash', 'hp': 75, 'attack': 100, 'defense': 110, 'special-attack': 45, 'special-defense': 55, 'speed': 65}, {'name': 'nidoran-f', 'hp': 55, 'attack': 47, 'defense': 52, 'special-attack': 40, 'special-defense': 40, 'speed': 41}, {'name': 'nidoran-f', 'hp': 55, 'attack': 47, 'defense': 52, 'special-attack': 40, 'special-defense': 40, 'speed': 41}, {'name': 'nidoran-f', 'hp': 55, 'attack': 47, 'defense': 52, 'special-attack': 40, 'special-defense': 40, 'speed': 41}, {'name': 'nidoran-f', 'hp': 55, 'attack': 47, 'defense': 52, 'special-attack': 40, 'special-defense': 40, 'speed': 41}, {'name': 'nidorina', 'hp': 70, 'attack': 62, 'defense': 67, 'special-attack': 55, 'special-defense': 55, 'speed': 56}, {'name': 'nidorina', 'hp': 70, 'attack': 62, 'defense': 67, 'special-attack': 55, 'special-defense': 55, 'speed': 56}, {'name': 'nidorina', 'hp': 70, 'attack': 62, 'defense': 67, 'special-attack': 55, 'special-defense': 55, 'speed': 56}, {'name': 'nidorina', 'hp': 70, 'attack': 62, 'defense': 67, 'special-attack': 55, 'special-defense': 55, 'speed': 56}, {'name': 'nidoqueen', 'hp': 90, 'attack': 92, 'defense': 87, 'special-attack': 75, 'special-defense': 85, 'speed': 76}, {'name': 'nidoqueen', 'hp': 90, 'attack': 92, 'defense': 87, 'special-attack': 75, 'special-defense': 85, 'speed': 76}, {'name': 'nidoqueen', 'hp': 90, 'attack': 92, 'defense': 87, 'special-attack': 75, 'special-defense': 85, 'speed': 76}, {'name': 'nidoqueen', 'hp': 90, 'attack': 92, 'defense': 87, 'special-attack': 75, 'special-defense': 85, 'speed': 76}, {'name': 'nidoran-m', 'hp': 46, 'attack': 57, 'defense': 40, 'special-attack': 40, 'special-defense': 40, 'speed': 50}, {'name': 'nidoran-m', 'hp': 46, 'attack': 57, 'defense': 40, 'special-attack': 40, 'special-defense': 40, 'speed': 50}, {'name': 'nidoran-m', 'hp': 46, 'attack': 57, 'defense': 40, 'special-attack': 40, 'special-defense': 40, 'speed': 50}, {'name': 'nidoran-m', 'hp': 46, 'attack': 57, 'defense': 40, 'special-attack': 40, 'special-defense': 40, 'speed': 50}, {'name': 'nidorino', 'hp': 61, 'attack': 72, 'defense': 57, 'special-attack': 55, 'special-defense': 55, 'speed': 65}, {'name': 'nidorino', 'hp': 61, 'attack': 72, 'defense': 57, 'special-attack': 55, 'special-defense': 55, 'speed': 65}, {'name': 'nidorino', 'hp': 61, 'attack': 72, 'defense': 57, 'special-attack': 55, 'special-defense': 55, 'speed': 65}, {'name': 'nidorino', 'hp': 61, 'attack': 72, 'defense': 57, 'special-attack': 55, 'special-defense': 55, 'speed': 65}, {'name': 'nidoking', 'hp': 81, 'attack': 102, 'defense': 77, 'special-attack': 85, 'special-defense': 75, 'speed': 85}, {'name': 'nidoking', 'hp': 81, 'attack': 102, 'defense': 77, 'special-attack': 85, 'special-defense': 75, 'speed': 85}, {'name': 'nidoking', 'hp': 81, 'attack': 102, 'defense': 77, 'special-attack': 85, 'special-defense': 75, 'speed': 85}, {'name': 'nidoking', 'hp': 81, 'attack': 102, 'defense': 77, 'special-attack': 85, 'special-defense': 75, 'speed': 85}, {'name': 'clefairy', 'hp': 70, 'attack': 45, 'defense': 48, 'special-attack': 60, 'special-defense': 65, 'speed': 35}, {'name': 'clefairy', 'hp': 70, 'attack': 45, 'defense': 48, 'special-attack': 60, 'special-defense': 65, 'speed': 35}, {'name': 'clefairy', 'hp': 70, 'attack': 45, 'defense': 48, 'special-attack': 60, 'special-defense': 65, 'speed': 35}, {'name': 'clefairy', 'hp': 70, 'attack': 45, 'defense': 48, 'special-attack': 60, 'special-defense': 65, 'speed': 35}, {'name': 'clefable', 'hp': 95, 'attack': 70, 'defense': 73, 'special-attack': 95, 'special-defense': 90, 'speed': 60}, {'name': 'clefable', 'hp': 95, 'attack': 70, 'defense': 73, 'special-attack': 95, 'special-defense': 90, 'speed': 60}, {'name': 'clefable', 'hp': 95, 'attack': 70, 'defense': 73, 'special-attack': 95, 'special-defense': 90, 'speed': 60}, {'name': 'clefable', 'hp': 95, 'attack': 70, 'defense': 73, 'special-attack': 95, 'special-defense': 90, 'speed': 60}, {'name': 'vulpix', 'hp': 38, 'attack': 41, 'defense': 40, 'special-attack': 50, 'special-defense': 65, 'speed': 65}, {'name': 'vulpix', 'hp': 38, 'attack': 41, 'defense': 40, 'special-attack': 50, 'special-defense': 65, 'speed': 65}, {'name': 'vulpix', 'hp': 38, 'attack': 41, 'defense': 40, 'special-attack': 50, 'special-defense': 65, 'speed': 65}, {'name': 'ninetales', 'hp': 73, 'attack': 76, 'defense': 75, 'special-attack': 81, 'special-defense': 100, 'speed': 100}, {'name': 'ninetales', 'hp': 73, 'attack': 76, 'defense': 75, 'special-attack': 81, 'special-defense': 100, 'speed': 100}, {'name': 'ninetales', 'hp': 73, 'attack': 76, 'defense': 75, 'special-attack': 81, 'special-defense': 100, 'speed': 100}, {'name': 'jigglypuff', 'hp': 115, 'attack': 45, 'defense': 20, 'special-attack': 45, 'special-defense': 25, 'speed': 20}, {'name': 'jigglypuff', 'hp': 115, 'attack': 45, 'defense': 20, 'special-attack': 45, 'special-defense': 25, 'speed': 20}, {'name': 'jigglypuff', 'hp': 115, 'attack': 45, 'defense': 20, 'special-attack': 45, 'special-defense': 25, 'speed': 20}, {'name': 'jigglypuff', 'hp': 115, 'attack': 45, 'defense': 20, 'special-attack': 45, 'special-defense': 25, 'speed': 20}, {'name': 'wigglytuff', 'hp': 140, 'attack': 70, 'defense': 45, 'special-attack': 85, 'special-defense': 50, 'speed': 45}, {'name': 'wigglytuff', 'hp': 140, 'attack': 70, 'defense': 45, 'special-attack': 85, 'special-defense': 50, 'speed': 45}, {'name': 'wigglytuff', 'hp': 140, 'attack': 70, 'defense': 45, 'special-attack': 85, 'special-defense': 50, 'speed': 45}, {'name': 'wigglytuff', 'hp': 140, 'attack': 70, 'defense': 45, 'special-attack': 85, 'special-defense': 50, 'speed': 45}, {'name': 'zubat', 'hp': 40, 'attack': 45, 'defense': 35, 'special-attack': 30, 'special-defense': 40, 'speed': 55}, {'name': 'zubat', 'hp': 40, 'attack': 45, 'defense': 35, 'special-attack': 30, 'special-defense': 40, 'speed': 55}, {'name': 'zubat', 'hp': 40, 'attack': 45, 'defense': 35, 'special-attack': 30, 'special-defense': 40, 'speed': 55}, {'name': 'golbat', 'hp': 75, 'attack': 80, 'defense': 70, 'special-attack': 65, 'special-defense': 75, 'speed': 90}, {'name': 'golbat', 'hp': 75, 'attack': 80, 'defense': 70, 'special-attack': 65, 'special-defense': 75, 'speed': 90}, {'name': 'golbat', 'hp': 75, 'attack': 80, 'defense': 70, 'special-attack': 65, 'special-defense': 75, 'speed': 90}, {'name': 'oddish', 'hp': 45, 'attack': 50, 'defense': 55, 'special-attack': 75, 'special-defense': 65, 'speed': 30}, {'name': 'oddish', 'hp': 45, 'attack': 50, 'defense': 55, 'special-attack': 75, 'special-defense': 65, 'speed': 30}, {'name': 'oddish', 'hp': 45, 'attack': 50, 'defense': 55, 'special-attack': 75, 'special-defense': 65, 'speed': 30}, {'name': 'gloom', 'hp': 60, 'attack': 65, 'defense': 70, 'special-attack': 85, 'special-defense': 75, 'speed': 40}, {'name': 'gloom', 'hp': 60, 'attack': 65, 'defense': 70, 'special-attack': 85, 'special-defense': 75, 'speed': 40}, {'name': 'gloom', 'hp': 60, 'attack': 65, 'defense': 70, 'special-attack': 85, 'special-defense': 75, 'speed': 40}, {'name': 'vileplume', 'hp': 75, 'attack': 80, 'defense': 85, 'special-attack': 110, 'special-defense': 90, 'speed': 50}, {'name': 'vileplume', 'hp': 75, 'attack': 80, 'defense': 85, 'special-attack': 110, 'special-defense': 90, 'speed': 50}, {'name': 'vileplume', 'hp': 75, 'attack': 80, 'defense': 85, 'special-attack': 110, 'special-defense': 90, 'speed': 50}, {'name': 'paras', 'hp': 35, 'attack': 70, 'defense': 55, 'special-attack': 45, 'special-defense': 55, 'speed': 25}, {'name': 'paras', 'hp': 35, 'attack': 70, 'defense': 55, 'special-attack': 45, 'special-defense': 55, 'speed': 25}, {'name': 'paras', 'hp': 35, 'attack': 70, 'defense': 55, 'special-attack': 45, 'special-defense': 55, 'speed': 25}, {'name': 'paras', 'hp': 35, 'attack': 70, 'defense': 55, 'special-attack': 45, 'special-defense': 55, 'speed': 25}, {'name': 'parasect', 'hp': 60, 'attack': 95, 'defense': 80, 'special-attack': 60, 'special-defense': 80, 'speed': 30}, {'name': 'parasect', 'hp': 60, 'attack': 95, 'defense': 80, 'special-attack': 60, 'special-defense': 80, 'speed': 30}, {'name': 'parasect', 'hp': 60, 'attack': 95, 'defense': 80, 'special-attack': 60, 'special-defense': 80, 'speed': 30}, {'name': 'parasect', 'hp': 60, 'attack': 95, 'defense': 80, 'special-attack': 60, 'special-defense': 80, 'speed': 30}, {'name': 'venonat', 'hp': 60, 'attack': 55, 'defense': 50, 'special-attack': 40, 'special-defense': 55, 'speed': 45}, {'name': 'venonat', 'hp': 60, 'attack': 55, 'defense': 50, 'special-attack': 40, 'special-defense': 55, 'speed': 45}, {'name': 'venonat', 'hp': 60, 'attack': 55, 'defense': 50, 'special-attack': 40, 'special-defense': 55, 'speed': 45}, {'name': 'venonat', 'hp': 60, 'attack': 55, 'defense': 50, 'special-attack': 40, 'special-defense': 55, 'speed': 45}, {'name': 'venomoth', 'hp': 70, 'attack': 65, 'defense': 60, 'special-attack': 90, 'special-defense': 75, 'speed': 90}, {'name': 'venomoth', 'hp': 70, 'attack': 65, 'defense': 60, 'special-attack': 90, 'special-defense': 75, 'speed': 90}, {'name': 'venomoth', 'hp': 70, 'attack': 65, 'defense': 60, 'special-attack': 90, 'special-defense': 75, 'speed': 90}, {'name': 'venomoth', 'hp': 70, 'attack': 65, 'defense': 60, 'special-attack': 90, 'special-defense': 75, 'speed': 90}, {'name': 'diglett', 'hp': 10, 'attack': 55, 'defense': 25, 'special-attack': 35, 'special-defense': 45, 'speed': 95}, {'name': 'diglett', 'hp': 10, 'attack': 55, 'defense': 25, 'special-attack': 35, 'special-defense': 45, 'speed': 95}, {'name': 'diglett', 'hp': 10, 'attack': 55, 'defense': 25, 'special-attack': 35, 'special-defense': 45, 'speed': 95}, {'name': 'diglett', 'hp': 10, 'attack': 55, 'defense': 25, 'special-attack': 35, 'special-defense': 45, 'speed': 95}, {'name': 'dugtrio', 'hp': 35, 'attack': 100, 'defense': 50, 'special-attack': 50, 'special-defense': 70, 'speed': 120}, {'name': 'dugtrio', 'hp': 35, 'attack': 100, 'defense': 50, 'special-attack': 50, 'special-defense': 70, 'speed': 120}, {'name': 'dugtrio', 'hp': 35, 'attack': 100, 'defense': 50, 'special-attack': 50, 'special-defense': 70, 'speed': 120}, {'name': 'dugtrio', 'hp': 35, 'attack': 100, 'defense': 50, 'special-attack': 50, 'special-defense': 70, 'speed': 120}, {'name': 'meowth', 'hp': 40, 'attack': 45, 'defense': 35, 'special-attack': 40, 'special-defense': 40, 'speed': 90}, {'name': 'meowth', 'hp': 40, 'attack': 45, 'defense': 35, 'special-attack': 40, 'special-defense': 40, 'speed': 90}, {'name': 'meowth', 'hp': 40, 'attack': 45, 'defense': 35, 'special-attack': 40, 'special-defense': 40, 'speed': 90}, {'name': 'meowth', 'hp': 40, 'attack': 45, 'defense': 35, 'special-attack': 40, 'special-defense': 40, 'speed': 90}, {'name': 'persian', 'hp': 65, 'attack': 70, 'defense': 60, 'special-attack': 65, 'special-defense': 65, 'speed': 115}, {'name': 'persian', 'hp': 65, 'attack': 70, 'defense': 60, 'special-attack': 65, 'special-defense': 65, 'speed': 115}, {'name': 'persian', 'hp': 65, 'attack': 70, 'defense': 60, 'special-attack': 65, 'special-defense': 65, 'speed': 115}, {'name': 'persian', 'hp': 65, 'attack': 70, 'defense': 60, 'special-attack': 65, 'special-defense': 65, 'speed': 115}, {'name': 'psyduck', 'hp': 50, 'attack': 52, 'defense': 48, 'special-attack': 65, 'special-defense': 50, 'speed': 55}, {'name': 'psyduck', 'hp': 50, 'attack': 52, 'defense': 48, 'special-attack': 65, 'special-defense': 50, 'speed': 55}, {'name': 'psyduck', 'hp': 50, 'attack': 52, 'defense': 48, 'special-attack': 65, 'special-defense': 50, 'speed': 55}, {'name': 'psyduck', 'hp': 50, 'attack': 52, 'defense': 48, 'special-attack': 65, 'special-defense': 50, 'speed': 55}, {'name': 'golduck', 'hp': 80, 'attack': 82, 'defense': 78, 'special-attack': 95, 'special-defense': 80, 'speed': 85}, {'name': 'golduck', 'hp': 80, 'attack': 82, 'defense': 78, 'special-attack': 95, 'special-defense': 80, 'speed': 85}, {'name': 'golduck', 'hp': 80, 'attack': 82, 'defense': 78, 'special-attack': 95, 'special-defense': 80, 'speed': 85}, {'name': 'golduck', 'hp': 80, 'attack': 82, 'defense': 78, 'special-attack': 95, 'special-defense': 80, 'speed': 85}, {'name': 'mankey', 'hp': 40, 'attack': 80, 'defense': 35, 'special-attack': 35, 'special-defense': 45, 'speed': 70}, {'name': 'mankey', 'hp': 40, 'attack': 80, 'defense': 35, 'special-attack': 35, 'special-defense': 45, 'speed': 70}, {'name': 'mankey', 'hp': 40, 'attack': 80, 'defense': 35, 'special-attack': 35, 'special-defense': 45, 'speed': 70}, {'name': 'mankey', 'hp': 40, 'attack': 80, 'defense': 35, 'special-attack': 35, 'special-defense': 45, 'speed': 70}, {'name': 'primeape', 'hp': 65, 'attack': 105, 'defense': 60, 'special-attack': 60, 'special-defense': 70, 'speed': 95}, {'name': 'primeape', 'hp': 65, 'attack': 105, 'defense': 60, 'special-attack': 60, 'special-defense': 70, 'speed': 95}, {'name': 'primeape', 'hp': 65, 'attack': 105, 'defense': 60, 'special-attack': 60, 'special-defense': 70, 'speed': 95}, {'name': 'primeape', 'hp': 65, 'attack': 105, 'defense': 60, 'special-attack': 60, 'special-defense': 70, 'speed': 95}, {'name': 'growlithe', 'hp': 55, 'attack': 70, 'defense': 45, 'special-attack': 70, 'special-defense': 50, 'speed': 60}, {'name': 'growlithe', 'hp': 55, 'attack': 70, 'defense': 45, 'special-attack': 70, 'special-defense': 50, 'speed': 60}, {'name': 'growlithe', 'hp': 55, 'attack': 70, 'defense': 45, 'special-attack': 70, 'special-defense': 50, 'speed': 60}, {'name': 'growlithe', 'hp': 55, 'attack': 70, 'defense': 45, 'special-attack': 70, 'special-defense': 50, 'speed': 60}, {'name': 'arcanine', 'hp': 90, 'attack': 110, 'defense': 80, 'special-attack': 100, 'special-defense': 80, 'speed': 95}, {'name': 'arcanine', 'hp': 90, 'attack': 110, 'defense': 80, 'special-attack': 100, 'special-defense': 80, 'speed': 95}, {'name': 'arcanine', 'hp': 90, 'attack': 110, 'defense': 80, 'special-attack': 100, 'special-defense': 80, 'speed': 95}, {'name': 'arcanine', 'hp': 90, 'attack': 110, 'defense': 80, 'special-attack': 100, 'special-defense': 80, 'speed': 95}, {'name': 'poliwag', 'hp': 40, 'attack': 50, 'defense': 40, 'special-attack': 40, 'special-defense': 40, 'speed': 90}, {'name': 'poliwag', 'hp': 40, 'attack': 50, 'defense': 40, 'special-attack': 40, 'special-defense': 40, 'speed': 90}, {'name': 'poliwag', 'hp': 40, 'attack': 50, 'defense': 40, 'special-attack': 40, 'special-defense': 40, 'speed': 90}, {'name': 'poliwag', 'hp': 40, 'attack': 50, 'defense': 40, 'special-attack': 40, 'special-defense': 40, 'speed': 90}, {'name': 'poliwhirl', 'hp': 65, 'attack': 65, 'defense': 65, 'special-attack': 50, 'special-defense': 50, 'speed': 90}, {'name': 'poliwhirl', 'hp': 65, 'attack': 65, 'defense': 65, 'special-attack': 50, 'special-defense': 50, 'speed': 90}, {'name': 'poliwhirl', 'hp': 65, 'attack': 65, 'defense': 65, 'special-attack': 50, 'special-defense': 50, 'speed': 90}, {'name': 'poliwhirl', 'hp': 65, 'attack': 65, 'defense': 65, 'special-attack': 50, 'special-defense': 50, 'speed': 90}, {'name': 'poliwrath', 'hp': 90, 'attack': 95, 'defense': 95, 'special-attack': 70, 'special-defense': 90, 'speed': 70}, {'name': 'poliwrath', 'hp': 90, 'attack': 95, 'defense': 95, 'special-attack': 70, 'special-defense': 90, 'speed': 70}, {'name': 'poliwrath', 'hp': 90, 'attack': 95, 'defense': 95, 'special-attack': 70, 'special-defense': 90, 'speed': 70}, {'name': 'poliwrath', 'hp': 90, 'attack': 95, 'defense': 95, 'special-attack': 70, 'special-defense': 90, 'speed': 70}, {'name': 'abra', 'hp': 25, 'attack': 20, 'defense': 15, 'special-attack': 105, 'special-defense': 55, 'speed': 90}, {'name': 'abra', 'hp': 25, 'attack': 20, 'defense': 15, 'special-attack': 105, 'special-defense': 55, 'speed': 90}, {'name': 'abra', 'hp': 25, 'attack': 20, 'defense': 15, 'special-attack': 105, 'special-defense': 55, 'speed': 90}, {'name': 'abra', 'hp': 25, 'attack': 20, 'defense': 15, 'special-attack': 105, 'special-defense': 55, 'speed': 90}, {'name': 'kadabra', 'hp': 40, 'attack': 35, 'defense': 30, 'special-attack': 120, 'special-defense': 70, 'speed': 105}, {'name': 'kadabra', 'hp': 40, 'attack': 35, 'defense': 30, 'special-attack': 120, 'special-defense': 70, 'speed': 105}, {'name': 'kadabra', 'hp': 40, 'attack': 35, 'defense': 30, 'special-attack': 120, 'special-defense': 70, 'speed': 105}, {'name': 'kadabra', 'hp': 40, 'attack': 35, 'defense': 30, 'special-attack': 120, 'special-defense': 70, 'speed': 105}, {'name': 'alakazam', 'hp': 55, 'attack': 50, 'defense': 45, 'special-attack': 135, 'special-defense': 95, 'speed': 120}, {'name': 'alakazam', 'hp': 55, 'attack': 50, 'defense': 45, 'special-attack': 135, 'special-defense': 95, 'speed': 120}, {'name': 'alakazam', 'hp': 55, 'attack': 50, 'defense': 45, 'special-attack': 135, 'special-defense': 95, 'speed': 120}, {'name': 'alakazam', 'hp': 55, 'attack': 50, 'defense': 45, 'special-attack': 135, 'special-defense': 95, 'speed': 120}, {'name': 'machop', 'hp': 70, 'attack': 80, 'defense': 50, 'special-attack': 35, 'special-defense': 35, 'speed': 35}, {'name': 'machop', 'hp': 70, 'attack': 80, 'defense': 50, 'special-attack': 35, 'special-defense': 35, 'speed': 35}, {'name': 'machop', 'hp': 70, 'attack': 80, 'defense': 50, 'special-attack': 35, 'special-defense': 35, 'speed': 35}, {'name': 'machop', 'hp': 70, 'attack': 80, 'defense': 50, 'special-attack': 35, 'special-defense': 35, 'speed': 35}, {'name': 'machoke', 'hp': 80, 'attack': 100, 'defense': 70, 'special-attack': 50, 'special-defense': 60, 'speed': 45}, {'name': 'machoke', 'hp': 80, 'attack': 100, 'defense': 70, 'special-attack': 50, 'special-defense': 60, 'speed': 45}, {'name': 'machoke', 'hp': 80, 'attack': 100, 'defense': 70, 'special-attack': 50, 'special-defense': 60, 'speed': 45}, {'name': 'machoke', 'hp': 80, 'attack': 100, 'defense': 70, 'special-attack': 50, 'special-defense': 60, 'speed': 45}, {'name': 'machamp', 'hp': 90, 'attack': 130, 'defense': 80, 'special-attack': 65, 'special-defense': 85, 'speed': 55}, {'name': 'machamp', 'hp': 90, 'attack': 130, 'defense': 80, 'special-attack': 65, 'special-defense': 85, 'speed': 55}, {'name': 'machamp', 'hp': 90, 'attack': 130, 'defense': 80, 'special-attack': 65, 'special-defense': 85, 'speed': 55}, {'name': 'machamp', 'hp': 90, 'attack': 130, 'defense': 80, 'special-attack': 65, 'special-defense': 85, 'speed': 55}, {'name': 'bellsprout', 'hp': 50, 'attack': 75, 'defense': 35, 'special-attack': 70, 'special-defense': 30, 'speed': 40}, {'name': 'bellsprout', 'hp': 50, 'attack': 75, 'defense': 35, 'special-attack': 70, 'special-defense': 30, 'speed': 40}, {'name': 'bellsprout', 'hp': 50, 'attack': 75, 'defense': 35, 'special-attack': 70, 'special-defense': 30, 'speed': 40}, {'name': 'weepinbell', 'hp': 65, 'attack': 90, 'defense': 50, 'special-attack': 85, 'special-defense': 45, 'speed': 55}, {'name': 'weepinbell', 'hp': 65, 'attack': 90, 'defense': 50, 'special-attack': 85, 'special-defense': 45, 'speed': 55}, {'name': 'weepinbell', 'hp': 65, 'attack': 90, 'defense': 50, 'special-attack': 85, 'special-defense': 45, 'speed': 55}, {'name': 'victreebel', 'hp': 80, 'attack': 105, 'defense': 65, 'special-attack': 100, 'special-defense': 70, 'speed': 70}, {'name': 'victreebel', 'hp': 80, 'attack': 105, 'defense': 65, 'special-attack': 100, 'special-defense': 70, 'speed': 70}, {'name': 'victreebel', 'hp': 80, 'attack': 105, 'defense': 65, 'special-attack': 100, 'special-defense': 70, 'speed': 70}, {'name': 'tentacool', 'hp': 40, 'attack': 40, 'defense': 35, 'special-attack': 50, 'special-defense': 100, 'speed': 70}, {'name': 'tentacool', 'hp': 40, 'attack': 40, 'defense': 35, 'special-attack': 50, 'special-defense': 100, 'speed': 70}, {'name': 'tentacool', 'hp': 40, 'attack': 40, 'defense': 35, 'special-attack': 50, 'special-defense': 100, 'speed': 70}, {'name': 'tentacool', 'hp': 40, 'attack': 40, 'defense': 35, 'special-attack': 50, 'special-defense': 100, 'speed': 70}, {'name': 'tentacruel', 'hp': 80, 'attack': 70, 'defense': 65, 'special-attack': 80, 'special-defense': 120, 'speed': 100}, {'name': 'tentacruel', 'hp': 80, 'attack': 70, 'defense': 65, 'special-attack': 80, 'special-defense': 120, 'speed': 100}, {'name': 'tentacruel', 'hp': 80, 'attack': 70, 'defense': 65, 'special-attack': 80, 'special-defense': 120, 'speed': 100}, {'name': 'tentacruel', 'hp': 80, 'attack': 70, 'defense': 65, 'special-attack': 80, 'special-defense': 120, 'speed': 100}, {'name': 'geodude', 'hp': 40, 'attack': 80, 'defense': 100, 'special-attack': 30, 'special-defense': 30, 'speed': 20}, {'name': 'geodude', 'hp': 40, 'attack': 80, 'defense': 100, 'special-attack': 30, 'special-defense': 30, 'speed': 20}, {'name': 'geodude', 'hp': 40, 'attack': 80, 'defense': 100, 'special-attack': 30, 'special-defense': 30, 'speed': 20}, {'name': 'geodude', 'hp': 40, 'attack': 80, 'defense': 100, 'special-attack': 30, 'special-defense': 30, 'speed': 20}, {'name': 'graveler', 'hp': 55, 'attack': 95, 'defense': 115, 'special-attack': 45, 'special-defense': 45, 'speed': 35}, {'name': 'graveler', 'hp': 55, 'attack': 95, 'defense': 115, 'special-attack': 45, 'special-defense': 45, 'speed': 35}, {'name': 'graveler', 'hp': 55, 'attack': 95, 'defense': 115, 'special-attack': 45, 'special-defense': 45, 'speed': 35}, {'name': 'graveler', 'hp': 55, 'attack': 95, 'defense': 115, 'special-attack': 45, 'special-defense': 45, 'speed': 35}, {'name': 'golem', 'hp': 80, 'attack': 120, 'defense': 130, 'special-attack': 55, 'special-defense': 65, 'speed': 45}, {'name': 'golem', 'hp': 80, 'attack': 120, 'defense': 130, 'special-attack': 55, 'special-defense': 65, 'speed': 45}, {'name': 'golem', 'hp': 80, 'attack': 120, 'defense': 130, 'special-attack': 55, 'special-defense': 65, 'speed': 45}, {'name': 'golem', 'hp': 80, 'attack': 120, 'defense': 130, 'special-attack': 55, 'special-defense': 65, 'speed': 45}, {'name': 'ponyta', 'hp': 50, 'attack': 85, 'defense': 55, 'special-attack': 65, 'special-defense': 65, 'speed': 90}, {'name': 'ponyta', 'hp': 50, 'attack': 85, 'defense': 55, 'special-attack': 65, 'special-defense': 65, 'speed': 90}, {'name': 'ponyta', 'hp': 50, 'attack': 85, 'defense': 55, 'special-attack': 65, 'special-defense': 65, 'speed': 90}, {'name': 'ponyta', 'hp': 50, 'attack': 85, 'defense': 55, 'special-attack': 65, 'special-defense': 65, 'speed': 90}, {'name': 'rapidash', 'hp': 65, 'attack': 100, 'defense': 70, 'special-attack': 80, 'special-defense': 80, 'speed': 105}, {'name': 'rapidash', 'hp': 65, 'attack': 100, 'defense': 70, 'special-attack': 80, 'special-defense': 80, 'speed': 105}, {'name': 'rapidash', 'hp': 65, 'attack': 100, 'defense': 70, 'special-attack': 80, 'special-defense': 80, 'speed': 105}, {'name': 'rapidash', 'hp': 65, 'attack': 100, 'defense': 70, 'special-attack': 80, 'special-defense': 80, 'speed': 105}, {'name': 'slowpoke', 'hp': 90, 'attack': 65, 'defense': 65, 'special-attack': 40, 'special-defense': 40, 'speed': 15}, {'name': 'slowpoke', 'hp': 90, 'attack': 65, 'defense': 65, 'special-attack': 40, 'special-defense': 40, 'speed': 15}, {'name': 'slowpoke', 'hp': 90, 'attack': 65, 'defense': 65, 'special-attack': 40, 'special-defense': 40, 'speed': 15}, {'name': 'slowpoke', 'hp': 90, 'attack': 65, 'defense': 65, 'special-attack': 40, 'special-defense': 40, 'speed': 15}, {'name': 'slowbro', 'hp': 95, 'attack': 75, 'defense': 110, 'special-attack': 100, 'special-defense': 80, 'speed': 30}, {'name': 'slowbro', 'hp': 95, 'attack': 75, 'defense': 110, 'special-attack': 100, 'special-defense': 80, 'speed': 30}, {'name': 'slowbro', 'hp': 95, 'attack': 75, 'defense': 110, 'special-attack': 100, 'special-defense': 80, 'speed': 30}, {'name': 'slowbro', 'hp': 95, 'attack': 75, 'defense': 110, 'special-attack': 100, 'special-defense': 80, 'speed': 30}, {'name': 'magnemite', 'hp': 25, 'attack': 35, 'defense': 70, 'special-attack': 95, 'special-defense': 55, 'speed': 45}, {'name': 'magnemite', 'hp': 25, 'attack': 35, 'defense': 70, 'special-attack': 95, 'special-defense': 55, 'speed': 45}, {'name': 'magnemite', 'hp': 25, 'attack': 35, 'defense': 70, 'special-attack': 95, 'special-defense': 55, 'speed': 45}, {'name': 'magnemite', 'hp': 25, 'attack': 35, 'defense': 70, 'special-attack': 95, 'special-defense': 55, 'speed': 45}, {'name': 'magneton', 'hp': 50, 'attack': 60, 'defense': 95, 'special-attack': 120, 'special-defense': 70, 'speed': 70}, {'name': 'magneton', 'hp': 50, 'attack': 60, 'defense': 95, 'special-attack': 120, 'special-defense': 70, 'speed': 70}, {'name': 'magneton', 'hp': 50, 'attack': 60, 'defense': 95, 'special-attack': 120, 'special-defense': 70, 'speed': 70}, {'name': 'magneton', 'hp': 50, 'attack': 60, 'defense': 95, 'special-attack': 120, 'special-defense': 70, 'speed': 70}, {'name': 'farfetchd', 'hp': 52, 'attack': 90, 'defense': 55, 'special-attack': 58, 'special-defense': 62, 'speed': 60}, {'name': 'farfetchd', 'hp': 52, 'attack': 90, 'defense': 55, 'special-attack': 58, 'special-defense': 62, 'speed': 60}, {'name': 'farfetchd', 'hp': 52, 'attack': 90, 'defense': 55, 'special-attack': 58, 'special-defense': 62, 'speed': 60}, {'name': 'farfetchd', 'hp': 52, 'attack': 90, 'defense': 55, 'special-attack': 58, 'special-defense': 62, 'speed': 60}, {'name': 'doduo', 'hp': 35, 'attack': 85, 'defense': 45, 'special-attack': 35, 'special-defense': 35, 'speed': 75}, {'name': 'doduo', 'hp': 35, 'attack': 85, 'defense': 45, 'special-attack': 35, 'special-defense': 35, 'speed': 75}, {'name': 'doduo', 'hp': 35, 'attack': 85, 'defense': 45, 'special-attack': 35, 'special-defense': 35, 'speed': 75}, {'name': 'doduo', 'hp': 35, 'attack': 85, 'defense': 45, 'special-attack': 35, 'special-defense': 35, 'speed': 75}, {'name': 'dodrio', 'hp': 60, 'attack': 110, 'defense': 70, 'special-attack': 60, 'special-defense': 60, 'speed': 110}, {'name': 'dodrio', 'hp': 60, 'attack': 110, 'defense': 70, 'special-attack': 60, 'special-defense': 60, 'speed': 110}, {'name': 'dodrio', 'hp': 60, 'attack': 110, 'defense': 70, 'special-attack': 60, 'special-defense': 60, 'speed': 110}, {'name': 'dodrio', 'hp': 60, 'attack': 110, 'defense': 70, 'special-attack': 60, 'special-defense': 60, 'speed': 110}, {'name': 'seel', 'hp': 65, 'attack': 45, 'defense': 55, 'special-attack': 45, 'special-defense': 70, 'speed': 45}, {'name': 'seel', 'hp': 65, 'attack': 45, 'defense': 55, 'special-attack': 45, 'special-defense': 70, 'speed': 45}, {'name': 'seel', 'hp': 65, 'attack': 45, 'defense': 55, 'special-attack': 45, 'special-defense': 70, 'speed': 45}, {'name': 'seel', 'hp': 65, 'attack': 45, 'defense': 55, 'special-attack': 45, 'special-defense': 70, 'speed': 45}, {'name': 'dewgong', 'hp': 90, 'attack': 70, 'defense': 80, 'special-attack': 70, 'special-defense': 95, 'speed': 70}, {'name': 'dewgong', 'hp': 90, 'attack': 70, 'defense': 80, 'special-attack': 70, 'special-defense': 95, 'speed': 70}, {'name': 'dewgong', 'hp': 90, 'attack': 70, 'defense': 80, 'special-attack': 70, 'special-defense': 95, 'speed': 70}, {'name': 'dewgong', 'hp': 90, 'attack': 70, 'defense': 80, 'special-attack': 70, 'special-defense': 95, 'speed': 70}, {'name': 'grimer', 'hp': 80, 'attack': 80, 'defense': 50, 'special-attack': 40, 'special-defense': 50, 'speed': 25}, {'name': 'grimer', 'hp': 80, 'attack': 80, 'defense': 50, 'special-attack': 40, 'special-defense': 50, 'speed': 25}, {'name': 'grimer', 'hp': 80, 'attack': 80, 'defense': 50, 'special-attack': 40, 'special-defense': 50, 'speed': 25}, {'name': 'grimer', 'hp': 80, 'attack': 80, 'defense': 50, 'special-attack': 40, 'special-defense': 50, 'speed': 25}, {'name': 'muk', 'hp': 105, 'attack': 105, 'defense': 75, 'special-attack': 65, 'special-defense': 100, 'speed': 50}, {'name': 'muk', 'hp': 105, 'attack': 105, 'defense': 75, 'special-attack': 65, 'special-defense': 100, 'speed': 50}, {'name': 'muk', 'hp': 105, 'attack': 105, 'defense': 75, 'special-attack': 65, 'special-defense': 100, 'speed': 50}, {'name': 'muk', 'hp': 105, 'attack': 105, 'defense': 75, 'special-attack': 65, 'special-defense': 100, 'speed': 50}, {'name': 'shellder', 'hp': 30, 'attack': 65, 'defense': 100, 'special-attack': 45, 'special-defense': 25, 'speed': 40}, {'name': 'shellder', 'hp': 30, 'attack': 65, 'defense': 100, 'special-attack': 45, 'special-defense': 25, 'speed': 40}, {'name': 'shellder', 'hp': 30, 'attack': 65, 'defense': 100, 'special-attack': 45, 'special-defense': 25, 'speed': 40}, {'name': 'shellder', 'hp': 30, 'attack': 65, 'defense': 100, 'special-attack': 45, 'special-defense': 25, 'speed': 40}, {'name': 'cloyster', 'hp': 50, 'attack': 95, 'defense': 180, 'special-attack': 85, 'special-defense': 45, 'speed': 70}, {'name': 'cloyster', 'hp': 50, 'attack': 95, 'defense': 180, 'special-attack': 85, 'special-defense': 45, 'speed': 70}, {'name': 'cloyster', 'hp': 50, 'attack': 95, 'defense': 180, 'special-attack': 85, 'special-defense': 45, 'speed': 70}, {'name': 'cloyster', 'hp': 50, 'attack': 95, 'defense': 180, 'special-attack': 85, 'special-defense': 45, 'speed': 70}, {'name': 'gastly', 'hp': 30, 'attack': 35, 'defense': 30, 'special-attack': 100, 'special-defense': 35, 'speed': 80}, {'name': 'gastly', 'hp': 30, 'attack': 35, 'defense': 30, 'special-attack': 100, 'special-defense': 35, 'speed': 80}, {'name': 'haunter', 'hp': 45, 'attack': 50, 'defense': 45, 'special-attack': 115, 'special-defense': 55, 'speed': 95}, {'name': 'haunter', 'hp': 45, 'attack': 50, 'defense': 45, 'special-attack': 115, 'special-defense': 55, 'speed': 95}, {'name': 'gengar', 'hp': 60, 'attack': 65, 'defense': 60, 'special-attack': 130, 'special-defense': 75, 'speed': 110}, {'name': 'gengar', 'hp': 60, 'attack': 65, 'defense': 60, 'special-attack': 130, 'special-defense': 75, 'speed': 110}, {'name': 'onix', 'hp': 35, 'attack': 45, 'defense': 160, 'special-attack': 30, 'special-defense': 45, 'speed': 70}, {'name': 'onix', 'hp': 35, 'attack': 45, 'defense': 160, 'special-attack': 30, 'special-defense': 45, 'speed': 70}, {'name': 'onix', 'hp': 35, 'attack': 45, 'defense': 160, 'special-attack': 30, 'special-defense': 45, 'speed': 70}, {'name': 'onix', 'hp': 35, 'attack': 45, 'defense': 160, 'special-attack': 30, 'special-defense': 45, 'speed': 70}, {'name': 'drowzee', 'hp': 60, 'attack': 48, 'defense': 45, 'special-attack': 43, 'special-defense': 90, 'speed': 42}, {'name': 'drowzee', 'hp': 60, 'attack': 48, 'defense': 45, 'special-attack': 43, 'special-defense': 90, 'speed': 42}, {'name': 'drowzee', 'hp': 60, 'attack': 48, 'defense': 45, 'special-attack': 43, 'special-defense': 90, 'speed': 42}, {'name': 'drowzee', 'hp': 60, 'attack': 48, 'defense': 45, 'special-attack': 43, 'special-defense': 90, 'speed': 42}, {'name': 'hypno', 'hp': 85, 'attack': 73, 'defense': 70, 'special-attack': 73, 'special-defense': 115, 'speed': 67}, {'name': 'hypno', 'hp': 85, 'attack': 73, 'defense': 70, 'special-attack': 73, 'special-defense': 115, 'speed': 67}, {'name': 'hypno', 'hp': 85, 'attack': 73, 'defense': 70, 'special-attack': 73, 'special-defense': 115, 'speed': 67}, {'name': 'hypno', 'hp': 85, 'attack': 73, 'defense': 70, 'special-attack': 73, 'special-defense': 115, 'speed': 67}, {'name': 'krabby', 'hp': 30, 'attack': 105, 'defense': 90, 'special-attack': 25, 'special-defense': 25, 'speed': 50}, {'name': 'krabby', 'hp': 30, 'attack': 105, 'defense': 90, 'special-attack': 25, 'special-defense': 25, 'speed': 50}, {'name': 'krabby', 'hp': 30, 'attack': 105, 'defense': 90, 'special-attack': 25, 'special-defense': 25, 'speed': 50}, {'name': 'krabby', 'hp': 30, 'attack': 105, 'defense': 90, 'special-attack': 25, 'special-defense': 25, 'speed': 50}, {'name': 'kingler', 'hp': 55, 'attack': 130, 'defense': 115, 'special-attack': 50, 'special-defense': 50, 'speed': 75}, {'name': 'kingler', 'hp': 55, 'attack': 130, 'defense': 115, 'special-attack': 50, 'special-defense': 50, 'speed': 75}, {'name': 'kingler', 'hp': 55, 'attack': 130, 'defense': 115, 'special-attack': 50, 'special-defense': 50, 'speed': 75}, {'name': 'kingler', 'hp': 55, 'attack': 130, 'defense': 115, 'special-attack': 50, 'special-defense': 50, 'speed': 75}, {'name': 'voltorb', 'hp': 40, 'attack': 30, 'defense': 50, 'special-attack': 55, 'special-defense': 55, 'speed': 100}, {'name': 'voltorb', 'hp': 40, 'attack': 30, 'defense': 50, 'special-attack': 55, 'special-defense': 55, 'speed': 100}, {'name': 'voltorb', 'hp': 40, 'attack': 30, 'defense': 50, 'special-attack': 55, 'special-defense': 55, 'speed': 100}, {'name': 'voltorb', 'hp': 40, 'attack': 30, 'defense': 50, 'special-attack': 55, 'special-defense': 55, 'speed': 100}]\n"
     ]
    }
   ],
   "source": [
    "# Merge data into a single list of dictionaries\n",
    "data_set = []\n",
    "for i in range(len(pokemon_list)):\n",
    "    pokemon = {}\n",
    "    pokemon['name'] = pokemon_list[i]\n",
    "    #pokemon['abilities'] = abilities_list[i]\n",
    "    pokemon['hp'] = stats[i][0]\n",
    "    pokemon['attack'] = stats[i][1]\n",
    "    pokemon['defense'] = stats[i][2]\n",
    "    pokemon['special-attack'] = stats[i][3]\n",
    "    pokemon['special-defense'] = stats[i][4]\n",
    "    pokemon['speed'] = stats[i][5]\n",
    "    data_set.append(pokemon)\n",
    "\n",
    "print(data_set)"
   ]
  },
  {
   "cell_type": "code",
   "execution_count": 14,
   "metadata": {},
   "outputs": [
    {
     "name": "stdout",
     "output_type": "stream",
     "text": [
      "361\n",
      "{'name': 'bulbasaur', 'hp': 45, 'attack': 49, 'defense': 49, 'special-attack': 65, 'special-defense': 65, 'speed': 45}\n"
     ]
    }
   ],
   "source": [
    "print(len(data_set))\n",
    "print(data_set[0])"
   ]
  },
  {
   "cell_type": "code",
   "execution_count": null,
   "metadata": {},
   "outputs": [],
   "source": []
  }
 ],
 "metadata": {
  "kernelspec": {
   "display_name": "Python 3",
   "language": "python",
   "name": "python3"
  },
  "language_info": {
   "codemirror_mode": {
    "name": "ipython",
    "version": 3
   },
   "file_extension": ".py",
   "mimetype": "text/x-python",
   "name": "python",
   "nbconvert_exporter": "python",
   "pygments_lexer": "ipython3",
   "version": "3.10.10"
  },
  "orig_nbformat": 4
 },
 "nbformat": 4,
 "nbformat_minor": 2
}
