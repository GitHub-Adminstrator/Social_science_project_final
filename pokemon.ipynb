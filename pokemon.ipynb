{
 "cells": [
  {
   "cell_type": "code",
   "execution_count": 25,
   "metadata": {},
   "outputs": [],
   "source": [
    "import requests\n",
    "import json\n",
    "import pandas as pd\n",
    "import numpy as np\n",
    "import matplotlib.pyplot as plt\n",
    "import seaborn as sns\n",
    "from bs4 import BeautifulSoup"
   ]
  },
  {
   "attachments": {},
   "cell_type": "markdown",
   "metadata": {},
   "source": [
    "### Initial data load\n",
    "\n",
    "First, we get the names of all the Pokémon, and append these to a list."
   ]
  },
  {
   "cell_type": "code",
   "execution_count": 163,
   "metadata": {},
   "outputs": [],
   "source": [
    "data = requests.get('https://pokeapi.co/api/v2/pokemon?limit=1000')"
   ]
  },
  {
   "cell_type": "code",
   "execution_count": 164,
   "metadata": {},
   "outputs": [],
   "source": [
    "data2 = data.json()"
   ]
  },
  {
   "cell_type": "code",
   "execution_count": 165,
   "metadata": {},
   "outputs": [],
   "source": [
    "data3 = data2['results']"
   ]
  },
  {
   "cell_type": "code",
   "execution_count": 166,
   "metadata": {},
   "outputs": [],
   "source": [
    "pokemons = []\n",
    "# get the name of the pokemon\n",
    "for i in range(len(data3)):\n",
    "    pokemons.append(data3[i]['name'])\n"
   ]
  },
  {
   "cell_type": "code",
   "execution_count": 168,
   "metadata": {},
   "outputs": [
    {
     "data": {
      "text/plain": [
       "['bulbasaur', 'ivysaur', 'venusaur', 'charmander', 'charmeleon']"
      ]
     },
     "execution_count": 168,
     "metadata": {},
     "output_type": "execute_result"
    }
   ],
   "source": [
    "pokemons[:5]"
   ]
  },
  {
   "attachments": {},
   "cell_type": "markdown",
   "metadata": {},
   "source": [
    "### Data Set Creation\n",
    "\n",
    "Second, we must request the API for each Pokémon, to get the abilities, types, egg groups, moves and Pokédex entries."
   ]
  },
  {
   "cell_type": "code",
   "execution_count": 178,
   "metadata": {},
   "outputs": [],
   "source": [
    "poke_dict = {\n",
    "    'pokemon': [],\n",
    "    'abilities': [], \n",
    "    'types': [], \n",
    "    'egg_groups': [], \n",
    "    'moves': [],\n",
    "    'pokedex_entry': []\n",
    "}"
   ]
  },
  {
   "cell_type": "code",
   "execution_count": null,
   "metadata": {},
   "outputs": [],
   "source": [
    "def data_scrape(pokemon_list):\n",
    "    for pokemon in pokemon_list:\n",
    "        url = 'https://pokeapi.co/api/v2/pokemon/' + pokemon\n",
    "        data = requests.get(url)\n",
    "        data = data.json()\n",
    "        poke_dict['pokemon'].append(pokemon)\n",
    "        poke_dict['abilities'].append(data['abilities'])\n",
    "        poke_dict['types'].append(data['types'])\n",
    "        poke_dict['egg_groups'].append(data['egg_groups'])\n",
    "        poke_dict['moves'].append(data['moves'])\n",
    "        url = 'https://bulbapedia.bulbagarden.net/wiki/' + pokemon + '_(Pok%C3%A9mon)'\n",
    "        data = requests.get(url)\n",
    "        soup = BeautifulSoup(data.text, 'html.parser')\n",
    "        pokedex_entry = soup.find('div', {'class': 'roundy'}).find('p').text\n",
    "        poke_dict['pokedex_entry'].append(pokedex_entry)"
   ]
  },
  {
   "cell_type": "code",
   "execution_count": 154,
   "metadata": {},
   "outputs": [
    {
     "ename": "KeyboardInterrupt",
     "evalue": "",
     "output_type": "error",
     "traceback": [
      "\u001b[0;31m---------------------------------------------------------------------------\u001b[0m",
      "\u001b[0;31mKeyboardInterrupt\u001b[0m                         Traceback (most recent call last)",
      "Cell \u001b[0;32mIn[154], line 9\u001b[0m\n\u001b[1;32m      7\u001b[0m poke_dict[\u001b[39m'\u001b[39m\u001b[39mtypes\u001b[39m\u001b[39m'\u001b[39m]\u001b[39m.\u001b[39mappend([r[\u001b[39m'\u001b[39m\u001b[39mtypes\u001b[39m\u001b[39m'\u001b[39m][i][\u001b[39m'\u001b[39m\u001b[39mtype\u001b[39m\u001b[39m'\u001b[39m][\u001b[39m'\u001b[39m\u001b[39mname\u001b[39m\u001b[39m'\u001b[39m] \u001b[39mfor\u001b[39;00m i \u001b[39min\u001b[39;00m \u001b[39mrange\u001b[39m(\u001b[39mlen\u001b[39m(r[\u001b[39m'\u001b[39m\u001b[39mtypes\u001b[39m\u001b[39m'\u001b[39m]))])\n\u001b[1;32m      8\u001b[0m poke_dict[\u001b[39m'\u001b[39m\u001b[39mmoves\u001b[39m\u001b[39m'\u001b[39m]\u001b[39m.\u001b[39mappend([r[\u001b[39m'\u001b[39m\u001b[39mmoves\u001b[39m\u001b[39m'\u001b[39m][j][\u001b[39m'\u001b[39m\u001b[39mmove\u001b[39m\u001b[39m'\u001b[39m][\u001b[39m'\u001b[39m\u001b[39mname\u001b[39m\u001b[39m'\u001b[39m] \u001b[39mfor\u001b[39;00m j \u001b[39min\u001b[39;00m \u001b[39mrange\u001b[39m(\u001b[39mlen\u001b[39m(r[\u001b[39m'\u001b[39m\u001b[39mmoves\u001b[39m\u001b[39m'\u001b[39m]))])\n\u001b[0;32m----> 9\u001b[0m r \u001b[39m=\u001b[39m requests\u001b[39m.\u001b[39;49mget(\u001b[39m'\u001b[39;49m\u001b[39mhttps://pokeapi.co/api/v2/pokemon-species/\u001b[39;49m\u001b[39m'\u001b[39;49m \u001b[39m+\u001b[39;49m \u001b[39mstr\u001b[39;49m(i\u001b[39m+\u001b[39;49m\u001b[39m1\u001b[39;49m))\u001b[39m.\u001b[39mjson()\n\u001b[1;32m     10\u001b[0m poke_dict[\u001b[39m'\u001b[39m\u001b[39megg_groups\u001b[39m\u001b[39m'\u001b[39m]\u001b[39m.\u001b[39mappend([r[\u001b[39m'\u001b[39m\u001b[39megg_groups\u001b[39m\u001b[39m'\u001b[39m][j][\u001b[39m'\u001b[39m\u001b[39mname\u001b[39m\u001b[39m'\u001b[39m] \u001b[39mfor\u001b[39;00m j \u001b[39min\u001b[39;00m \u001b[39mrange\u001b[39m(\u001b[39mlen\u001b[39m(r[\u001b[39m'\u001b[39m\u001b[39megg_groups\u001b[39m\u001b[39m'\u001b[39m]))])\n",
      "File \u001b[0;32m~/opt/anaconda3/envs/compsci/lib/python3.9/site-packages/requests/api.py:73\u001b[0m, in \u001b[0;36mget\u001b[0;34m(url, params, **kwargs)\u001b[0m\n\u001b[1;32m     62\u001b[0m \u001b[39mdef\u001b[39;00m \u001b[39mget\u001b[39m(url, params\u001b[39m=\u001b[39m\u001b[39mNone\u001b[39;00m, \u001b[39m*\u001b[39m\u001b[39m*\u001b[39mkwargs):\n\u001b[1;32m     63\u001b[0m     \u001b[39mr\u001b[39m\u001b[39m\"\"\"Sends a GET request.\u001b[39;00m\n\u001b[1;32m     64\u001b[0m \n\u001b[1;32m     65\u001b[0m \u001b[39m    :param url: URL for the new :class:`Request` object.\u001b[39;00m\n\u001b[0;32m   (...)\u001b[0m\n\u001b[1;32m     70\u001b[0m \u001b[39m    :rtype: requests.Response\u001b[39;00m\n\u001b[1;32m     71\u001b[0m \u001b[39m    \"\"\"\u001b[39;00m\n\u001b[0;32m---> 73\u001b[0m     \u001b[39mreturn\u001b[39;00m request(\u001b[39m\"\u001b[39;49m\u001b[39mget\u001b[39;49m\u001b[39m\"\u001b[39;49m, url, params\u001b[39m=\u001b[39;49mparams, \u001b[39m*\u001b[39;49m\u001b[39m*\u001b[39;49mkwargs)\n",
      "File \u001b[0;32m~/opt/anaconda3/envs/compsci/lib/python3.9/site-packages/requests/api.py:59\u001b[0m, in \u001b[0;36mrequest\u001b[0;34m(method, url, **kwargs)\u001b[0m\n\u001b[1;32m     55\u001b[0m \u001b[39m# By using the 'with' statement we are sure the session is closed, thus we\u001b[39;00m\n\u001b[1;32m     56\u001b[0m \u001b[39m# avoid leaving sockets open which can trigger a ResourceWarning in some\u001b[39;00m\n\u001b[1;32m     57\u001b[0m \u001b[39m# cases, and look like a memory leak in others.\u001b[39;00m\n\u001b[1;32m     58\u001b[0m \u001b[39mwith\u001b[39;00m sessions\u001b[39m.\u001b[39mSession() \u001b[39mas\u001b[39;00m session:\n\u001b[0;32m---> 59\u001b[0m     \u001b[39mreturn\u001b[39;00m session\u001b[39m.\u001b[39;49mrequest(method\u001b[39m=\u001b[39;49mmethod, url\u001b[39m=\u001b[39;49murl, \u001b[39m*\u001b[39;49m\u001b[39m*\u001b[39;49mkwargs)\n",
      "File \u001b[0;32m~/opt/anaconda3/envs/compsci/lib/python3.9/site-packages/requests/sessions.py:587\u001b[0m, in \u001b[0;36mSession.request\u001b[0;34m(self, method, url, params, data, headers, cookies, files, auth, timeout, allow_redirects, proxies, hooks, stream, verify, cert, json)\u001b[0m\n\u001b[1;32m    582\u001b[0m send_kwargs \u001b[39m=\u001b[39m {\n\u001b[1;32m    583\u001b[0m     \u001b[39m\"\u001b[39m\u001b[39mtimeout\u001b[39m\u001b[39m\"\u001b[39m: timeout,\n\u001b[1;32m    584\u001b[0m     \u001b[39m\"\u001b[39m\u001b[39mallow_redirects\u001b[39m\u001b[39m\"\u001b[39m: allow_redirects,\n\u001b[1;32m    585\u001b[0m }\n\u001b[1;32m    586\u001b[0m send_kwargs\u001b[39m.\u001b[39mupdate(settings)\n\u001b[0;32m--> 587\u001b[0m resp \u001b[39m=\u001b[39m \u001b[39mself\u001b[39;49m\u001b[39m.\u001b[39;49msend(prep, \u001b[39m*\u001b[39;49m\u001b[39m*\u001b[39;49msend_kwargs)\n\u001b[1;32m    589\u001b[0m \u001b[39mreturn\u001b[39;00m resp\n",
      "File \u001b[0;32m~/opt/anaconda3/envs/compsci/lib/python3.9/site-packages/requests/sessions.py:701\u001b[0m, in \u001b[0;36mSession.send\u001b[0;34m(self, request, **kwargs)\u001b[0m\n\u001b[1;32m    698\u001b[0m start \u001b[39m=\u001b[39m preferred_clock()\n\u001b[1;32m    700\u001b[0m \u001b[39m# Send the request\u001b[39;00m\n\u001b[0;32m--> 701\u001b[0m r \u001b[39m=\u001b[39m adapter\u001b[39m.\u001b[39;49msend(request, \u001b[39m*\u001b[39;49m\u001b[39m*\u001b[39;49mkwargs)\n\u001b[1;32m    703\u001b[0m \u001b[39m# Total elapsed time of the request (approximately)\u001b[39;00m\n\u001b[1;32m    704\u001b[0m elapsed \u001b[39m=\u001b[39m preferred_clock() \u001b[39m-\u001b[39m start\n",
      "File \u001b[0;32m~/opt/anaconda3/envs/compsci/lib/python3.9/site-packages/requests/adapters.py:489\u001b[0m, in \u001b[0;36mHTTPAdapter.send\u001b[0;34m(self, request, stream, timeout, verify, cert, proxies)\u001b[0m\n\u001b[1;32m    487\u001b[0m \u001b[39mtry\u001b[39;00m:\n\u001b[1;32m    488\u001b[0m     \u001b[39mif\u001b[39;00m \u001b[39mnot\u001b[39;00m chunked:\n\u001b[0;32m--> 489\u001b[0m         resp \u001b[39m=\u001b[39m conn\u001b[39m.\u001b[39;49murlopen(\n\u001b[1;32m    490\u001b[0m             method\u001b[39m=\u001b[39;49mrequest\u001b[39m.\u001b[39;49mmethod,\n\u001b[1;32m    491\u001b[0m             url\u001b[39m=\u001b[39;49murl,\n\u001b[1;32m    492\u001b[0m             body\u001b[39m=\u001b[39;49mrequest\u001b[39m.\u001b[39;49mbody,\n\u001b[1;32m    493\u001b[0m             headers\u001b[39m=\u001b[39;49mrequest\u001b[39m.\u001b[39;49mheaders,\n\u001b[1;32m    494\u001b[0m             redirect\u001b[39m=\u001b[39;49m\u001b[39mFalse\u001b[39;49;00m,\n\u001b[1;32m    495\u001b[0m             assert_same_host\u001b[39m=\u001b[39;49m\u001b[39mFalse\u001b[39;49;00m,\n\u001b[1;32m    496\u001b[0m             preload_content\u001b[39m=\u001b[39;49m\u001b[39mFalse\u001b[39;49;00m,\n\u001b[1;32m    497\u001b[0m             decode_content\u001b[39m=\u001b[39;49m\u001b[39mFalse\u001b[39;49;00m,\n\u001b[1;32m    498\u001b[0m             retries\u001b[39m=\u001b[39;49m\u001b[39mself\u001b[39;49m\u001b[39m.\u001b[39;49mmax_retries,\n\u001b[1;32m    499\u001b[0m             timeout\u001b[39m=\u001b[39;49mtimeout,\n\u001b[1;32m    500\u001b[0m         )\n\u001b[1;32m    502\u001b[0m     \u001b[39m# Send the request.\u001b[39;00m\n\u001b[1;32m    503\u001b[0m     \u001b[39melse\u001b[39;00m:\n\u001b[1;32m    504\u001b[0m         \u001b[39mif\u001b[39;00m \u001b[39mhasattr\u001b[39m(conn, \u001b[39m\"\u001b[39m\u001b[39mproxy_pool\u001b[39m\u001b[39m\"\u001b[39m):\n",
      "File \u001b[0;32m~/opt/anaconda3/envs/compsci/lib/python3.9/site-packages/urllib3/connectionpool.py:703\u001b[0m, in \u001b[0;36mHTTPConnectionPool.urlopen\u001b[0;34m(self, method, url, body, headers, retries, redirect, assert_same_host, timeout, pool_timeout, release_conn, chunked, body_pos, **response_kw)\u001b[0m\n\u001b[1;32m    700\u001b[0m     \u001b[39mself\u001b[39m\u001b[39m.\u001b[39m_prepare_proxy(conn)\n\u001b[1;32m    702\u001b[0m \u001b[39m# Make the request on the httplib connection object.\u001b[39;00m\n\u001b[0;32m--> 703\u001b[0m httplib_response \u001b[39m=\u001b[39m \u001b[39mself\u001b[39;49m\u001b[39m.\u001b[39;49m_make_request(\n\u001b[1;32m    704\u001b[0m     conn,\n\u001b[1;32m    705\u001b[0m     method,\n\u001b[1;32m    706\u001b[0m     url,\n\u001b[1;32m    707\u001b[0m     timeout\u001b[39m=\u001b[39;49mtimeout_obj,\n\u001b[1;32m    708\u001b[0m     body\u001b[39m=\u001b[39;49mbody,\n\u001b[1;32m    709\u001b[0m     headers\u001b[39m=\u001b[39;49mheaders,\n\u001b[1;32m    710\u001b[0m     chunked\u001b[39m=\u001b[39;49mchunked,\n\u001b[1;32m    711\u001b[0m )\n\u001b[1;32m    713\u001b[0m \u001b[39m# If we're going to release the connection in ``finally:``, then\u001b[39;00m\n\u001b[1;32m    714\u001b[0m \u001b[39m# the response doesn't need to know about the connection. Otherwise\u001b[39;00m\n\u001b[1;32m    715\u001b[0m \u001b[39m# it will also try to release it and we'll have a double-release\u001b[39;00m\n\u001b[1;32m    716\u001b[0m \u001b[39m# mess.\u001b[39;00m\n\u001b[1;32m    717\u001b[0m response_conn \u001b[39m=\u001b[39m conn \u001b[39mif\u001b[39;00m \u001b[39mnot\u001b[39;00m release_conn \u001b[39melse\u001b[39;00m \u001b[39mNone\u001b[39;00m\n",
      "File \u001b[0;32m~/opt/anaconda3/envs/compsci/lib/python3.9/site-packages/urllib3/connectionpool.py:386\u001b[0m, in \u001b[0;36mHTTPConnectionPool._make_request\u001b[0;34m(self, conn, method, url, timeout, chunked, **httplib_request_kw)\u001b[0m\n\u001b[1;32m    384\u001b[0m \u001b[39m# Trigger any extra validation we need to do.\u001b[39;00m\n\u001b[1;32m    385\u001b[0m \u001b[39mtry\u001b[39;00m:\n\u001b[0;32m--> 386\u001b[0m     \u001b[39mself\u001b[39;49m\u001b[39m.\u001b[39;49m_validate_conn(conn)\n\u001b[1;32m    387\u001b[0m \u001b[39mexcept\u001b[39;00m (SocketTimeout, BaseSSLError) \u001b[39mas\u001b[39;00m e:\n\u001b[1;32m    388\u001b[0m     \u001b[39m# Py2 raises this as a BaseSSLError, Py3 raises it as socket timeout.\u001b[39;00m\n\u001b[1;32m    389\u001b[0m     \u001b[39mself\u001b[39m\u001b[39m.\u001b[39m_raise_timeout(err\u001b[39m=\u001b[39me, url\u001b[39m=\u001b[39murl, timeout_value\u001b[39m=\u001b[39mconn\u001b[39m.\u001b[39mtimeout)\n",
      "File \u001b[0;32m~/opt/anaconda3/envs/compsci/lib/python3.9/site-packages/urllib3/connectionpool.py:1042\u001b[0m, in \u001b[0;36mHTTPSConnectionPool._validate_conn\u001b[0;34m(self, conn)\u001b[0m\n\u001b[1;32m   1040\u001b[0m \u001b[39m# Force connect early to allow us to validate the connection.\u001b[39;00m\n\u001b[1;32m   1041\u001b[0m \u001b[39mif\u001b[39;00m \u001b[39mnot\u001b[39;00m \u001b[39mgetattr\u001b[39m(conn, \u001b[39m\"\u001b[39m\u001b[39msock\u001b[39m\u001b[39m\"\u001b[39m, \u001b[39mNone\u001b[39;00m):  \u001b[39m# AppEngine might not have  `.sock`\u001b[39;00m\n\u001b[0;32m-> 1042\u001b[0m     conn\u001b[39m.\u001b[39;49mconnect()\n\u001b[1;32m   1044\u001b[0m \u001b[39mif\u001b[39;00m \u001b[39mnot\u001b[39;00m conn\u001b[39m.\u001b[39mis_verified:\n\u001b[1;32m   1045\u001b[0m     warnings\u001b[39m.\u001b[39mwarn(\n\u001b[1;32m   1046\u001b[0m         (\n\u001b[1;32m   1047\u001b[0m             \u001b[39m\"\u001b[39m\u001b[39mUnverified HTTPS request is being made to host \u001b[39m\u001b[39m'\u001b[39m\u001b[39m%s\u001b[39;00m\u001b[39m'\u001b[39m\u001b[39m. \u001b[39m\u001b[39m\"\u001b[39m\n\u001b[0;32m   (...)\u001b[0m\n\u001b[1;32m   1052\u001b[0m         InsecureRequestWarning,\n\u001b[1;32m   1053\u001b[0m     )\n",
      "File \u001b[0;32m~/opt/anaconda3/envs/compsci/lib/python3.9/site-packages/urllib3/connection.py:414\u001b[0m, in \u001b[0;36mHTTPSConnection.connect\u001b[0;34m(self)\u001b[0m\n\u001b[1;32m    405\u001b[0m \u001b[39mif\u001b[39;00m (\n\u001b[1;32m    406\u001b[0m     \u001b[39mnot\u001b[39;00m \u001b[39mself\u001b[39m\u001b[39m.\u001b[39mca_certs\n\u001b[1;32m    407\u001b[0m     \u001b[39mand\u001b[39;00m \u001b[39mnot\u001b[39;00m \u001b[39mself\u001b[39m\u001b[39m.\u001b[39mca_cert_dir\n\u001b[0;32m   (...)\u001b[0m\n\u001b[1;32m    410\u001b[0m     \u001b[39mand\u001b[39;00m \u001b[39mhasattr\u001b[39m(context, \u001b[39m\"\u001b[39m\u001b[39mload_default_certs\u001b[39m\u001b[39m\"\u001b[39m)\n\u001b[1;32m    411\u001b[0m ):\n\u001b[1;32m    412\u001b[0m     context\u001b[39m.\u001b[39mload_default_certs()\n\u001b[0;32m--> 414\u001b[0m \u001b[39mself\u001b[39m\u001b[39m.\u001b[39msock \u001b[39m=\u001b[39m ssl_wrap_socket(\n\u001b[1;32m    415\u001b[0m     sock\u001b[39m=\u001b[39;49mconn,\n\u001b[1;32m    416\u001b[0m     keyfile\u001b[39m=\u001b[39;49m\u001b[39mself\u001b[39;49m\u001b[39m.\u001b[39;49mkey_file,\n\u001b[1;32m    417\u001b[0m     certfile\u001b[39m=\u001b[39;49m\u001b[39mself\u001b[39;49m\u001b[39m.\u001b[39;49mcert_file,\n\u001b[1;32m    418\u001b[0m     key_password\u001b[39m=\u001b[39;49m\u001b[39mself\u001b[39;49m\u001b[39m.\u001b[39;49mkey_password,\n\u001b[1;32m    419\u001b[0m     ca_certs\u001b[39m=\u001b[39;49m\u001b[39mself\u001b[39;49m\u001b[39m.\u001b[39;49mca_certs,\n\u001b[1;32m    420\u001b[0m     ca_cert_dir\u001b[39m=\u001b[39;49m\u001b[39mself\u001b[39;49m\u001b[39m.\u001b[39;49mca_cert_dir,\n\u001b[1;32m    421\u001b[0m     ca_cert_data\u001b[39m=\u001b[39;49m\u001b[39mself\u001b[39;49m\u001b[39m.\u001b[39;49mca_cert_data,\n\u001b[1;32m    422\u001b[0m     server_hostname\u001b[39m=\u001b[39;49mserver_hostname,\n\u001b[1;32m    423\u001b[0m     ssl_context\u001b[39m=\u001b[39;49mcontext,\n\u001b[1;32m    424\u001b[0m     tls_in_tls\u001b[39m=\u001b[39;49mtls_in_tls,\n\u001b[1;32m    425\u001b[0m )\n\u001b[1;32m    427\u001b[0m \u001b[39m# If we're using all defaults and the connection\u001b[39;00m\n\u001b[1;32m    428\u001b[0m \u001b[39m# is TLSv1 or TLSv1.1 we throw a DeprecationWarning\u001b[39;00m\n\u001b[1;32m    429\u001b[0m \u001b[39m# for the host.\u001b[39;00m\n\u001b[1;32m    430\u001b[0m \u001b[39mif\u001b[39;00m (\n\u001b[1;32m    431\u001b[0m     default_ssl_context\n\u001b[1;32m    432\u001b[0m     \u001b[39mand\u001b[39;00m \u001b[39mself\u001b[39m\u001b[39m.\u001b[39mssl_version \u001b[39mis\u001b[39;00m \u001b[39mNone\u001b[39;00m\n\u001b[1;32m    433\u001b[0m     \u001b[39mand\u001b[39;00m \u001b[39mhasattr\u001b[39m(\u001b[39mself\u001b[39m\u001b[39m.\u001b[39msock, \u001b[39m\"\u001b[39m\u001b[39mversion\u001b[39m\u001b[39m\"\u001b[39m)\n\u001b[1;32m    434\u001b[0m     \u001b[39mand\u001b[39;00m \u001b[39mself\u001b[39m\u001b[39m.\u001b[39msock\u001b[39m.\u001b[39mversion() \u001b[39min\u001b[39;00m {\u001b[39m\"\u001b[39m\u001b[39mTLSv1\u001b[39m\u001b[39m\"\u001b[39m, \u001b[39m\"\u001b[39m\u001b[39mTLSv1.1\u001b[39m\u001b[39m\"\u001b[39m}\n\u001b[1;32m    435\u001b[0m ):\n",
      "File \u001b[0;32m~/opt/anaconda3/envs/compsci/lib/python3.9/site-packages/urllib3/util/ssl_.py:449\u001b[0m, in \u001b[0;36mssl_wrap_socket\u001b[0;34m(sock, keyfile, certfile, cert_reqs, ca_certs, server_hostname, ssl_version, ciphers, ssl_context, ca_cert_dir, key_password, ca_cert_data, tls_in_tls)\u001b[0m\n\u001b[1;32m    437\u001b[0m     warnings\u001b[39m.\u001b[39mwarn(\n\u001b[1;32m    438\u001b[0m         \u001b[39m\"\u001b[39m\u001b[39mAn HTTPS request has been made, but the SNI (Server Name \u001b[39m\u001b[39m\"\u001b[39m\n\u001b[1;32m    439\u001b[0m         \u001b[39m\"\u001b[39m\u001b[39mIndication) extension to TLS is not available on this platform. \u001b[39m\u001b[39m\"\u001b[39m\n\u001b[0;32m   (...)\u001b[0m\n\u001b[1;32m    445\u001b[0m         SNIMissingWarning,\n\u001b[1;32m    446\u001b[0m     )\n\u001b[1;32m    448\u001b[0m \u001b[39mif\u001b[39;00m send_sni:\n\u001b[0;32m--> 449\u001b[0m     ssl_sock \u001b[39m=\u001b[39m _ssl_wrap_socket_impl(\n\u001b[1;32m    450\u001b[0m         sock, context, tls_in_tls, server_hostname\u001b[39m=\u001b[39;49mserver_hostname\n\u001b[1;32m    451\u001b[0m     )\n\u001b[1;32m    452\u001b[0m \u001b[39melse\u001b[39;00m:\n\u001b[1;32m    453\u001b[0m     ssl_sock \u001b[39m=\u001b[39m _ssl_wrap_socket_impl(sock, context, tls_in_tls)\n",
      "File \u001b[0;32m~/opt/anaconda3/envs/compsci/lib/python3.9/site-packages/urllib3/util/ssl_.py:493\u001b[0m, in \u001b[0;36m_ssl_wrap_socket_impl\u001b[0;34m(sock, ssl_context, tls_in_tls, server_hostname)\u001b[0m\n\u001b[1;32m    490\u001b[0m     \u001b[39mreturn\u001b[39;00m SSLTransport(sock, ssl_context, server_hostname)\n\u001b[1;32m    492\u001b[0m \u001b[39mif\u001b[39;00m server_hostname:\n\u001b[0;32m--> 493\u001b[0m     \u001b[39mreturn\u001b[39;00m ssl_context\u001b[39m.\u001b[39;49mwrap_socket(sock, server_hostname\u001b[39m=\u001b[39;49mserver_hostname)\n\u001b[1;32m    494\u001b[0m \u001b[39melse\u001b[39;00m:\n\u001b[1;32m    495\u001b[0m     \u001b[39mreturn\u001b[39;00m ssl_context\u001b[39m.\u001b[39mwrap_socket(sock)\n",
      "File \u001b[0;32m~/opt/anaconda3/envs/compsci/lib/python3.9/ssl.py:501\u001b[0m, in \u001b[0;36mSSLContext.wrap_socket\u001b[0;34m(self, sock, server_side, do_handshake_on_connect, suppress_ragged_eofs, server_hostname, session)\u001b[0m\n\u001b[1;32m    495\u001b[0m \u001b[39mdef\u001b[39;00m \u001b[39mwrap_socket\u001b[39m(\u001b[39mself\u001b[39m, sock, server_side\u001b[39m=\u001b[39m\u001b[39mFalse\u001b[39;00m,\n\u001b[1;32m    496\u001b[0m                 do_handshake_on_connect\u001b[39m=\u001b[39m\u001b[39mTrue\u001b[39;00m,\n\u001b[1;32m    497\u001b[0m                 suppress_ragged_eofs\u001b[39m=\u001b[39m\u001b[39mTrue\u001b[39;00m,\n\u001b[1;32m    498\u001b[0m                 server_hostname\u001b[39m=\u001b[39m\u001b[39mNone\u001b[39;00m, session\u001b[39m=\u001b[39m\u001b[39mNone\u001b[39;00m):\n\u001b[1;32m    499\u001b[0m     \u001b[39m# SSLSocket class handles server_hostname encoding before it calls\u001b[39;00m\n\u001b[1;32m    500\u001b[0m     \u001b[39m# ctx._wrap_socket()\u001b[39;00m\n\u001b[0;32m--> 501\u001b[0m     \u001b[39mreturn\u001b[39;00m \u001b[39mself\u001b[39;49m\u001b[39m.\u001b[39;49msslsocket_class\u001b[39m.\u001b[39;49m_create(\n\u001b[1;32m    502\u001b[0m         sock\u001b[39m=\u001b[39;49msock,\n\u001b[1;32m    503\u001b[0m         server_side\u001b[39m=\u001b[39;49mserver_side,\n\u001b[1;32m    504\u001b[0m         do_handshake_on_connect\u001b[39m=\u001b[39;49mdo_handshake_on_connect,\n\u001b[1;32m    505\u001b[0m         suppress_ragged_eofs\u001b[39m=\u001b[39;49msuppress_ragged_eofs,\n\u001b[1;32m    506\u001b[0m         server_hostname\u001b[39m=\u001b[39;49mserver_hostname,\n\u001b[1;32m    507\u001b[0m         context\u001b[39m=\u001b[39;49m\u001b[39mself\u001b[39;49m,\n\u001b[1;32m    508\u001b[0m         session\u001b[39m=\u001b[39;49msession\n\u001b[1;32m    509\u001b[0m     )\n",
      "File \u001b[0;32m~/opt/anaconda3/envs/compsci/lib/python3.9/ssl.py:1041\u001b[0m, in \u001b[0;36mSSLSocket._create\u001b[0;34m(cls, sock, server_side, do_handshake_on_connect, suppress_ragged_eofs, server_hostname, context, session)\u001b[0m\n\u001b[1;32m   1038\u001b[0m         \u001b[39mif\u001b[39;00m timeout \u001b[39m==\u001b[39m \u001b[39m0.0\u001b[39m:\n\u001b[1;32m   1039\u001b[0m             \u001b[39m# non-blocking\u001b[39;00m\n\u001b[1;32m   1040\u001b[0m             \u001b[39mraise\u001b[39;00m \u001b[39mValueError\u001b[39;00m(\u001b[39m\"\u001b[39m\u001b[39mdo_handshake_on_connect should not be specified for non-blocking sockets\u001b[39m\u001b[39m\"\u001b[39m)\n\u001b[0;32m-> 1041\u001b[0m         \u001b[39mself\u001b[39;49m\u001b[39m.\u001b[39;49mdo_handshake()\n\u001b[1;32m   1042\u001b[0m \u001b[39mexcept\u001b[39;00m (\u001b[39mOSError\u001b[39;00m, \u001b[39mValueError\u001b[39;00m):\n\u001b[1;32m   1043\u001b[0m     \u001b[39mself\u001b[39m\u001b[39m.\u001b[39mclose()\n",
      "File \u001b[0;32m~/opt/anaconda3/envs/compsci/lib/python3.9/ssl.py:1310\u001b[0m, in \u001b[0;36mSSLSocket.do_handshake\u001b[0;34m(self, block)\u001b[0m\n\u001b[1;32m   1308\u001b[0m     \u001b[39mif\u001b[39;00m timeout \u001b[39m==\u001b[39m \u001b[39m0.0\u001b[39m \u001b[39mand\u001b[39;00m block:\n\u001b[1;32m   1309\u001b[0m         \u001b[39mself\u001b[39m\u001b[39m.\u001b[39msettimeout(\u001b[39mNone\u001b[39;00m)\n\u001b[0;32m-> 1310\u001b[0m     \u001b[39mself\u001b[39;49m\u001b[39m.\u001b[39;49m_sslobj\u001b[39m.\u001b[39;49mdo_handshake()\n\u001b[1;32m   1311\u001b[0m \u001b[39mfinally\u001b[39;00m:\n\u001b[1;32m   1312\u001b[0m     \u001b[39mself\u001b[39m\u001b[39m.\u001b[39msettimeout(timeout)\n",
      "\u001b[0;31mKeyboardInterrupt\u001b[0m: "
     ]
    }
   ],
   "source": [
    "# get pokemon abilities, types, egg groups, stats and evolutions\n",
    "\n",
    "for i, name in enumerate(pokemons):\n",
    "    r = requests.get('https://pokeapi.co/api/v2/pokemon/' + str(i+1)).json()\n",
    "    poke_dict['pokemon'].append(name)\n",
    "    poke_dict['abilities'].append([r['abilities'][j]['ability']['name'] for j in range(len(r['abilities']))])\n",
    "    poke_dict['types'].append([r['types'][i]['type']['name'] for i in range(len(r['types']))])\n",
    "    poke_dict['moves'].append([r['moves'][j]['move']['name'] for j in range(len(r['moves']))])\n",
    "    r = requests.get('https://pokeapi.co/api/v2/pokemon-species/' + str(i+1)).json()\n",
    "    poke_dict['egg_groups'].append([r['egg_groups'][j]['name'] for j in range(len(r['egg_groups']))])\n",
    "    poke_dict['pokedex_entry'].append(r['flavor_text_entries'][0]['flavor_text'].replace('\\n', ' ').replace('\\f', ' '))\n",
    "    "
   ]
  },
  {
   "cell_type": "code",
   "execution_count": 140,
   "metadata": {},
   "outputs": [],
   "source": [
    "r = requests.get('https://pokeapi.co/api/v2/pokemon/' + str(0+1)).json()\n"
   ]
  },
  {
   "cell_type": "code",
   "execution_count": 142,
   "metadata": {},
   "outputs": [],
   "source": [
    "poke_dict['abilities'].append([r['abilities'][i]['ability']['name'] for i in range(len(r['abilities']))])"
   ]
  },
  {
   "cell_type": "code",
   "execution_count": 143,
   "metadata": {},
   "outputs": [],
   "source": [
    "poke_dict['types'].append([r['types'][i]['type']['name'] for i in range(len(r['types']))])\n"
   ]
  },
  {
   "cell_type": "code",
   "execution_count": 152,
   "metadata": {},
   "outputs": [
    {
     "data": {
      "text/plain": [
       "{'pokemon': ['bulbasaur', 'ivysaur', 'venusaur', 'charmander', 'charmeleon'],\n",
       " 'abilities': [['overgrow', 'chlorophyll'],\n",
       "  ['overgrow', 'chlorophyll'],\n",
       "  ['overgrow', 'chlorophyll'],\n",
       "  ['blaze', 'solar-power'],\n",
       "  ['blaze', 'solar-power']],\n",
       " 'types': [['grass', 'poison'],\n",
       "  ['grass', 'poison'],\n",
       "  ['grass', 'poison'],\n",
       "  ['fire'],\n",
       "  ['fire']],\n",
       " 'egg_groups': [['monster', 'plant'],\n",
       "  ['monster', 'plant'],\n",
       "  ['monster', 'plant'],\n",
       "  ['monster', 'dragon'],\n",
       "  ['monster', 'dragon']],\n",
       " 'moves': [['razor-wind',\n",
       "   'swords-dance',\n",
       "   'cut',\n",
       "   'bind',\n",
       "   'vine-whip',\n",
       "   'headbutt',\n",
       "   'tackle',\n",
       "   'body-slam',\n",
       "   'take-down',\n",
       "   'double-edge',\n",
       "   'growl',\n",
       "   'strength',\n",
       "   'mega-drain',\n",
       "   'leech-seed',\n",
       "   'growth',\n",
       "   'razor-leaf',\n",
       "   'solar-beam',\n",
       "   'poison-powder',\n",
       "   'sleep-powder',\n",
       "   'petal-dance',\n",
       "   'string-shot',\n",
       "   'toxic',\n",
       "   'rage',\n",
       "   'mimic',\n",
       "   'double-team',\n",
       "   'defense-curl',\n",
       "   'light-screen',\n",
       "   'reflect',\n",
       "   'bide',\n",
       "   'sludge',\n",
       "   'skull-bash',\n",
       "   'amnesia',\n",
       "   'flash',\n",
       "   'rest',\n",
       "   'substitute',\n",
       "   'snore',\n",
       "   'curse',\n",
       "   'protect',\n",
       "   'sludge-bomb',\n",
       "   'mud-slap',\n",
       "   'outrage',\n",
       "   'giga-drain',\n",
       "   'endure',\n",
       "   'charm',\n",
       "   'false-swipe',\n",
       "   'swagger',\n",
       "   'fury-cutter',\n",
       "   'attract',\n",
       "   'sleep-talk',\n",
       "   'return',\n",
       "   'frustration',\n",
       "   'safeguard',\n",
       "   'sweet-scent',\n",
       "   'synthesis',\n",
       "   'hidden-power',\n",
       "   'sunny-day',\n",
       "   'rock-smash',\n",
       "   'facade',\n",
       "   'nature-power',\n",
       "   'helping-hand',\n",
       "   'ingrain',\n",
       "   'knock-off',\n",
       "   'secret-power',\n",
       "   'weather-ball',\n",
       "   'grass-whistle',\n",
       "   'bullet-seed',\n",
       "   'magical-leaf',\n",
       "   'natural-gift',\n",
       "   'worry-seed',\n",
       "   'seed-bomb',\n",
       "   'energy-ball',\n",
       "   'leaf-storm',\n",
       "   'power-whip',\n",
       "   'captivate',\n",
       "   'grass-knot',\n",
       "   'venoshock',\n",
       "   'round',\n",
       "   'echoed-voice',\n",
       "   'grass-pledge',\n",
       "   'work-up',\n",
       "   'grassy-terrain',\n",
       "   'confide',\n",
       "   'grassy-glide'],\n",
       "  ['swords-dance',\n",
       "   'cut',\n",
       "   'bind',\n",
       "   'vine-whip',\n",
       "   'headbutt',\n",
       "   'tackle',\n",
       "   'body-slam',\n",
       "   'take-down',\n",
       "   'double-edge',\n",
       "   'growl',\n",
       "   'strength',\n",
       "   'mega-drain',\n",
       "   'leech-seed',\n",
       "   'growth',\n",
       "   'razor-leaf',\n",
       "   'solar-beam',\n",
       "   'poison-powder',\n",
       "   'sleep-powder',\n",
       "   'string-shot',\n",
       "   'toxic',\n",
       "   'rage',\n",
       "   'mimic',\n",
       "   'double-team',\n",
       "   'defense-curl',\n",
       "   'light-screen',\n",
       "   'reflect',\n",
       "   'bide',\n",
       "   'amnesia',\n",
       "   'flash',\n",
       "   'rest',\n",
       "   'substitute',\n",
       "   'snore',\n",
       "   'curse',\n",
       "   'protect',\n",
       "   'sludge-bomb',\n",
       "   'mud-slap',\n",
       "   'outrage',\n",
       "   'giga-drain',\n",
       "   'endure',\n",
       "   'charm',\n",
       "   'false-swipe',\n",
       "   'swagger',\n",
       "   'fury-cutter',\n",
       "   'attract',\n",
       "   'sleep-talk',\n",
       "   'return',\n",
       "   'frustration',\n",
       "   'safeguard',\n",
       "   'sweet-scent',\n",
       "   'synthesis',\n",
       "   'hidden-power',\n",
       "   'sunny-day',\n",
       "   'rock-smash',\n",
       "   'facade',\n",
       "   'nature-power',\n",
       "   'helping-hand',\n",
       "   'knock-off',\n",
       "   'secret-power',\n",
       "   'weather-ball',\n",
       "   'bullet-seed',\n",
       "   'magical-leaf',\n",
       "   'natural-gift',\n",
       "   'worry-seed',\n",
       "   'seed-bomb',\n",
       "   'energy-ball',\n",
       "   'leaf-storm',\n",
       "   'power-whip',\n",
       "   'captivate',\n",
       "   'grass-knot',\n",
       "   'venoshock',\n",
       "   'round',\n",
       "   'echoed-voice',\n",
       "   'grass-pledge',\n",
       "   'work-up',\n",
       "   'grassy-terrain',\n",
       "   'confide',\n",
       "   'grassy-glide'],\n",
       "  ['swords-dance',\n",
       "   'cut',\n",
       "   'bind',\n",
       "   'vine-whip',\n",
       "   'headbutt',\n",
       "   'tackle',\n",
       "   'body-slam',\n",
       "   'take-down',\n",
       "   'double-edge',\n",
       "   'growl',\n",
       "   'roar',\n",
       "   'hyper-beam',\n",
       "   'strength',\n",
       "   'mega-drain',\n",
       "   'leech-seed',\n",
       "   'growth',\n",
       "   'razor-leaf',\n",
       "   'solar-beam',\n",
       "   'poison-powder',\n",
       "   'sleep-powder',\n",
       "   'petal-dance',\n",
       "   'string-shot',\n",
       "   'earthquake',\n",
       "   'toxic',\n",
       "   'rage',\n",
       "   'mimic',\n",
       "   'double-team',\n",
       "   'defense-curl',\n",
       "   'light-screen',\n",
       "   'reflect',\n",
       "   'bide',\n",
       "   'amnesia',\n",
       "   'flash',\n",
       "   'rest',\n",
       "   'substitute',\n",
       "   'snore',\n",
       "   'curse',\n",
       "   'protect',\n",
       "   'sludge-bomb',\n",
       "   'mud-slap',\n",
       "   'outrage',\n",
       "   'giga-drain',\n",
       "   'endure',\n",
       "   'charm',\n",
       "   'false-swipe',\n",
       "   'swagger',\n",
       "   'fury-cutter',\n",
       "   'attract',\n",
       "   'sleep-talk',\n",
       "   'return',\n",
       "   'frustration',\n",
       "   'safeguard',\n",
       "   'sweet-scent',\n",
       "   'synthesis',\n",
       "   'hidden-power',\n",
       "   'sunny-day',\n",
       "   'rock-smash',\n",
       "   'facade',\n",
       "   'nature-power',\n",
       "   'helping-hand',\n",
       "   'knock-off',\n",
       "   'secret-power',\n",
       "   'weather-ball',\n",
       "   'bullet-seed',\n",
       "   'block',\n",
       "   'frenzy-plant',\n",
       "   'magical-leaf',\n",
       "   'natural-gift',\n",
       "   'worry-seed',\n",
       "   'seed-bomb',\n",
       "   'energy-ball',\n",
       "   'earth-power',\n",
       "   'giga-impact',\n",
       "   'rock-climb',\n",
       "   'leaf-storm',\n",
       "   'power-whip',\n",
       "   'captivate',\n",
       "   'grass-knot',\n",
       "   'venoshock',\n",
       "   'round',\n",
       "   'echoed-voice',\n",
       "   'grass-pledge',\n",
       "   'bulldoze',\n",
       "   'work-up',\n",
       "   'petal-blizzard',\n",
       "   'grassy-terrain',\n",
       "   'confide',\n",
       "   'stomping-tantrum',\n",
       "   'grassy-glide',\n",
       "   'terrain-pulse'],\n",
       "  ['mega-punch',\n",
       "   'fire-punch',\n",
       "   'thunder-punch',\n",
       "   'scratch',\n",
       "   'swords-dance',\n",
       "   'cut',\n",
       "   'wing-attack',\n",
       "   'mega-kick',\n",
       "   'headbutt',\n",
       "   'body-slam',\n",
       "   'take-down',\n",
       "   'double-edge',\n",
       "   'leer',\n",
       "   'bite',\n",
       "   'growl',\n",
       "   'ember',\n",
       "   'flamethrower',\n",
       "   'submission',\n",
       "   'counter',\n",
       "   'seismic-toss',\n",
       "   'strength',\n",
       "   'dragon-rage',\n",
       "   'fire-spin',\n",
       "   'dig',\n",
       "   'toxic',\n",
       "   'rage',\n",
       "   'mimic',\n",
       "   'double-team',\n",
       "   'smokescreen',\n",
       "   'defense-curl',\n",
       "   'reflect',\n",
       "   'bide',\n",
       "   'fire-blast',\n",
       "   'swift',\n",
       "   'skull-bash',\n",
       "   'fury-swipes',\n",
       "   'rest',\n",
       "   'rock-slide',\n",
       "   'slash',\n",
       "   'substitute',\n",
       "   'snore',\n",
       "   'curse',\n",
       "   'protect',\n",
       "   'scary-face',\n",
       "   'belly-drum',\n",
       "   'mud-slap',\n",
       "   'outrage',\n",
       "   'endure',\n",
       "   'false-swipe',\n",
       "   'swagger',\n",
       "   'fury-cutter',\n",
       "   'attract',\n",
       "   'sleep-talk',\n",
       "   'return',\n",
       "   'frustration',\n",
       "   'dynamic-punch',\n",
       "   'dragon-breath',\n",
       "   'iron-tail',\n",
       "   'metal-claw',\n",
       "   'hidden-power',\n",
       "   'sunny-day',\n",
       "   'crunch',\n",
       "   'ancient-power',\n",
       "   'rock-smash',\n",
       "   'beat-up',\n",
       "   'heat-wave',\n",
       "   'will-o-wisp',\n",
       "   'facade',\n",
       "   'focus-punch',\n",
       "   'helping-hand',\n",
       "   'brick-break',\n",
       "   'secret-power',\n",
       "   'weather-ball',\n",
       "   'air-cutter',\n",
       "   'overheat',\n",
       "   'rock-tomb',\n",
       "   'aerial-ace',\n",
       "   'dragon-claw',\n",
       "   'dragon-dance',\n",
       "   'natural-gift',\n",
       "   'fling',\n",
       "   'flare-blitz',\n",
       "   'dragon-pulse',\n",
       "   'dragon-rush',\n",
       "   'focus-blast',\n",
       "   'shadow-claw',\n",
       "   'fire-fang',\n",
       "   'captivate',\n",
       "   'hone-claws',\n",
       "   'flame-burst',\n",
       "   'flame-charge',\n",
       "   'round',\n",
       "   'echoed-voice',\n",
       "   'incinerate',\n",
       "   'acrobatics',\n",
       "   'inferno',\n",
       "   'fire-pledge',\n",
       "   'dragon-tail',\n",
       "   'work-up',\n",
       "   'confide',\n",
       "   'power-up-punch',\n",
       "   'tera-blast'],\n",
       "  ['mega-punch',\n",
       "   'fire-punch',\n",
       "   'thunder-punch',\n",
       "   'scratch',\n",
       "   'swords-dance',\n",
       "   'cut',\n",
       "   'mega-kick',\n",
       "   'headbutt',\n",
       "   'body-slam',\n",
       "   'take-down',\n",
       "   'double-edge',\n",
       "   'leer',\n",
       "   'growl',\n",
       "   'ember',\n",
       "   'flamethrower',\n",
       "   'submission',\n",
       "   'counter',\n",
       "   'seismic-toss',\n",
       "   'strength',\n",
       "   'dragon-rage',\n",
       "   'fire-spin',\n",
       "   'dig',\n",
       "   'toxic',\n",
       "   'rage',\n",
       "   'mimic',\n",
       "   'double-team',\n",
       "   'smokescreen',\n",
       "   'defense-curl',\n",
       "   'reflect',\n",
       "   'bide',\n",
       "   'fire-blast',\n",
       "   'swift',\n",
       "   'skull-bash',\n",
       "   'fury-swipes',\n",
       "   'rest',\n",
       "   'rock-slide',\n",
       "   'slash',\n",
       "   'substitute',\n",
       "   'snore',\n",
       "   'curse',\n",
       "   'protect',\n",
       "   'scary-face',\n",
       "   'mud-slap',\n",
       "   'outrage',\n",
       "   'endure',\n",
       "   'false-swipe',\n",
       "   'swagger',\n",
       "   'fury-cutter',\n",
       "   'attract',\n",
       "   'sleep-talk',\n",
       "   'return',\n",
       "   'frustration',\n",
       "   'dynamic-punch',\n",
       "   'dragon-breath',\n",
       "   'iron-tail',\n",
       "   'metal-claw',\n",
       "   'hidden-power',\n",
       "   'sunny-day',\n",
       "   'crunch',\n",
       "   'rock-smash',\n",
       "   'beat-up',\n",
       "   'heat-wave',\n",
       "   'will-o-wisp',\n",
       "   'facade',\n",
       "   'focus-punch',\n",
       "   'helping-hand',\n",
       "   'brick-break',\n",
       "   'secret-power',\n",
       "   'weather-ball',\n",
       "   'overheat',\n",
       "   'rock-tomb',\n",
       "   'aerial-ace',\n",
       "   'dragon-claw',\n",
       "   'dragon-dance',\n",
       "   'natural-gift',\n",
       "   'fling',\n",
       "   'flare-blitz',\n",
       "   'dragon-pulse',\n",
       "   'shadow-claw',\n",
       "   'fire-fang',\n",
       "   'captivate',\n",
       "   'hone-claws',\n",
       "   'flame-burst',\n",
       "   'flame-charge',\n",
       "   'round',\n",
       "   'echoed-voice',\n",
       "   'incinerate',\n",
       "   'acrobatics',\n",
       "   'inferno',\n",
       "   'fire-pledge',\n",
       "   'dragon-tail',\n",
       "   'work-up',\n",
       "   'confide',\n",
       "   'power-up-punch',\n",
       "   'tera-blast']]}"
      ]
     },
     "execution_count": 152,
     "metadata": {},
     "output_type": "execute_result"
    }
   ],
   "source": [
    "poke_dict"
   ]
  },
  {
   "cell_type": "code",
   "execution_count": 38,
   "metadata": {},
   "outputs": [],
   "source": [
    "test2 = test.json()"
   ]
  },
  {
   "cell_type": "code",
   "execution_count": 44,
   "metadata": {},
   "outputs": [
    {
     "data": {
      "text/plain": [
       "dict_keys(['abilities', 'base_experience', 'forms', 'game_indices', 'height', 'held_items', 'id', 'is_default', 'location_area_encounters', 'moves', 'name', 'order', 'past_types', 'species', 'sprites', 'stats', 'types', 'weight'])"
      ]
     },
     "execution_count": 44,
     "metadata": {},
     "output_type": "execute_result"
    }
   ],
   "source": [
    "test2.keys()"
   ]
  },
  {
   "cell_type": "code",
   "execution_count": 52,
   "metadata": {},
   "outputs": [],
   "source": [
    "test2['moves']\n",
    "\n",
    "moves = []\n",
    "for i in range(len(test2['moves'])):\n",
    "    moves.append(test2['moves'][i]['move']['name'])"
   ]
  },
  {
   "cell_type": "code",
   "execution_count": 53,
   "metadata": {},
   "outputs": [
    {
     "data": {
      "text/plain": [
       "['razor-wind',\n",
       " 'swords-dance',\n",
       " 'cut',\n",
       " 'bind',\n",
       " 'vine-whip',\n",
       " 'headbutt',\n",
       " 'tackle',\n",
       " 'body-slam',\n",
       " 'take-down',\n",
       " 'double-edge',\n",
       " 'growl',\n",
       " 'strength',\n",
       " 'mega-drain',\n",
       " 'leech-seed',\n",
       " 'growth',\n",
       " 'razor-leaf',\n",
       " 'solar-beam',\n",
       " 'poison-powder',\n",
       " 'sleep-powder',\n",
       " 'petal-dance',\n",
       " 'string-shot',\n",
       " 'toxic',\n",
       " 'rage',\n",
       " 'mimic',\n",
       " 'double-team',\n",
       " 'defense-curl',\n",
       " 'light-screen',\n",
       " 'reflect',\n",
       " 'bide',\n",
       " 'sludge',\n",
       " 'skull-bash',\n",
       " 'amnesia',\n",
       " 'flash',\n",
       " 'rest',\n",
       " 'substitute',\n",
       " 'snore',\n",
       " 'curse',\n",
       " 'protect',\n",
       " 'sludge-bomb',\n",
       " 'mud-slap',\n",
       " 'outrage',\n",
       " 'giga-drain',\n",
       " 'endure',\n",
       " 'charm',\n",
       " 'false-swipe',\n",
       " 'swagger',\n",
       " 'fury-cutter',\n",
       " 'attract',\n",
       " 'sleep-talk',\n",
       " 'return',\n",
       " 'frustration',\n",
       " 'safeguard',\n",
       " 'sweet-scent',\n",
       " 'synthesis',\n",
       " 'hidden-power',\n",
       " 'sunny-day',\n",
       " 'rock-smash',\n",
       " 'facade',\n",
       " 'nature-power',\n",
       " 'helping-hand',\n",
       " 'ingrain',\n",
       " 'knock-off',\n",
       " 'secret-power',\n",
       " 'weather-ball',\n",
       " 'grass-whistle',\n",
       " 'bullet-seed',\n",
       " 'magical-leaf',\n",
       " 'natural-gift',\n",
       " 'worry-seed',\n",
       " 'seed-bomb',\n",
       " 'energy-ball',\n",
       " 'leaf-storm',\n",
       " 'power-whip',\n",
       " 'captivate',\n",
       " 'grass-knot',\n",
       " 'venoshock',\n",
       " 'round',\n",
       " 'echoed-voice',\n",
       " 'grass-pledge',\n",
       " 'work-up',\n",
       " 'grassy-terrain',\n",
       " 'confide',\n",
       " 'grassy-glide']"
      ]
     },
     "execution_count": 53,
     "metadata": {},
     "output_type": "execute_result"
    }
   ],
   "source": [
    "moves"
   ]
  },
  {
   "cell_type": "code",
   "execution_count": 169,
   "metadata": {},
   "outputs": [],
   "source": [
    "r = requests.get('https://pokeapi.co/api/v2/pokemon-species/' + str(0+1)).json()"
   ]
  },
  {
   "cell_type": "code",
   "execution_count": 177,
   "metadata": {},
   "outputs": [
    {
     "data": {
      "text/plain": [
       "'A strange seed was planted on its back at birth. The plant sprouts and grows with this POKéMON.'"
      ]
     },
     "execution_count": 177,
     "metadata": {},
     "output_type": "execute_result"
    }
   ],
   "source": [
    "r['flavor_text_entries'][0]['flavor_text'].replace('\\n', ' ').replace('\\f', ' ')"
   ]
  },
  {
   "cell_type": "code",
   "execution_count": 92,
   "metadata": {},
   "outputs": [
    {
     "data": {
      "text/plain": [
       "[{'name': 'monster', 'url': 'https://pokeapi.co/api/v2/egg-group/1/'},\n",
       " {'name': 'plant', 'url': 'https://pokeapi.co/api/v2/egg-group/7/'}]"
      ]
     },
     "execution_count": 92,
     "metadata": {},
     "output_type": "execute_result"
    }
   ],
   "source": [
    "evos2['egg_groups']"
   ]
  },
  {
   "cell_type": "code",
   "execution_count": 62,
   "metadata": {},
   "outputs": [],
   "source": [
    "hmm = requests.get('https://pokeapi.co/api/v2/evolution-chain/1/')"
   ]
  },
  {
   "cell_type": "code",
   "execution_count": 69,
   "metadata": {},
   "outputs": [
    {
     "data": {
      "text/plain": [
       "dict_keys(['evolution_details', 'evolves_to', 'is_baby', 'species'])"
      ]
     },
     "execution_count": 69,
     "metadata": {},
     "output_type": "execute_result"
    }
   ],
   "source": [
    "hmm.json()['chain'].keys()"
   ]
  },
  {
   "cell_type": "code",
   "execution_count": 71,
   "metadata": {},
   "outputs": [],
   "source": [
    "hmm2 = hmm.json()['chain']['evolves_to']"
   ]
  },
  {
   "cell_type": "code",
   "execution_count": 85,
   "metadata": {},
   "outputs": [
    {
     "data": {
      "text/plain": [
       "{'name': 'ivysaur', 'url': 'https://pokeapi.co/api/v2/pokemon-species/2/'}"
      ]
     },
     "execution_count": 85,
     "metadata": {},
     "output_type": "execute_result"
    }
   ],
   "source": [
    "hmm2[0]['species']"
   ]
  },
  {
   "cell_type": "code",
   "execution_count": 87,
   "metadata": {},
   "outputs": [
    {
     "data": {
      "text/plain": [
       "{'name': 'venusaur', 'url': 'https://pokeapi.co/api/v2/pokemon-species/3/'}"
      ]
     },
     "execution_count": 87,
     "metadata": {},
     "output_type": "execute_result"
    }
   ],
   "source": [
    "hmm2[0]['evolves_to'][0]['species']"
   ]
  },
  {
   "cell_type": "code",
   "execution_count": 90,
   "metadata": {},
   "outputs": [
    {
     "data": {
      "text/plain": [
       "dict_keys(['evolution_details', 'evolves_to', 'is_baby', 'species'])"
      ]
     },
     "execution_count": 90,
     "metadata": {},
     "output_type": "execute_result"
    }
   ],
   "source": [
    "hmm = requests.get('https://pokeapi.co/api/v2/evolution-chain/2/')\n",
    "hmm.json()['chain'].keys()"
   ]
  },
  {
   "cell_type": "code",
   "execution_count": 91,
   "metadata": {},
   "outputs": [
    {
     "data": {
      "text/plain": [
       "{'name': 'charmeleon', 'url': 'https://pokeapi.co/api/v2/pokemon-species/5/'}"
      ]
     },
     "execution_count": 91,
     "metadata": {},
     "output_type": "execute_result"
    }
   ],
   "source": [
    "hmm.json()['chain']['evolves_to'][0]['species']"
   ]
  },
  {
   "cell_type": "code",
   "execution_count": 109,
   "metadata": {},
   "outputs": [],
   "source": [
    "dex_test = requests.get('https://pokeapi.co/api/v2/pokemon-species/1/')"
   ]
  },
  {
   "cell_type": "code",
   "execution_count": 110,
   "metadata": {},
   "outputs": [],
   "source": [
    "dex_test2 = dex_test.json()"
   ]
  },
  {
   "cell_type": "code",
   "execution_count": 111,
   "metadata": {},
   "outputs": [
    {
     "data": {
      "text/plain": [
       "dict_keys(['base_happiness', 'capture_rate', 'color', 'egg_groups', 'evolution_chain', 'evolves_from_species', 'flavor_text_entries', 'form_descriptions', 'forms_switchable', 'gender_rate', 'genera', 'generation', 'growth_rate', 'habitat', 'has_gender_differences', 'hatch_counter', 'id', 'is_baby', 'is_legendary', 'is_mythical', 'name', 'names', 'order', 'pal_park_encounters', 'pokedex_numbers', 'shape', 'varieties'])"
      ]
     },
     "execution_count": 111,
     "metadata": {},
     "output_type": "execute_result"
    }
   ],
   "source": [
    "dex_test2.keys()"
   ]
  },
  {
   "cell_type": "code",
   "execution_count": 112,
   "metadata": {},
   "outputs": [
    {
     "data": {
      "text/plain": [
       "'A strange seed was\\nplanted on its\\nback at birth.\\x0cThe plant sprouts\\nand grows with\\nthis POKéMON.'"
      ]
     },
     "execution_count": 112,
     "metadata": {},
     "output_type": "execute_result"
    }
   ],
   "source": [
    "dex_test2['flavor_text_entries'][0]['flavor_text']"
   ]
  },
  {
   "cell_type": "code",
   "execution_count": null,
   "metadata": {},
   "outputs": [],
   "source": []
  }
 ],
 "metadata": {
  "kernelspec": {
   "display_name": "compsci",
   "language": "python",
   "name": "python3"
  },
  "language_info": {
   "codemirror_mode": {
    "name": "ipython",
    "version": 3
   },
   "file_extension": ".py",
   "mimetype": "text/x-python",
   "name": "python",
   "nbconvert_exporter": "python",
   "pygments_lexer": "ipython3",
   "version": "3.9.16"
  },
  "orig_nbformat": 4
 },
 "nbformat": 4,
 "nbformat_minor": 2
}
