{
 "cells": [
  {
   "cell_type": "code",
   "execution_count": 1,
   "metadata": {},
   "outputs": [],
   "source": [
    "import requests\n",
    "import pandas as pd\n",
    "import numpy as np\n",
    "import matplotlib.pyplot as plt\n",
    "import seaborn as sns\n",
    "from tqdm import tqdm\n",
    "import os\n",
    "import networkx as nx\n",
    "import pickle\n"
   ]
  },
  {
   "attachments": {},
   "cell_type": "markdown",
   "metadata": {},
   "source": [
    "### Initial data load\n",
    "\n",
    "First, we get the names of all the Pokémon, and append these to a list."
   ]
  },
  {
   "cell_type": "code",
   "execution_count": 2,
   "metadata": {},
   "outputs": [],
   "source": [
    "data = requests.get('https://pokeapi.co/api/v2/pokemon?limit=1000')"
   ]
  },
  {
   "cell_type": "code",
   "execution_count": 3,
   "metadata": {},
   "outputs": [],
   "source": [
    "data2 = data.json()"
   ]
  },
  {
   "cell_type": "code",
   "execution_count": 4,
   "metadata": {},
   "outputs": [],
   "source": [
    "data3 = data2['results']"
   ]
  },
  {
   "cell_type": "code",
   "execution_count": 5,
   "metadata": {},
   "outputs": [],
   "source": [
    "pokemons = []\n",
    "# get the name of the pokemon\n",
    "for i in range(len(data3)):\n",
    "    pokemons.append(data3[i]['name'])"
   ]
  },
  {
   "cell_type": "code",
   "execution_count": 6,
   "metadata": {},
   "outputs": [
    {
     "data": {
      "text/plain": [
       "['bulbasaur',\n",
       " 'ivysaur',\n",
       " 'venusaur',\n",
       " 'charmander',\n",
       " 'charmeleon',\n",
       " 'charizard',\n",
       " 'squirtle',\n",
       " 'wartortle',\n",
       " 'blastoise',\n",
       " 'caterpie',\n",
       " 'metapod',\n",
       " 'butterfree',\n",
       " 'weedle',\n",
       " 'kakuna',\n",
       " 'beedrill',\n",
       " 'pidgey',\n",
       " 'pidgeotto',\n",
       " 'pidgeot',\n",
       " 'rattata',\n",
       " 'raticate',\n",
       " 'spearow',\n",
       " 'fearow',\n",
       " 'ekans',\n",
       " 'arbok',\n",
       " 'pikachu',\n",
       " 'raichu',\n",
       " 'sandshrew',\n",
       " 'sandslash',\n",
       " 'nidoran-f',\n",
       " 'nidorina',\n",
       " 'nidoqueen',\n",
       " 'nidoran-m',\n",
       " 'nidorino',\n",
       " 'nidoking',\n",
       " 'clefairy',\n",
       " 'clefable',\n",
       " 'vulpix',\n",
       " 'ninetales',\n",
       " 'jigglypuff',\n",
       " 'wigglytuff',\n",
       " 'zubat',\n",
       " 'golbat',\n",
       " 'oddish',\n",
       " 'gloom',\n",
       " 'vileplume',\n",
       " 'paras',\n",
       " 'parasect',\n",
       " 'venonat',\n",
       " 'venomoth',\n",
       " 'diglett',\n",
       " 'dugtrio',\n",
       " 'meowth',\n",
       " 'persian',\n",
       " 'psyduck',\n",
       " 'golduck',\n",
       " 'mankey',\n",
       " 'primeape',\n",
       " 'growlithe',\n",
       " 'arcanine',\n",
       " 'poliwag',\n",
       " 'poliwhirl',\n",
       " 'poliwrath',\n",
       " 'abra',\n",
       " 'kadabra',\n",
       " 'alakazam',\n",
       " 'machop',\n",
       " 'machoke',\n",
       " 'machamp',\n",
       " 'bellsprout',\n",
       " 'weepinbell',\n",
       " 'victreebel',\n",
       " 'tentacool',\n",
       " 'tentacruel',\n",
       " 'geodude',\n",
       " 'graveler',\n",
       " 'golem',\n",
       " 'ponyta',\n",
       " 'rapidash',\n",
       " 'slowpoke',\n",
       " 'slowbro',\n",
       " 'magnemite',\n",
       " 'magneton',\n",
       " 'farfetchd',\n",
       " 'doduo',\n",
       " 'dodrio',\n",
       " 'seel',\n",
       " 'dewgong',\n",
       " 'grimer',\n",
       " 'muk',\n",
       " 'shellder',\n",
       " 'cloyster',\n",
       " 'gastly',\n",
       " 'haunter',\n",
       " 'gengar',\n",
       " 'onix',\n",
       " 'drowzee',\n",
       " 'hypno',\n",
       " 'krabby',\n",
       " 'kingler',\n",
       " 'voltorb',\n",
       " 'electrode',\n",
       " 'exeggcute',\n",
       " 'exeggutor',\n",
       " 'cubone',\n",
       " 'marowak',\n",
       " 'hitmonlee',\n",
       " 'hitmonchan',\n",
       " 'lickitung',\n",
       " 'koffing',\n",
       " 'weezing',\n",
       " 'rhyhorn',\n",
       " 'rhydon',\n",
       " 'chansey',\n",
       " 'tangela',\n",
       " 'kangaskhan',\n",
       " 'horsea',\n",
       " 'seadra',\n",
       " 'goldeen',\n",
       " 'seaking',\n",
       " 'staryu',\n",
       " 'starmie',\n",
       " 'mr-mime',\n",
       " 'scyther',\n",
       " 'jynx',\n",
       " 'electabuzz',\n",
       " 'magmar',\n",
       " 'pinsir',\n",
       " 'tauros',\n",
       " 'magikarp',\n",
       " 'gyarados',\n",
       " 'lapras',\n",
       " 'ditto',\n",
       " 'eevee',\n",
       " 'vaporeon',\n",
       " 'jolteon',\n",
       " 'flareon',\n",
       " 'porygon',\n",
       " 'omanyte',\n",
       " 'omastar',\n",
       " 'kabuto',\n",
       " 'kabutops',\n",
       " 'aerodactyl',\n",
       " 'snorlax',\n",
       " 'articuno',\n",
       " 'zapdos',\n",
       " 'moltres',\n",
       " 'dratini',\n",
       " 'dragonair',\n",
       " 'dragonite',\n",
       " 'mewtwo',\n",
       " 'mew',\n",
       " 'chikorita',\n",
       " 'bayleef',\n",
       " 'meganium',\n",
       " 'cyndaquil',\n",
       " 'quilava',\n",
       " 'typhlosion',\n",
       " 'totodile',\n",
       " 'croconaw',\n",
       " 'feraligatr',\n",
       " 'sentret',\n",
       " 'furret',\n",
       " 'hoothoot',\n",
       " 'noctowl',\n",
       " 'ledyba',\n",
       " 'ledian',\n",
       " 'spinarak',\n",
       " 'ariados',\n",
       " 'crobat',\n",
       " 'chinchou',\n",
       " 'lanturn',\n",
       " 'pichu',\n",
       " 'cleffa',\n",
       " 'igglybuff',\n",
       " 'togepi',\n",
       " 'togetic',\n",
       " 'natu',\n",
       " 'xatu',\n",
       " 'mareep',\n",
       " 'flaaffy',\n",
       " 'ampharos',\n",
       " 'bellossom',\n",
       " 'marill',\n",
       " 'azumarill',\n",
       " 'sudowoodo',\n",
       " 'politoed',\n",
       " 'hoppip',\n",
       " 'skiploom',\n",
       " 'jumpluff',\n",
       " 'aipom',\n",
       " 'sunkern',\n",
       " 'sunflora',\n",
       " 'yanma',\n",
       " 'wooper',\n",
       " 'quagsire',\n",
       " 'espeon',\n",
       " 'umbreon',\n",
       " 'murkrow',\n",
       " 'slowking',\n",
       " 'misdreavus',\n",
       " 'unown',\n",
       " 'wobbuffet',\n",
       " 'girafarig',\n",
       " 'pineco',\n",
       " 'forretress',\n",
       " 'dunsparce',\n",
       " 'gligar',\n",
       " 'steelix',\n",
       " 'snubbull',\n",
       " 'granbull',\n",
       " 'qwilfish',\n",
       " 'scizor',\n",
       " 'shuckle',\n",
       " 'heracross',\n",
       " 'sneasel',\n",
       " 'teddiursa',\n",
       " 'ursaring',\n",
       " 'slugma',\n",
       " 'magcargo',\n",
       " 'swinub',\n",
       " 'piloswine',\n",
       " 'corsola',\n",
       " 'remoraid',\n",
       " 'octillery',\n",
       " 'delibird',\n",
       " 'mantine',\n",
       " 'skarmory',\n",
       " 'houndour',\n",
       " 'houndoom',\n",
       " 'kingdra',\n",
       " 'phanpy',\n",
       " 'donphan',\n",
       " 'porygon2',\n",
       " 'stantler',\n",
       " 'smeargle',\n",
       " 'tyrogue',\n",
       " 'hitmontop',\n",
       " 'smoochum',\n",
       " 'elekid',\n",
       " 'magby',\n",
       " 'miltank',\n",
       " 'blissey',\n",
       " 'raikou',\n",
       " 'entei',\n",
       " 'suicune',\n",
       " 'larvitar',\n",
       " 'pupitar',\n",
       " 'tyranitar',\n",
       " 'lugia',\n",
       " 'ho-oh',\n",
       " 'celebi',\n",
       " 'treecko',\n",
       " 'grovyle',\n",
       " 'sceptile',\n",
       " 'torchic',\n",
       " 'combusken',\n",
       " 'blaziken',\n",
       " 'mudkip',\n",
       " 'marshtomp',\n",
       " 'swampert',\n",
       " 'poochyena',\n",
       " 'mightyena',\n",
       " 'zigzagoon',\n",
       " 'linoone',\n",
       " 'wurmple',\n",
       " 'silcoon',\n",
       " 'beautifly',\n",
       " 'cascoon',\n",
       " 'dustox',\n",
       " 'lotad',\n",
       " 'lombre',\n",
       " 'ludicolo',\n",
       " 'seedot',\n",
       " 'nuzleaf',\n",
       " 'shiftry',\n",
       " 'taillow',\n",
       " 'swellow',\n",
       " 'wingull',\n",
       " 'pelipper',\n",
       " 'ralts',\n",
       " 'kirlia',\n",
       " 'gardevoir',\n",
       " 'surskit',\n",
       " 'masquerain',\n",
       " 'shroomish',\n",
       " 'breloom',\n",
       " 'slakoth',\n",
       " 'vigoroth',\n",
       " 'slaking',\n",
       " 'nincada',\n",
       " 'ninjask',\n",
       " 'shedinja',\n",
       " 'whismur',\n",
       " 'loudred',\n",
       " 'exploud',\n",
       " 'makuhita',\n",
       " 'hariyama',\n",
       " 'azurill',\n",
       " 'nosepass',\n",
       " 'skitty',\n",
       " 'delcatty',\n",
       " 'sableye',\n",
       " 'mawile',\n",
       " 'aron',\n",
       " 'lairon',\n",
       " 'aggron',\n",
       " 'meditite',\n",
       " 'medicham',\n",
       " 'electrike',\n",
       " 'manectric',\n",
       " 'plusle',\n",
       " 'minun',\n",
       " 'volbeat',\n",
       " 'illumise',\n",
       " 'roselia',\n",
       " 'gulpin',\n",
       " 'swalot',\n",
       " 'carvanha',\n",
       " 'sharpedo',\n",
       " 'wailmer',\n",
       " 'wailord',\n",
       " 'numel',\n",
       " 'camerupt',\n",
       " 'torkoal',\n",
       " 'spoink',\n",
       " 'grumpig',\n",
       " 'spinda',\n",
       " 'trapinch',\n",
       " 'vibrava',\n",
       " 'flygon',\n",
       " 'cacnea',\n",
       " 'cacturne',\n",
       " 'swablu',\n",
       " 'altaria',\n",
       " 'zangoose',\n",
       " 'seviper',\n",
       " 'lunatone',\n",
       " 'solrock',\n",
       " 'barboach',\n",
       " 'whiscash',\n",
       " 'corphish',\n",
       " 'crawdaunt',\n",
       " 'baltoy',\n",
       " 'claydol',\n",
       " 'lileep',\n",
       " 'cradily',\n",
       " 'anorith',\n",
       " 'armaldo',\n",
       " 'feebas',\n",
       " 'milotic',\n",
       " 'castform',\n",
       " 'kecleon',\n",
       " 'shuppet',\n",
       " 'banette',\n",
       " 'duskull',\n",
       " 'dusclops',\n",
       " 'tropius',\n",
       " 'chimecho',\n",
       " 'absol',\n",
       " 'wynaut',\n",
       " 'snorunt',\n",
       " 'glalie',\n",
       " 'spheal',\n",
       " 'sealeo',\n",
       " 'walrein',\n",
       " 'clamperl',\n",
       " 'huntail',\n",
       " 'gorebyss',\n",
       " 'relicanth',\n",
       " 'luvdisc',\n",
       " 'bagon',\n",
       " 'shelgon',\n",
       " 'salamence',\n",
       " 'beldum',\n",
       " 'metang',\n",
       " 'metagross',\n",
       " 'regirock',\n",
       " 'regice',\n",
       " 'registeel',\n",
       " 'latias',\n",
       " 'latios',\n",
       " 'kyogre',\n",
       " 'groudon',\n",
       " 'rayquaza',\n",
       " 'jirachi',\n",
       " 'deoxys-normal',\n",
       " 'turtwig',\n",
       " 'grotle',\n",
       " 'torterra',\n",
       " 'chimchar',\n",
       " 'monferno',\n",
       " 'infernape',\n",
       " 'piplup',\n",
       " 'prinplup',\n",
       " 'empoleon',\n",
       " 'starly',\n",
       " 'staravia',\n",
       " 'staraptor',\n",
       " 'bidoof',\n",
       " 'bibarel',\n",
       " 'kricketot',\n",
       " 'kricketune',\n",
       " 'shinx',\n",
       " 'luxio',\n",
       " 'luxray',\n",
       " 'budew',\n",
       " 'roserade',\n",
       " 'cranidos',\n",
       " 'rampardos',\n",
       " 'shieldon',\n",
       " 'bastiodon',\n",
       " 'burmy',\n",
       " 'wormadam-plant',\n",
       " 'mothim',\n",
       " 'combee',\n",
       " 'vespiquen',\n",
       " 'pachirisu',\n",
       " 'buizel',\n",
       " 'floatzel',\n",
       " 'cherubi',\n",
       " 'cherrim',\n",
       " 'shellos',\n",
       " 'gastrodon',\n",
       " 'ambipom',\n",
       " 'drifloon',\n",
       " 'drifblim',\n",
       " 'buneary',\n",
       " 'lopunny',\n",
       " 'mismagius',\n",
       " 'honchkrow',\n",
       " 'glameow',\n",
       " 'purugly',\n",
       " 'chingling',\n",
       " 'stunky',\n",
       " 'skuntank',\n",
       " 'bronzor',\n",
       " 'bronzong',\n",
       " 'bonsly',\n",
       " 'mime-jr',\n",
       " 'happiny',\n",
       " 'chatot',\n",
       " 'spiritomb',\n",
       " 'gible',\n",
       " 'gabite',\n",
       " 'garchomp',\n",
       " 'munchlax',\n",
       " 'riolu',\n",
       " 'lucario',\n",
       " 'hippopotas',\n",
       " 'hippowdon',\n",
       " 'skorupi',\n",
       " 'drapion',\n",
       " 'croagunk',\n",
       " 'toxicroak',\n",
       " 'carnivine',\n",
       " 'finneon',\n",
       " 'lumineon',\n",
       " 'mantyke',\n",
       " 'snover',\n",
       " 'abomasnow',\n",
       " 'weavile',\n",
       " 'magnezone',\n",
       " 'lickilicky',\n",
       " 'rhyperior',\n",
       " 'tangrowth',\n",
       " 'electivire',\n",
       " 'magmortar',\n",
       " 'togekiss',\n",
       " 'yanmega',\n",
       " 'leafeon',\n",
       " 'glaceon',\n",
       " 'gliscor',\n",
       " 'mamoswine',\n",
       " 'porygon-z',\n",
       " 'gallade',\n",
       " 'probopass',\n",
       " 'dusknoir',\n",
       " 'froslass',\n",
       " 'rotom',\n",
       " 'uxie',\n",
       " 'mesprit',\n",
       " 'azelf',\n",
       " 'dialga',\n",
       " 'palkia',\n",
       " 'heatran',\n",
       " 'regigigas',\n",
       " 'giratina-altered',\n",
       " 'cresselia',\n",
       " 'phione',\n",
       " 'manaphy',\n",
       " 'darkrai',\n",
       " 'shaymin-land',\n",
       " 'arceus',\n",
       " 'victini',\n",
       " 'snivy',\n",
       " 'servine',\n",
       " 'serperior',\n",
       " 'tepig',\n",
       " 'pignite',\n",
       " 'emboar',\n",
       " 'oshawott',\n",
       " 'dewott',\n",
       " 'samurott',\n",
       " 'patrat',\n",
       " 'watchog',\n",
       " 'lillipup',\n",
       " 'herdier',\n",
       " 'stoutland',\n",
       " 'purrloin',\n",
       " 'liepard',\n",
       " 'pansage',\n",
       " 'simisage',\n",
       " 'pansear',\n",
       " 'simisear',\n",
       " 'panpour',\n",
       " 'simipour',\n",
       " 'munna',\n",
       " 'musharna',\n",
       " 'pidove',\n",
       " 'tranquill',\n",
       " 'unfezant',\n",
       " 'blitzle',\n",
       " 'zebstrika',\n",
       " 'roggenrola',\n",
       " 'boldore',\n",
       " 'gigalith',\n",
       " 'woobat',\n",
       " 'swoobat',\n",
       " 'drilbur',\n",
       " 'excadrill',\n",
       " 'audino',\n",
       " 'timburr',\n",
       " 'gurdurr',\n",
       " 'conkeldurr',\n",
       " 'tympole',\n",
       " 'palpitoad',\n",
       " 'seismitoad',\n",
       " 'throh',\n",
       " 'sawk',\n",
       " 'sewaddle',\n",
       " 'swadloon',\n",
       " 'leavanny',\n",
       " 'venipede',\n",
       " 'whirlipede',\n",
       " 'scolipede',\n",
       " 'cottonee',\n",
       " 'whimsicott',\n",
       " 'petilil',\n",
       " 'lilligant',\n",
       " 'basculin-red-striped',\n",
       " 'sandile',\n",
       " 'krokorok',\n",
       " 'krookodile',\n",
       " 'darumaka',\n",
       " 'darmanitan-standard',\n",
       " 'maractus',\n",
       " 'dwebble',\n",
       " 'crustle',\n",
       " 'scraggy',\n",
       " 'scrafty',\n",
       " 'sigilyph',\n",
       " 'yamask',\n",
       " 'cofagrigus',\n",
       " 'tirtouga',\n",
       " 'carracosta',\n",
       " 'archen',\n",
       " 'archeops',\n",
       " 'trubbish',\n",
       " 'garbodor',\n",
       " 'zorua',\n",
       " 'zoroark',\n",
       " 'minccino',\n",
       " 'cinccino',\n",
       " 'gothita',\n",
       " 'gothorita',\n",
       " 'gothitelle',\n",
       " 'solosis',\n",
       " 'duosion',\n",
       " 'reuniclus',\n",
       " 'ducklett',\n",
       " 'swanna',\n",
       " 'vanillite',\n",
       " 'vanillish',\n",
       " 'vanilluxe',\n",
       " 'deerling',\n",
       " 'sawsbuck',\n",
       " 'emolga',\n",
       " 'karrablast',\n",
       " 'escavalier',\n",
       " 'foongus',\n",
       " 'amoonguss',\n",
       " 'frillish',\n",
       " 'jellicent',\n",
       " 'alomomola',\n",
       " 'joltik',\n",
       " 'galvantula',\n",
       " 'ferroseed',\n",
       " 'ferrothorn',\n",
       " 'klink',\n",
       " 'klang',\n",
       " 'klinklang',\n",
       " 'tynamo',\n",
       " 'eelektrik',\n",
       " 'eelektross',\n",
       " 'elgyem',\n",
       " 'beheeyem',\n",
       " 'litwick',\n",
       " 'lampent',\n",
       " 'chandelure',\n",
       " 'axew',\n",
       " 'fraxure',\n",
       " 'haxorus',\n",
       " 'cubchoo',\n",
       " 'beartic',\n",
       " 'cryogonal',\n",
       " 'shelmet',\n",
       " 'accelgor',\n",
       " 'stunfisk',\n",
       " 'mienfoo',\n",
       " 'mienshao',\n",
       " 'druddigon',\n",
       " 'golett',\n",
       " 'golurk',\n",
       " 'pawniard',\n",
       " 'bisharp',\n",
       " 'bouffalant',\n",
       " 'rufflet',\n",
       " 'braviary',\n",
       " 'vullaby',\n",
       " 'mandibuzz',\n",
       " 'heatmor',\n",
       " 'durant',\n",
       " 'deino',\n",
       " 'zweilous',\n",
       " 'hydreigon',\n",
       " 'larvesta',\n",
       " 'volcarona',\n",
       " 'cobalion',\n",
       " 'terrakion',\n",
       " 'virizion',\n",
       " 'tornadus-incarnate',\n",
       " 'thundurus-incarnate',\n",
       " 'reshiram',\n",
       " 'zekrom',\n",
       " 'landorus-incarnate',\n",
       " 'kyurem',\n",
       " 'keldeo-ordinary',\n",
       " 'meloetta-aria',\n",
       " 'genesect',\n",
       " 'chespin',\n",
       " 'quilladin',\n",
       " 'chesnaught',\n",
       " 'fennekin',\n",
       " 'braixen',\n",
       " 'delphox',\n",
       " 'froakie',\n",
       " 'frogadier',\n",
       " 'greninja',\n",
       " 'bunnelby',\n",
       " 'diggersby',\n",
       " 'fletchling',\n",
       " 'fletchinder',\n",
       " 'talonflame',\n",
       " 'scatterbug',\n",
       " 'spewpa',\n",
       " 'vivillon',\n",
       " 'litleo',\n",
       " 'pyroar',\n",
       " 'flabebe',\n",
       " 'floette',\n",
       " 'florges',\n",
       " 'skiddo',\n",
       " 'gogoat',\n",
       " 'pancham',\n",
       " 'pangoro',\n",
       " 'furfrou',\n",
       " 'espurr',\n",
       " 'meowstic-male',\n",
       " 'honedge',\n",
       " 'doublade',\n",
       " 'aegislash-shield',\n",
       " 'spritzee',\n",
       " 'aromatisse',\n",
       " 'swirlix',\n",
       " 'slurpuff',\n",
       " 'inkay',\n",
       " 'malamar',\n",
       " 'binacle',\n",
       " 'barbaracle',\n",
       " 'skrelp',\n",
       " 'dragalge',\n",
       " 'clauncher',\n",
       " 'clawitzer',\n",
       " 'helioptile',\n",
       " 'heliolisk',\n",
       " 'tyrunt',\n",
       " 'tyrantrum',\n",
       " 'amaura',\n",
       " 'aurorus',\n",
       " 'sylveon',\n",
       " 'hawlucha',\n",
       " 'dedenne',\n",
       " 'carbink',\n",
       " 'goomy',\n",
       " 'sliggoo',\n",
       " 'goodra',\n",
       " 'klefki',\n",
       " 'phantump',\n",
       " 'trevenant',\n",
       " 'pumpkaboo-average',\n",
       " 'gourgeist-average',\n",
       " 'bergmite',\n",
       " 'avalugg',\n",
       " 'noibat',\n",
       " 'noivern',\n",
       " 'xerneas',\n",
       " 'yveltal',\n",
       " 'zygarde-50',\n",
       " 'diancie',\n",
       " 'hoopa',\n",
       " 'volcanion',\n",
       " 'rowlet',\n",
       " 'dartrix',\n",
       " 'decidueye',\n",
       " 'litten',\n",
       " 'torracat',\n",
       " 'incineroar',\n",
       " 'popplio',\n",
       " 'brionne',\n",
       " 'primarina',\n",
       " 'pikipek',\n",
       " 'trumbeak',\n",
       " 'toucannon',\n",
       " 'yungoos',\n",
       " 'gumshoos',\n",
       " 'grubbin',\n",
       " 'charjabug',\n",
       " 'vikavolt',\n",
       " 'crabrawler',\n",
       " 'crabominable',\n",
       " 'oricorio-baile',\n",
       " 'cutiefly',\n",
       " 'ribombee',\n",
       " 'rockruff',\n",
       " 'lycanroc-midday',\n",
       " 'wishiwashi-solo',\n",
       " 'mareanie',\n",
       " 'toxapex',\n",
       " 'mudbray',\n",
       " 'mudsdale',\n",
       " 'dewpider',\n",
       " 'araquanid',\n",
       " 'fomantis',\n",
       " 'lurantis',\n",
       " 'morelull',\n",
       " 'shiinotic',\n",
       " 'salandit',\n",
       " 'salazzle',\n",
       " 'stufful',\n",
       " 'bewear',\n",
       " 'bounsweet',\n",
       " 'steenee',\n",
       " 'tsareena',\n",
       " 'comfey',\n",
       " 'oranguru',\n",
       " 'passimian',\n",
       " 'wimpod',\n",
       " 'golisopod',\n",
       " 'sandygast',\n",
       " 'palossand',\n",
       " 'pyukumuku',\n",
       " 'type-null',\n",
       " 'silvally',\n",
       " 'minior-red-meteor',\n",
       " 'komala',\n",
       " 'turtonator',\n",
       " 'togedemaru',\n",
       " 'mimikyu-disguised',\n",
       " 'bruxish',\n",
       " 'drampa',\n",
       " 'dhelmise',\n",
       " 'jangmo-o',\n",
       " 'hakamo-o',\n",
       " 'kommo-o',\n",
       " 'tapu-koko',\n",
       " 'tapu-lele',\n",
       " 'tapu-bulu',\n",
       " 'tapu-fini',\n",
       " 'cosmog',\n",
       " 'cosmoem',\n",
       " 'solgaleo',\n",
       " 'lunala',\n",
       " 'nihilego',\n",
       " 'buzzwole',\n",
       " 'pheromosa',\n",
       " 'xurkitree',\n",
       " 'celesteela',\n",
       " 'kartana',\n",
       " 'guzzlord',\n",
       " 'necrozma',\n",
       " 'magearna',\n",
       " 'marshadow',\n",
       " 'poipole',\n",
       " 'naganadel',\n",
       " 'stakataka',\n",
       " 'blacephalon',\n",
       " 'zeraora',\n",
       " 'meltan',\n",
       " 'melmetal',\n",
       " 'grookey',\n",
       " 'thwackey',\n",
       " 'rillaboom',\n",
       " 'scorbunny',\n",
       " 'raboot',\n",
       " 'cinderace',\n",
       " 'sobble',\n",
       " 'drizzile',\n",
       " 'inteleon',\n",
       " 'skwovet',\n",
       " 'greedent',\n",
       " 'rookidee',\n",
       " 'corvisquire',\n",
       " 'corviknight',\n",
       " 'blipbug',\n",
       " 'dottler',\n",
       " 'orbeetle',\n",
       " 'nickit',\n",
       " 'thievul',\n",
       " 'gossifleur',\n",
       " 'eldegoss',\n",
       " 'wooloo',\n",
       " 'dubwool',\n",
       " 'chewtle',\n",
       " 'drednaw',\n",
       " 'yamper',\n",
       " 'boltund',\n",
       " 'rolycoly',\n",
       " 'carkol',\n",
       " 'coalossal',\n",
       " 'applin',\n",
       " 'flapple',\n",
       " 'appletun',\n",
       " 'silicobra',\n",
       " 'sandaconda',\n",
       " 'cramorant',\n",
       " 'arrokuda',\n",
       " 'barraskewda',\n",
       " 'toxel',\n",
       " 'toxtricity-amped',\n",
       " 'sizzlipede',\n",
       " 'centiskorch',\n",
       " 'clobbopus',\n",
       " 'grapploct',\n",
       " 'sinistea',\n",
       " 'polteageist',\n",
       " 'hatenna',\n",
       " 'hattrem',\n",
       " 'hatterene',\n",
       " 'impidimp',\n",
       " 'morgrem',\n",
       " 'grimmsnarl',\n",
       " 'obstagoon',\n",
       " 'perrserker',\n",
       " 'cursola',\n",
       " 'sirfetchd',\n",
       " 'mr-rime',\n",
       " 'runerigus',\n",
       " 'milcery',\n",
       " 'alcremie',\n",
       " 'falinks',\n",
       " 'pincurchin',\n",
       " 'snom',\n",
       " 'frosmoth',\n",
       " 'stonjourner',\n",
       " 'eiscue-ice',\n",
       " 'indeedee-male',\n",
       " 'morpeko-full-belly',\n",
       " 'cufant',\n",
       " 'copperajah',\n",
       " 'dracozolt',\n",
       " 'arctozolt',\n",
       " 'dracovish',\n",
       " 'arctovish',\n",
       " 'duraludon',\n",
       " 'dreepy',\n",
       " 'drakloak',\n",
       " 'dragapult',\n",
       " 'zacian',\n",
       " 'zamazenta',\n",
       " 'eternatus',\n",
       " 'kubfu',\n",
       " 'urshifu-single-strike',\n",
       " 'zarude',\n",
       " 'regieleki',\n",
       " 'regidrago',\n",
       " 'glastrier',\n",
       " 'spectrier',\n",
       " 'calyrex',\n",
       " 'wyrdeer',\n",
       " 'kleavor',\n",
       " 'ursaluna',\n",
       " 'basculegion-male',\n",
       " 'sneasler',\n",
       " 'overqwil',\n",
       " 'enamorus-incarnate',\n",
       " 'sprigatito',\n",
       " 'floragato',\n",
       " 'meowscarada',\n",
       " 'fuecoco',\n",
       " 'crocalor',\n",
       " 'skeledirge',\n",
       " 'quaxly',\n",
       " 'quaxwell',\n",
       " 'quaquaval',\n",
       " 'lechonk',\n",
       " 'oinkologne',\n",
       " 'tarountula',\n",
       " 'spidops',\n",
       " 'nymble',\n",
       " 'lokix',\n",
       " 'pawmi',\n",
       " 'pawmo',\n",
       " 'pawmot',\n",
       " 'tandemaus',\n",
       " 'maushold',\n",
       " 'fidough',\n",
       " 'dachsbun',\n",
       " 'smoliv',\n",
       " 'dolliv',\n",
       " 'arboliva',\n",
       " 'squawkabilly',\n",
       " 'nacli',\n",
       " 'naclstack',\n",
       " 'garganacl',\n",
       " 'charcadet',\n",
       " 'armarouge',\n",
       " 'ceruledge',\n",
       " 'tadbulb',\n",
       " 'bellibolt',\n",
       " 'wattrel',\n",
       " 'kilowattrel',\n",
       " 'maschiff',\n",
       " 'mabosstiff',\n",
       " 'shroodle',\n",
       " 'grafaiai',\n",
       " 'bramblin',\n",
       " 'brambleghast',\n",
       " 'toedscool',\n",
       " 'toedscruel',\n",
       " 'klawf',\n",
       " 'capsakid',\n",
       " 'scovillain',\n",
       " 'rellor',\n",
       " 'rabsca',\n",
       " 'flittle',\n",
       " 'espathra',\n",
       " 'tinkatink',\n",
       " 'tinkatuff',\n",
       " 'tinkaton',\n",
       " 'wiglett',\n",
       " 'wugtrio',\n",
       " 'bombirdier',\n",
       " 'finizen',\n",
       " 'palafin',\n",
       " 'varoom',\n",
       " 'revavroom',\n",
       " 'cyclizar',\n",
       " 'orthworm',\n",
       " 'glimmet',\n",
       " 'glimmora',\n",
       " 'greavard',\n",
       " 'houndstone',\n",
       " 'flamigo',\n",
       " 'cetoddle',\n",
       " 'cetitan',\n",
       " 'veluza',\n",
       " 'dondozo',\n",
       " 'tatsugiri',\n",
       " 'annihilape',\n",
       " 'clodsire',\n",
       " 'farigiraf',\n",
       " 'dudunsparce',\n",
       " 'kingambit',\n",
       " 'great-tusk',\n",
       " 'scream-tail',\n",
       " 'brute-bonnet',\n",
       " 'flutter-mane',\n",
       " 'slither-wing',\n",
       " 'sandy-shocks',\n",
       " 'iron-treads',\n",
       " 'iron-bundle',\n",
       " 'iron-hands',\n",
       " 'iron-jugulis',\n",
       " 'iron-moth',\n",
       " 'iron-thorns',\n",
       " 'frigibax',\n",
       " 'arctibax',\n",
       " 'baxcalibur',\n",
       " 'gimmighoul',\n",
       " 'gholdengo']"
      ]
     },
     "execution_count": 6,
     "metadata": {},
     "output_type": "execute_result"
    }
   ],
   "source": [
    "pokemons"
   ]
  },
  {
   "attachments": {},
   "cell_type": "markdown",
   "metadata": {},
   "source": [
    "### Data Set Creation\n",
    "\n",
    "Second, we must request the API for each Pokémon, to get the abilities, types, egg groups, moves and Pokédex entries."
   ]
  },
  {
   "cell_type": "code",
   "execution_count": 7,
   "metadata": {},
   "outputs": [],
   "source": [
    "def data_scrape():\n",
    "    temp_dict = {\n",
    "        'pokemon': [],\n",
    "        'abilities': [], \n",
    "        'types': [], \n",
    "        'egg_groups': [], \n",
    "        'moves': [],\n",
    "        'pokedex_entry': []\n",
    "    }\n",
    "    \n",
    "    for i, name in tqdm(enumerate(pokemons)):\n",
    "        r = requests.get('https://pokeapi.co/api/v2/pokemon/' + str(i+1)).json()\n",
    "        # append the name of the pokemon\n",
    "        temp_dict['pokemon'].append(name)\n",
    "\n",
    "        # append the abilities of the pokemon\n",
    "        abilities = [r['abilities'][j]['ability']['name'] for j in range(len(r['abilities']))]\n",
    "        temp_dict['abilities'].append(abilities)\n",
    "\n",
    "        # append the types of the pokemon\n",
    "        types = [r['types'][i]['type']['name'] for i in range(len(r['types']))]\n",
    "        temp_dict['types'].append(types)\n",
    "\n",
    "        # append the moves of the pokemon\n",
    "        moves = [r['moves'][j]['move']['name'] for j in range(len(r['moves']))]\n",
    "        temp_dict['moves'].append(moves)\n",
    "\n",
    "        # make new request to get the egg groups and pokedex entry\n",
    "        r = requests.get('https://pokeapi.co/api/v2/pokemon-species/' + str(i+1)).json()\n",
    "\n",
    "        # append the egg groups of the pokemon\n",
    "        egg_groups = [r['egg_groups'][j]['name'] for j in range(len(r['egg_groups']))]\n",
    "        temp_dict['egg_groups'].append(egg_groups)\n",
    "\n",
    "        # append the pokedex entry of the pokemon\n",
    "        entry = r['flavor_text_entries'][0]['flavor_text'].replace('\\n', ' ').replace('\\f', ' ') if len(r['flavor_text_entries']) > 0 else None\n",
    "        temp_dict['pokedex_entry'].append(entry)\n",
    "        \n",
    "\n",
    "    print('Done!')\n",
    "\n",
    "    return temp_dict\n",
    "    "
   ]
  },
  {
   "cell_type": "code",
   "execution_count": 8,
   "metadata": {},
   "outputs": [],
   "source": [
    "if not os.path.exists('pokemon.pickle'):     \n",
    "    print('Scraping data...')\n",
    "    poke_dict = data_scrape()\n"
   ]
  },
  {
   "attachments": {},
   "cell_type": "markdown",
   "metadata": {},
   "source": [
    "### Make the dataframe"
   ]
  },
  {
   "cell_type": "code",
   "execution_count": 9,
   "metadata": {},
   "outputs": [
    {
     "name": "stdout",
     "output_type": "stream",
     "text": [
      "<class 'pandas.core.frame.DataFrame'>\n",
      "RangeIndex: 1000 entries, 0 to 999\n",
      "Data columns (total 6 columns):\n",
      " #   Column         Non-Null Count  Dtype \n",
      "---  ------         --------------  ----- \n",
      " 0   pokemon        1000 non-null   object\n",
      " 1   abilities      1000 non-null   object\n",
      " 2   types          1000 non-null   object\n",
      " 3   egg_groups     1000 non-null   object\n",
      " 4   moves          1000 non-null   object\n",
      " 5   pokedex_entry  905 non-null    object\n",
      "dtypes: object(6)\n",
      "memory usage: 47.0+ KB\n"
     ]
    }
   ],
   "source": [
    "poke_df = pd.DataFrame(poke_dict) if not os.path.exists('pokemon.pickle') else pd.read_pickle('pokemon.pickle')\n",
    "\n",
    "poke_df.info()"
   ]
  },
  {
   "cell_type": "code",
   "execution_count": 10,
   "metadata": {},
   "outputs": [
    {
     "name": "stdout",
     "output_type": "stream",
     "text": [
      "File already exists\n"
     ]
    }
   ],
   "source": [
    "# save to pickle\n",
    "poke_df.to_pickle('pokemon.pickle') if not os.path.exists('pokemon.pickle') else print('File already exists')"
   ]
  },
  {
   "cell_type": "code",
   "execution_count": 11,
   "metadata": {},
   "outputs": [
    {
     "name": "stderr",
     "output_type": "stream",
     "text": [
      "/var/folders/zb/r3t36n8x4yxdbb4wy91dghwc0000gn/T/ipykernel_86698/4214421345.py:3: SettingWithCopyWarning: \n",
      "A value is trying to be set on a copy of a slice from a DataFrame.\n",
      "Try using .loc[row_indexer,col_indexer] = value instead\n",
      "\n",
      "See the caveats in the documentation: https://pandas.pydata.org/pandas-docs/stable/user_guide/indexing.html#returning-a-view-versus-a-copy\n",
      "  poke_df_clean['pokemon'] = poke_df_clean['pokemon'].str.capitalize()\n"
     ]
    }
   ],
   "source": [
    "# Remove null values\n",
    "poke_df_clean = poke_df.dropna()\n",
    "poke_df_clean['pokemon'] = poke_df_clean['pokemon'].str.capitalize()"
   ]
  },
  {
   "cell_type": "code",
   "execution_count": 12,
   "metadata": {},
   "outputs": [
    {
     "name": "stdout",
     "output_type": "stream",
     "text": [
      "<class 'pandas.core.frame.DataFrame'>\n",
      "Int64Index: 905 entries, 0 to 904\n",
      "Data columns (total 6 columns):\n",
      " #   Column         Non-Null Count  Dtype \n",
      "---  ------         --------------  ----- \n",
      " 0   pokemon        905 non-null    object\n",
      " 1   abilities      905 non-null    object\n",
      " 2   types          905 non-null    object\n",
      " 3   egg_groups     905 non-null    object\n",
      " 4   moves          905 non-null    object\n",
      " 5   pokedex_entry  905 non-null    object\n",
      "dtypes: object(6)\n",
      "memory usage: 49.5+ KB\n"
     ]
    }
   ],
   "source": [
    "poke_df_clean.info()"
   ]
  },
  {
   "cell_type": "code",
   "execution_count": 13,
   "metadata": {},
   "outputs": [
    {
     "name": "stdout",
     "output_type": "stream",
     "text": [
      "File already exists\n"
     ]
    }
   ],
   "source": [
    "# save to csv again\n",
    "poke_df_clean.to_pickle('pokemon_clean.pickle') if not os.path.exists('pokemon_clean.pickle') else print('File already exists')"
   ]
  },
  {
   "cell_type": "code",
   "execution_count": 14,
   "metadata": {},
   "outputs": [
    {
     "data": {
      "text/plain": [
       "Index(['pokemon', 'abilities', 'types', 'egg_groups', 'moves',\n",
       "       'pokedex_entry'],\n",
       "      dtype='object')"
      ]
     },
     "execution_count": 14,
     "metadata": {},
     "output_type": "execute_result"
    }
   ],
   "source": [
    "poke_df_clean.columns"
   ]
  },
  {
   "attachments": {},
   "cell_type": "markdown",
   "metadata": {},
   "source": [
    "First, we get all the unique abilities, types, egg groups and moves."
   ]
  },
  {
   "cell_type": "code",
   "execution_count": 15,
   "metadata": {},
   "outputs": [],
   "source": [
    "def find_unique(df, col):\n",
    "    vals = df[col].values\n",
    "    all_vals = [item for sublist in vals for item in sublist]\n",
    "    unique_vals = list(set(all_vals))\n",
    "    return unique_vals"
   ]
  },
  {
   "cell_type": "code",
   "execution_count": 16,
   "metadata": {},
   "outputs": [],
   "source": [
    "unique_abilities = find_unique(poke_df_clean, 'abilities')\n",
    "unique_types = find_unique(poke_df_clean, 'types')\n",
    "unique_egg_groups = find_unique(poke_df_clean, 'egg_groups')\n",
    "unique_moves = find_unique(poke_df_clean, 'moves')"
   ]
  },
  {
   "cell_type": "code",
   "execution_count": 17,
   "metadata": {},
   "outputs": [
    {
     "name": "stdout",
     "output_type": "stream",
     "text": [
      "Number of unique abilities:  249\n",
      "Number of unique types:  18\n",
      "Number of unique egg groups:  15\n",
      "Number of unique moves:  747\n"
     ]
    }
   ],
   "source": [
    "print('Number of unique abilities: ', len(unique_abilities))\n",
    "print('Number of unique types: ', len(unique_types))\n",
    "print('Number of unique egg groups: ', len(unique_egg_groups))\n",
    "print('Number of unique moves: ', len(unique_moves))"
   ]
  },
  {
   "cell_type": "code",
   "execution_count": 18,
   "metadata": {},
   "outputs": [],
   "source": [
    "# Time to get the text entries for each ability, and move\n",
    "def get_text_entries(attribute, unique_vals):\n",
    "    temp_dict = {\n",
    "        attribute: [],\n",
    "        'text_entry': []\n",
    "    }\n",
    "\n",
    "    for i, val in tqdm(enumerate(unique_vals)):\n",
    "        r = requests.get('https://pokeapi.co/api/v2/' + attribute + '/' + val).json()\n",
    "        \n",
    "        # check if the text entry exists in english\n",
    "        if len(r['effect_entries']) == 0:\n",
    "            for j in range(len(r['flavor_text_entries'])):\n",
    "                if r['flavor_text_entries'][j]['language']['name'] == 'en':\n",
    "                    temp_dict[attribute].append(val)\n",
    "                    temp_dict['text_entry'].append(r['flavor_text_entries'][j]['flavor_text'].replace('\\n', ' ').replace('\\f', ' '))\n",
    "                    break\n",
    "        else:\n",
    "            for j in range(len(r['effect_entries'])):\n",
    "                if r['effect_entries'][j]['language']['name'] == 'en':\n",
    "                    temp_dict[attribute].append(val)\n",
    "                    temp_dict['text_entry'].append(r['effect_entries'][j]['effect'].replace('\\n', ' ').replace('\\f', ' '))\n",
    "                    break\n",
    "\n",
    "    return temp_dict"
   ]
  },
  {
   "cell_type": "code",
   "execution_count": 19,
   "metadata": {},
   "outputs": [
    {
     "name": "stdout",
     "output_type": "stream",
     "text": [
      "File already exists\n"
     ]
    }
   ],
   "source": [
    "if not os.path.exists('ability_dict.pickle'):\n",
    "    ability_dict = get_text_entries('ability', unique_abilities)\n",
    "    ability_df = pd.DataFrame(ability_dict)\n",
    "    ability_df.to_pickle('ability_dict.pickle')\n",
    "else:\n",
    "    ability_df = pd.read_pickle('ability_dict.pickle')\n",
    "    print('File already exists')"
   ]
  },
  {
   "cell_type": "code",
   "execution_count": 20,
   "metadata": {},
   "outputs": [
    {
     "name": "stdout",
     "output_type": "stream",
     "text": [
      "File already exists\n"
     ]
    }
   ],
   "source": [
    "if not os.path.exists('move_dict.pickle'):\n",
    "    move_dict = get_text_entries('move', unique_moves)\n",
    "    move_df = pd.DataFrame(move_dict)\n",
    "    move_df.to_pickle('move_dict.pickle')\n",
    "else:\n",
    "    move_df = pd.read_pickle('move_dict.pickle')\n",
    "    print('File already exists')"
   ]
  },
  {
   "attachments": {},
   "cell_type": "markdown",
   "metadata": {},
   "source": [
    "We might experience that not all abilities nor moves have text, and we will check that here."
   ]
  },
  {
   "cell_type": "code",
   "execution_count": 21,
   "metadata": {},
   "outputs": [],
   "source": [
    "# find the missing abilities\n",
    "missing_abilities = [x for x in unique_abilities if x not in ability_df['ability'].values.tolist()]\n",
    "\n",
    "# find the missing moves\n",
    "missing_moves = [x for x in unique_moves if x not in move_df['move'].values.tolist()]\n"
   ]
  },
  {
   "cell_type": "code",
   "execution_count": 22,
   "metadata": {},
   "outputs": [
    {
     "name": "stdout",
     "output_type": "stream",
     "text": [
      "Number of missing abilities:  1\n",
      "Number of missing moves:  29\n"
     ]
    }
   ],
   "source": [
    "# print number of missing abilities and moves\n",
    "print('Number of missing abilities: ', len(missing_abilities))\n",
    "print('Number of missing moves: ', len(missing_moves))"
   ]
  },
  {
   "cell_type": "code",
   "execution_count": 23,
   "metadata": {},
   "outputs": [
    {
     "name": "stdout",
     "output_type": "stream",
     "text": [
      "Number of unique abilities:  248\n",
      "Number of unique moves:  718\n"
     ]
    }
   ],
   "source": [
    "# update the unique abilities and moves lists to not include the missing ones\n",
    "unique_abilities = [x for x in unique_abilities if x not in missing_abilities]\n",
    "unique_moves = [x for x in unique_moves if x not in missing_moves]\n",
    "\n",
    "# print number of unique abilities and moves\n",
    "print('Number of unique abilities: ', len(unique_abilities))\n",
    "print('Number of unique moves: ', len(unique_moves))"
   ]
  },
  {
   "attachments": {},
   "cell_type": "markdown",
   "metadata": {},
   "source": [
    "This concludes the data collection part of this project. To briefly summarise the data, we have:"
   ]
  },
  {
   "cell_type": "code",
   "execution_count": 24,
   "metadata": {},
   "outputs": [
    {
     "name": "stdout",
     "output_type": "stream",
     "text": [
      "Number of pokemon:  905\n",
      "Number of unique abilities:  248\n",
      "Number of unique types:  18\n",
      "Number of unique egg groups:  15\n",
      "Number of unique moves:  718\n"
     ]
    }
   ],
   "source": [
    "# summarize the data\n",
    "print('Number of pokemon: ', len(poke_df_clean))\n",
    "print('Number of unique abilities: ', len(unique_abilities))\n",
    "print('Number of unique types: ', len(unique_types))\n",
    "print('Number of unique egg groups: ', len(unique_egg_groups))\n",
    "print('Number of unique moves: ', len(unique_moves))"
   ]
  },
  {
   "attachments": {},
   "cell_type": "markdown",
   "metadata": {},
   "source": [
    "## First attempt at making a graph\n",
    "This graph will be made by comparing egg groups to assign edges between nodes."
   ]
  },
  {
   "cell_type": "code",
   "execution_count": 25,
   "metadata": {},
   "outputs": [],
   "source": [
    "# load the dataframes\n",
    "poke_df_clean = pd.read_pickle('pokemon_clean.pickle')\n",
    "ability_df = pd.read_pickle('ability_dict.pickle')\n",
    "move_df = pd.read_pickle('move_dict.pickle')"
   ]
  },
  {
   "cell_type": "code",
   "execution_count": 26,
   "metadata": {},
   "outputs": [],
   "source": [
    "G = nx.Graph()"
   ]
  },
  {
   "cell_type": "code",
   "execution_count": 27,
   "metadata": {},
   "outputs": [],
   "source": [
    "# make an edgelist for the pokemon\n",
    "# two pokemon are connected if they share an egg group\n",
    "def make_egg_group_edgelist():\n",
    "    edges = []\n",
    "    for i in tqdm(range(len(poke_df_clean))):\n",
    "        for j in range(i+1, len(poke_df_clean)):\n",
    "            if len(set(poke_df_clean['egg_groups'].iloc[i]).intersection(set(poke_df_clean['egg_groups'].iloc[j]))) > 0:\n",
    "                num_shared_moves = len(set(poke_df_clean['moves'].iloc[i]).intersection(set(poke_df_clean['moves'].iloc[j])))\n",
    "                edges.append((poke_df_clean['pokemon'].iloc[i], poke_df_clean['pokemon'].iloc[j], num_shared_moves))\n",
    "    \n",
    "    return edges\n"
   ]
  },
  {
   "cell_type": "code",
   "execution_count": 28,
   "metadata": {},
   "outputs": [
    {
     "name": "stderr",
     "output_type": "stream",
     "text": [
      "100%|██████████| 905/905 [00:12<00:00, 75.10it/s] \n"
     ]
    }
   ],
   "source": [
    "edgelist = make_egg_group_edgelist()\n"
   ]
  },
  {
   "cell_type": "code",
   "execution_count": 29,
   "metadata": {},
   "outputs": [],
   "source": [
    "def update_graph(G, edgelist):\n",
    "    G.clear()\n",
    "    G.add_weighted_edges_from(edgelist)\n",
    "    print('Number of nodes: ', G.number_of_nodes())\n",
    "    print('Number of edges: ', G.number_of_edges())"
   ]
  },
  {
   "cell_type": "code",
   "execution_count": 30,
   "metadata": {},
   "outputs": [
    {
     "name": "stdout",
     "output_type": "stream",
     "text": [
      "Number of nodes:  904\n",
      "Number of edges:  64310\n"
     ]
    }
   ],
   "source": [
    "update_graph(G, edgelist)"
   ]
  },
  {
   "cell_type": "code",
   "execution_count": 31,
   "metadata": {},
   "outputs": [],
   "source": [
    "# add types and abilities as node attributes\n",
    "types = [t for t in poke_df_clean['types'].values]\n",
    "type_dict = dict(zip(poke_df_clean['pokemon'], types))\n",
    "\n",
    "abilities = [a for a in poke_df_clean['abilities'].values]\n",
    "ability_dict = dict(zip(poke_df_clean['pokemon'], abilities))\n",
    "\n",
    "egg_groups = [e for e in poke_df_clean['egg_groups'].values]\n",
    "egg_group_dict = dict(zip(poke_df_clean['pokemon'], egg_groups))\n",
    "\n",
    "nx.set_node_attributes(G, type_dict, 'typing')\n",
    "nx.set_node_attributes(G, ability_dict, 'abilities')\n",
    "nx.set_node_attributes(G, egg_group_dict, 'egg_groups')"
   ]
  },
  {
   "cell_type": "code",
   "execution_count": 32,
   "metadata": {},
   "outputs": [],
   "source": [
    "def set_group(graph, group_dict):\n",
    "    nx.set_node_attributes(graph, group_dict, 'group')\n",
    "\n",
    "set_group(G, type_dict)"
   ]
  },
  {
   "cell_type": "code",
   "execution_count": 33,
   "metadata": {},
   "outputs": [],
   "source": [
    "# save the graph to pickle\n",
    "import pickle\n",
    "with open('pokemon_graph.pickle', 'wb') as f:\n",
    "    pickle.dump(G, f)"
   ]
  },
  {
   "cell_type": "code",
   "execution_count": 34,
   "metadata": {},
   "outputs": [],
   "source": [
    "import netwulf as nw\n",
    "#nw.visualize(G)"
   ]
  },
  {
   "attachments": {},
   "cell_type": "markdown",
   "metadata": {},
   "source": [
    "## Second attempt at making a graph using pokemon episodes"
   ]
  },
  {
   "cell_type": "code",
   "execution_count": 35,
   "metadata": {},
   "outputs": [],
   "source": [
    "from bs4 import BeautifulSoup"
   ]
  },
  {
   "cell_type": "code",
   "execution_count": 36,
   "metadata": {},
   "outputs": [],
   "source": [
    "def make_number(num):\n",
    "    if num < 10:\n",
    "        return '00' + str(num)\n",
    "    elif num < 100:\n",
    "        return '0' + str(num)\n",
    "    else:\n",
    "        return str(num)\n",
    "\n",
    "\n",
    "def get_pokemon_data(episode, names):\n",
    "    r = requests.get('https://bulbapedia.bulbagarden.net/wiki/JN' + episode).text\n",
    "    soup = BeautifulSoup(r, 'html.parser')\n",
    "    elems = soup.find_all('a', href=True)\n",
    "    episode_pokemon = []\n",
    "\n",
    "    for name in names:\n",
    "        for elem in elems:\n",
    "            if name in elem.text:\n",
    "                text = elem.text\n",
    "                episode_pokemon.append(text)\n",
    "\n",
    "    unique_pokemon = list(set(episode_pokemon))\n",
    "\n",
    "    # remove elements that are not single words\n",
    "    unique_pokemon = [p for p in unique_pokemon if len(p.split()) == 1]\n",
    "\n",
    "    # remove nature names\n",
    "    unique_pokemon.remove('Nature')\n",
    "    return unique_pokemon\n",
    "\n",
    "\n",
    "# get episode plots\n",
    "def get_episode_plot(episode):\n",
    "    r = requests.get('https://bulbapedia.bulbagarden.net/wiki/JN' + episode).text\n",
    "    soup = BeautifulSoup(r, 'html.parser')\n",
    "    elems = soup.find_all('p')\n",
    "    plot = ''\n",
    "    for i in range(1,len(elems)):\n",
    "        if \"Who's That Pokémon?\" in elems[i].text:\n",
    "            break\n",
    "        plot += elems[i].text\n",
    "\n",
    "    #plot = plot.replace('\\n ', ' ')\n",
    "    plot = plot.replace('\\n', ' ')\n",
    "\n",
    "    # remove trailing whitespace\n",
    "    plot = plot.strip()\n",
    "    \n",
    "    return plot"
   ]
  },
  {
   "cell_type": "code",
   "execution_count": 37,
   "metadata": {},
   "outputs": [],
   "source": [
    "episode_numbers = [make_number(i) for i in range(1, 137)]\n",
    "names = poke_df_clean['pokemon'].values.tolist()"
   ]
  },
  {
   "cell_type": "code",
   "execution_count": 38,
   "metadata": {},
   "outputs": [],
   "source": [
    "def gather_pokemon_data(episode_numbers, names):\n",
    "    episode_dict = {}\n",
    "    for episode in tqdm(episode_numbers):\n",
    "        episode_pokemon = get_pokemon_data(episode, names)\n",
    "        plot = get_episode_plot(episode)\n",
    "        episode_dict[episode] = []\n",
    "        episode_dict[episode].append(episode_pokemon)\n",
    "        episode_dict[episode].append(plot)\n",
    "    return episode_dict"
   ]
  },
  {
   "cell_type": "code",
   "execution_count": 39,
   "metadata": {},
   "outputs": [
    {
     "name": "stdout",
     "output_type": "stream",
     "text": [
      "Episode data loaded\n"
     ]
    }
   ],
   "source": [
    "if not os.path.exists('episode_dict.pickle'):\n",
    "    episode_dict = gather_pokemon_data(episode_numbers, names)\n",
    "    episode_df = pd.DataFrame.from_dict(episode_dict, orient='index', columns=['pokemon', 'plot'])\n",
    "    episode_df.to_pickle('episode_dict.pickle')\n",
    "else:\n",
    "    episode_df = pd.read_pickle('episode_dict.pickle')\n",
    "    print('Episode data loaded')"
   ]
  },
  {
   "cell_type": "code",
   "execution_count": 40,
   "metadata": {},
   "outputs": [
    {
     "data": {
      "text/html": [
       "<div>\n",
       "<style scoped>\n",
       "    .dataframe tbody tr th:only-of-type {\n",
       "        vertical-align: middle;\n",
       "    }\n",
       "\n",
       "    .dataframe tbody tr th {\n",
       "        vertical-align: top;\n",
       "    }\n",
       "\n",
       "    .dataframe thead th {\n",
       "        text-align: right;\n",
       "    }\n",
       "</style>\n",
       "<table border=\"1\" class=\"dataframe\">\n",
       "  <thead>\n",
       "    <tr style=\"text-align: right;\">\n",
       "      <th></th>\n",
       "      <th>pokemon</th>\n",
       "      <th>plot</th>\n",
       "    </tr>\n",
       "  </thead>\n",
       "  <tbody>\n",
       "    <tr>\n",
       "      <th>001</th>\n",
       "      <td>[Kakuna, Chansey, Mankey, Bellsprout, Pikachu,...</td>\n",
       "      <td>In Pallet Town, a young Ash Ketchum is beside ...</td>\n",
       "    </tr>\n",
       "    <tr>\n",
       "      <th>002</th>\n",
       "      <td>[Kakuna, Pidgeotto, Bisharp, Blastoise, Mankey...</td>\n",
       "      <td>Ash is attending the opening of Professor Ceri...</td>\n",
       "    </tr>\n",
       "    <tr>\n",
       "      <th>003</th>\n",
       "      <td>[Pikachu, Yamper, Oddish, Meowth, Poliwag, Pel...</td>\n",
       "      <td>Ash and Goh are embarking on their first full ...</td>\n",
       "    </tr>\n",
       "    <tr>\n",
       "      <th>004</th>\n",
       "      <td>[Zweilous, Turtwig, Nickit, Pikachu, Sneasel, ...</td>\n",
       "      <td>Ash and Goh head to the Galar region to see a ...</td>\n",
       "    </tr>\n",
       "    <tr>\n",
       "      <th>005</th>\n",
       "      <td>[Goomy, Braviary, Seedot, Grubbin, Munchlax, P...</td>\n",
       "      <td>It’s time for research fellows Ash and Goh to ...</td>\n",
       "    </tr>\n",
       "  </tbody>\n",
       "</table>\n",
       "</div>"
      ],
      "text/plain": [
       "                                               pokemon  \\\n",
       "001  [Kakuna, Chansey, Mankey, Bellsprout, Pikachu,...   \n",
       "002  [Kakuna, Pidgeotto, Bisharp, Blastoise, Mankey...   \n",
       "003  [Pikachu, Yamper, Oddish, Meowth, Poliwag, Pel...   \n",
       "004  [Zweilous, Turtwig, Nickit, Pikachu, Sneasel, ...   \n",
       "005  [Goomy, Braviary, Seedot, Grubbin, Munchlax, P...   \n",
       "\n",
       "                                                  plot  \n",
       "001  In Pallet Town, a young Ash Ketchum is beside ...  \n",
       "002  Ash is attending the opening of Professor Ceri...  \n",
       "003  Ash and Goh are embarking on their first full ...  \n",
       "004  Ash and Goh head to the Galar region to see a ...  \n",
       "005  It’s time for research fellows Ash and Goh to ...  "
      ]
     },
     "execution_count": 40,
     "metadata": {},
     "output_type": "execute_result"
    }
   ],
   "source": [
    "episode_df.head()"
   ]
  },
  {
   "cell_type": "code",
   "execution_count": 41,
   "metadata": {},
   "outputs": [
    {
     "data": {
      "text/plain": [
       "677"
      ]
     },
     "execution_count": 41,
     "metadata": {},
     "output_type": "execute_result"
    }
   ],
   "source": [
    "len(find_unique(episode_df, 'pokemon'))"
   ]
  },
  {
   "cell_type": "code",
   "execution_count": 42,
   "metadata": {},
   "outputs": [],
   "source": [
    "# make a dataframe with only the pokemon that appear in the anime\n",
    "if not os.path.exists('anime_pokemon.pickle'):\n",
    "    anime_pokemon = find_unique(episode_df, 'pokemon')\n",
    "    anime_pokemon_df = poke_df_clean[poke_df_clean['pokemon'].isin(anime_pokemon)].reset_index(drop=True)\n",
    "    anime_pokemon_df.to_pickle('anime_pokemon.pickle')\n",
    "else:\n",
    "    anime_pokemon_df = pd.read_pickle('anime_pokemon.pickle')"
   ]
  },
  {
   "cell_type": "code",
   "execution_count": 43,
   "metadata": {},
   "outputs": [
    {
     "data": {
      "text/html": [
       "<div>\n",
       "<style scoped>\n",
       "    .dataframe tbody tr th:only-of-type {\n",
       "        vertical-align: middle;\n",
       "    }\n",
       "\n",
       "    .dataframe tbody tr th {\n",
       "        vertical-align: top;\n",
       "    }\n",
       "\n",
       "    .dataframe thead th {\n",
       "        text-align: right;\n",
       "    }\n",
       "</style>\n",
       "<table border=\"1\" class=\"dataframe\">\n",
       "  <thead>\n",
       "    <tr style=\"text-align: right;\">\n",
       "      <th></th>\n",
       "      <th>pokemon</th>\n",
       "      <th>abilities</th>\n",
       "      <th>types</th>\n",
       "      <th>egg_groups</th>\n",
       "      <th>moves</th>\n",
       "      <th>pokedex_entry</th>\n",
       "    </tr>\n",
       "  </thead>\n",
       "  <tbody>\n",
       "    <tr>\n",
       "      <th>0</th>\n",
       "      <td>Bulbasaur</td>\n",
       "      <td>[overgrow, chlorophyll]</td>\n",
       "      <td>[grass, poison]</td>\n",
       "      <td>[monster, plant]</td>\n",
       "      <td>[razor-wind, swords-dance, cut, bind, vine-whi...</td>\n",
       "      <td>A strange seed was planted on its back at birt...</td>\n",
       "    </tr>\n",
       "    <tr>\n",
       "      <th>1</th>\n",
       "      <td>Ivysaur</td>\n",
       "      <td>[overgrow, chlorophyll]</td>\n",
       "      <td>[grass, poison]</td>\n",
       "      <td>[monster, plant]</td>\n",
       "      <td>[swords-dance, cut, bind, vine-whip, headbutt,...</td>\n",
       "      <td>When the bulb on its back grows large, it appe...</td>\n",
       "    </tr>\n",
       "    <tr>\n",
       "      <th>2</th>\n",
       "      <td>Venusaur</td>\n",
       "      <td>[overgrow, chlorophyll]</td>\n",
       "      <td>[grass, poison]</td>\n",
       "      <td>[monster, plant]</td>\n",
       "      <td>[swords-dance, cut, bind, vine-whip, headbutt,...</td>\n",
       "      <td>The plant blooms when it is absorbing solar en...</td>\n",
       "    </tr>\n",
       "    <tr>\n",
       "      <th>3</th>\n",
       "      <td>Charmander</td>\n",
       "      <td>[blaze, solar-power]</td>\n",
       "      <td>[fire]</td>\n",
       "      <td>[monster, dragon]</td>\n",
       "      <td>[mega-punch, fire-punch, thunder-punch, scratc...</td>\n",
       "      <td>Obviously prefers hot places. When it rains, s...</td>\n",
       "    </tr>\n",
       "    <tr>\n",
       "      <th>4</th>\n",
       "      <td>Charmeleon</td>\n",
       "      <td>[blaze, solar-power]</td>\n",
       "      <td>[fire]</td>\n",
       "      <td>[monster, dragon]</td>\n",
       "      <td>[mega-punch, fire-punch, thunder-punch, scratc...</td>\n",
       "      <td>When it swings its burning tail, it elevates t...</td>\n",
       "    </tr>\n",
       "    <tr>\n",
       "      <th>...</th>\n",
       "      <td>...</td>\n",
       "      <td>...</td>\n",
       "      <td>...</td>\n",
       "      <td>...</td>\n",
       "      <td>...</td>\n",
       "      <td>...</td>\n",
       "    </tr>\n",
       "    <tr>\n",
       "      <th>663</th>\n",
       "      <td>Eternatus</td>\n",
       "      <td>[pressure]</td>\n",
       "      <td>[poison, dragon]</td>\n",
       "      <td>[no-eggs]</td>\n",
       "      <td>[fly, body-slam, take-down, flamethrower, hype...</td>\n",
       "      <td>むねの　コアが　ガラルちほうの だいちから　わきだす　エネルギーを きゅうしゅうして　かつど...</td>\n",
       "    </tr>\n",
       "    <tr>\n",
       "      <th>664</th>\n",
       "      <td>Kubfu</td>\n",
       "      <td>[inner-focus]</td>\n",
       "      <td>[fighting]</td>\n",
       "      <td>[no-eggs]</td>\n",
       "      <td>[mega-punch, fire-punch, ice-punch, thunder-pu...</td>\n",
       "      <td>きびしい　たんれんを　つみ　わざを みがく。　たいとくした　わざによって しんかしたときに　...</td>\n",
       "    </tr>\n",
       "    <tr>\n",
       "      <th>665</th>\n",
       "      <td>Zarude</td>\n",
       "      <td>[leaf-guard]</td>\n",
       "      <td>[dark, grass]</td>\n",
       "      <td>[no-eggs]</td>\n",
       "      <td>[mega-punch, scratch, swords-dance, bind, vine...</td>\n",
       "      <td>むれを　つくり　みつりんで　くらす。 とても　こうげきてきで　もりにすむ ポケモンたちから　...</td>\n",
       "    </tr>\n",
       "    <tr>\n",
       "      <th>666</th>\n",
       "      <td>Regieleki</td>\n",
       "      <td>[transistor]</td>\n",
       "      <td>[electric]</td>\n",
       "      <td>[no-eggs]</td>\n",
       "      <td>[body-slam, take-down, thrash, hyper-beam, thu...</td>\n",
       "      <td>でんきエネルギーの　かたまり。 からだの　リングを　はずすと　ひめた ちからが　ときはなたれ...</td>\n",
       "    </tr>\n",
       "    <tr>\n",
       "      <th>667</th>\n",
       "      <td>Regidrago</td>\n",
       "      <td>[dragons-maw]</td>\n",
       "      <td>[dragon]</td>\n",
       "      <td>[no-eggs]</td>\n",
       "      <td>[vice-grip, body-slam, take-down, thrash, bite...</td>\n",
       "      <td>うでの　かたちは　こだいの　ドラゴン ポケモンの　あたまという　がくせつも あるが　しょうめ...</td>\n",
       "    </tr>\n",
       "  </tbody>\n",
       "</table>\n",
       "<p>668 rows × 6 columns</p>\n",
       "</div>"
      ],
      "text/plain": [
       "        pokemon                abilities             types         egg_groups  \\\n",
       "0     Bulbasaur  [overgrow, chlorophyll]   [grass, poison]   [monster, plant]   \n",
       "1       Ivysaur  [overgrow, chlorophyll]   [grass, poison]   [monster, plant]   \n",
       "2      Venusaur  [overgrow, chlorophyll]   [grass, poison]   [monster, plant]   \n",
       "3    Charmander     [blaze, solar-power]            [fire]  [monster, dragon]   \n",
       "4    Charmeleon     [blaze, solar-power]            [fire]  [monster, dragon]   \n",
       "..          ...                      ...               ...                ...   \n",
       "663   Eternatus               [pressure]  [poison, dragon]          [no-eggs]   \n",
       "664       Kubfu            [inner-focus]        [fighting]          [no-eggs]   \n",
       "665      Zarude             [leaf-guard]     [dark, grass]          [no-eggs]   \n",
       "666   Regieleki             [transistor]        [electric]          [no-eggs]   \n",
       "667   Regidrago            [dragons-maw]          [dragon]          [no-eggs]   \n",
       "\n",
       "                                                 moves  \\\n",
       "0    [razor-wind, swords-dance, cut, bind, vine-whi...   \n",
       "1    [swords-dance, cut, bind, vine-whip, headbutt,...   \n",
       "2    [swords-dance, cut, bind, vine-whip, headbutt,...   \n",
       "3    [mega-punch, fire-punch, thunder-punch, scratc...   \n",
       "4    [mega-punch, fire-punch, thunder-punch, scratc...   \n",
       "..                                                 ...   \n",
       "663  [fly, body-slam, take-down, flamethrower, hype...   \n",
       "664  [mega-punch, fire-punch, ice-punch, thunder-pu...   \n",
       "665  [mega-punch, scratch, swords-dance, bind, vine...   \n",
       "666  [body-slam, take-down, thrash, hyper-beam, thu...   \n",
       "667  [vice-grip, body-slam, take-down, thrash, bite...   \n",
       "\n",
       "                                         pokedex_entry  \n",
       "0    A strange seed was planted on its back at birt...  \n",
       "1    When the bulb on its back grows large, it appe...  \n",
       "2    The plant blooms when it is absorbing solar en...  \n",
       "3    Obviously prefers hot places. When it rains, s...  \n",
       "4    When it swings its burning tail, it elevates t...  \n",
       "..                                                 ...  \n",
       "663  むねの　コアが　ガラルちほうの だいちから　わきだす　エネルギーを きゅうしゅうして　かつど...  \n",
       "664  きびしい　たんれんを　つみ　わざを みがく。　たいとくした　わざによって しんかしたときに　...  \n",
       "665  むれを　つくり　みつりんで　くらす。 とても　こうげきてきで　もりにすむ ポケモンたちから　...  \n",
       "666  でんきエネルギーの　かたまり。 からだの　リングを　はずすと　ひめた ちからが　ときはなたれ...  \n",
       "667  うでの　かたちは　こだいの　ドラゴン ポケモンの　あたまという　がくせつも あるが　しょうめ...  \n",
       "\n",
       "[668 rows x 6 columns]"
      ]
     },
     "execution_count": 43,
     "metadata": {},
     "output_type": "execute_result"
    }
   ],
   "source": [
    "anime_pokemon_df"
   ]
  },
  {
   "cell_type": "code",
   "execution_count": 44,
   "metadata": {},
   "outputs": [],
   "source": [
    "# make new edgelist such that pokemon are connected if they appear in the same episode\n",
    "def make_anime_edgelist():\n",
    "    from collections import defaultdict\n",
    "    edgelist = defaultdict(lambda: 0)\n",
    "    # loop over all episodes\n",
    "    for i in tqdm(range(len(episode_df))):\n",
    "        # loop over all pokemon in the episode\n",
    "        for j in range(len(episode_df['pokemon'].iloc[i])):\n",
    "            for k in range(j+1, len(episode_df['pokemon'].iloc[i])):\n",
    "                edgelist[(episode_df['pokemon'].iloc[i][j], episode_df['pokemon'].iloc[i][k])] += 1\n",
    "                edgelist[(episode_df['pokemon'].iloc[i][k], episode_df['pokemon'].iloc[i][j])] += 1\n",
    "\n",
    "    # make the edgelist undirected \n",
    "    edgelist = [(k[0], k[1], v) for k, v in edgelist.items()]\n",
    "\n",
    "    # only keep every other edge to avoid duplicates\n",
    "    edgelist = edgelist[::2]\n",
    "    return edgelist\n",
    "    "
   ]
  },
  {
   "cell_type": "code",
   "execution_count": 45,
   "metadata": {},
   "outputs": [
    {
     "name": "stderr",
     "output_type": "stream",
     "text": [
      "100%|██████████| 136/136 [00:04<00:00, 33.41it/s]\n"
     ]
    }
   ],
   "source": [
    "edgelist = make_anime_edgelist()"
   ]
  },
  {
   "cell_type": "code",
   "execution_count": 46,
   "metadata": {},
   "outputs": [],
   "source": [
    "# make the graph\n",
    "anime_G = nx.Graph()"
   ]
  },
  {
   "cell_type": "code",
   "execution_count": 47,
   "metadata": {},
   "outputs": [
    {
     "name": "stdout",
     "output_type": "stream",
     "text": [
      "Number of nodes:  677\n",
      "Number of edges:  51193\n"
     ]
    }
   ],
   "source": [
    "update_graph(anime_G, edgelist)"
   ]
  },
  {
   "cell_type": "code",
   "execution_count": 48,
   "metadata": {},
   "outputs": [],
   "source": [
    "# remove all nodes that are not in the anime pokemon dataframe\n",
    "anime_pokemon = anime_pokemon_df['pokemon'].values.tolist()\n",
    "anime_G.remove_nodes_from([n for n in anime_G.nodes() if n not in anime_pokemon])"
   ]
  },
  {
   "attachments": {},
   "cell_type": "markdown",
   "metadata": {},
   "source": [
    "Add attributes"
   ]
  },
  {
   "cell_type": "code",
   "execution_count": 49,
   "metadata": {},
   "outputs": [],
   "source": [
    "types = [t for t in anime_pokemon_df['types'].values]\n",
    "type_dict = dict(zip(anime_pokemon_df['pokemon'], types))\n",
    "\n",
    "abilities = [a for a in anime_pokemon_df['abilities'].values]\n",
    "ability_dict = dict(zip(anime_pokemon_df['pokemon'], abilities))\n",
    "\n",
    "egg_groups = [e for e in anime_pokemon_df['egg_groups'].values]\n",
    "egg_group_dict = dict(zip(anime_pokemon_df['pokemon'], egg_groups))\n",
    "\n",
    "nx.set_node_attributes(anime_G, type_dict, 'typing')\n",
    "nx.set_node_attributes(anime_G, ability_dict, 'abilities')\n",
    "nx.set_node_attributes(anime_G, egg_group_dict, 'egg_groups')"
   ]
  },
  {
   "cell_type": "code",
   "execution_count": 50,
   "metadata": {},
   "outputs": [
    {
     "data": {
      "image/png": "[encoded data removed]",
      "text/plain": [
       "<Figure size 1000x600 with 1 Axes>"
      ]
     },
     "metadata": {},
     "output_type": "display_data"
    }
   ],
   "source": [
    "# get degree distribution\n",
    "degree_sequence = sorted([d for n, d in anime_G.degree()], reverse=True)\n",
    "\n",
    "# plot degree distribution\n",
    "plt.figure(figsize=(10, 6))\n",
    "plt.plot(degree_sequence, 'b-', marker='o')\n",
    "# add the name to the highest degree\n",
    "plt.title(\"Degree rank plot\")\n",
    "plt.ylabel(\"degree\")\n",
    "plt.xlabel(\"rank\")\n",
    "plt.show()"
   ]
  },
  {
   "cell_type": "code",
   "execution_count": 51,
   "metadata": {},
   "outputs": [
    {
     "data": {
      "image/png": "[encoded data removed]",
      "text/plain": [
       "<Figure size 1000x600 with 1 Axes>"
      ]
     },
     "metadata": {},
     "output_type": "display_data"
    }
   ],
   "source": [
    "# make histogram of degree distribution w. mean\n",
    "plt.figure(figsize=(10, 6))\n",
    "plt.hist(degree_sequence, bins=20)\n",
    "plt.axvline(np.mean(degree_sequence), color='r', linestyle='dashed', linewidth=1)\n",
    "plt.text(np.mean(degree_sequence) + 10, 100, 'Mean: {:.0f}'.format(np.mean(degree_sequence)))\n",
    "plt.title(\"Degree Distribution\")\n",
    "plt.ylabel(\"Count\")\n",
    "plt.xlabel(\"Degree\")\n",
    "plt.show()"
   ]
  },
  {
   "cell_type": "code",
   "execution_count": 52,
   "metadata": {},
   "outputs": [],
   "source": [
    "# find best partition\n",
    "import community as community_louvain\n",
    "partition = community_louvain.best_partition(anime_G)"
   ]
  },
  {
   "cell_type": "code",
   "execution_count": 53,
   "metadata": {},
   "outputs": [],
   "source": [
    "# set the group attribute\n",
    "set_group(anime_G, partition)"
   ]
  },
  {
   "cell_type": "code",
   "execution_count": 54,
   "metadata": {},
   "outputs": [],
   "source": [
    "#network, config = nw.visualize(anime_G)"
   ]
  },
  {
   "cell_type": "code",
   "execution_count": 55,
   "metadata": {},
   "outputs": [
    {
     "data": {
      "text/plain": [
       "[('Pikachu', 667),\n",
       " ('Rotom', 652),\n",
       " ('Grookey', 563),\n",
       " ('Meowth', 545),\n",
       " ('Wobbuffet', 524),\n",
       " ('Cinderace', 516),\n",
       " ('Lucario', 499),\n",
       " ('Dragonite', 487),\n",
       " ('Eevee', 479),\n",
       " ('Yamper', 457)]"
      ]
     },
     "execution_count": 55,
     "metadata": {},
     "output_type": "execute_result"
    }
   ],
   "source": [
    "# identify the ten pokemon with the highest degree\n",
    "sorted_degree = sorted(anime_G.degree, key=lambda x: x[1], reverse=True)\n",
    "sorted_degree[:10]"
   ]
  },
  {
   "cell_type": "code",
   "execution_count": 56,
   "metadata": {},
   "outputs": [],
   "source": [
    "# save the graph to pickle\n",
    "with open('anime_graph.pickle', 'wb') as f:\n",
    "    pickle.dump(anime_G, f)"
   ]
  },
  {
   "attachments": {},
   "cell_type": "markdown",
   "metadata": {},
   "source": [
    "## Time to analyze the graph"
   ]
  },
  {
   "cell_type": "code",
   "execution_count": 57,
   "metadata": {},
   "outputs": [
    {
     "data": {
      "text/plain": [
       "-0.15953836848457162"
      ]
     },
     "execution_count": 57,
     "metadata": {},
     "output_type": "execute_result"
    }
   ],
   "source": [
    "# get degree assortativity\n",
    "nx.degree_assortativity_coefficient(anime_G)"
   ]
  },
  {
   "cell_type": "code",
   "execution_count": 58,
   "metadata": {},
   "outputs": [],
   "source": [
    "def calc_frac(graph, fields):\n",
    "    \"\"\" Calculate the fraction of neighbors with the same field as the node itself.\"\"\"\n",
    "    fracs = []\n",
    "    for node in graph.nodes:\n",
    "        c = 0\n",
    "        for neighbor in graph.neighbors(node):\n",
    "            if fields[neighbor] == fields[node]:\n",
    "                c += 1\n",
    "        fracs.append(c/graph.degree(node))\n",
    "\n",
    "    return np.mean(fracs)\n",
    "\n",
    "def frac_same_field(graph, field):\n",
    "    fields = nx.get_node_attributes(graph, field)\n",
    "    return calc_frac(graph, fields)"
   ]
  },
  {
   "cell_type": "code",
   "execution_count": 59,
   "metadata": {},
   "outputs": [
    {
     "name": "stdout",
     "output_type": "stream",
     "text": [
      "The average fraction of neighbors with the same typing as the node itself is 4.31%\n",
      "The average fraction of neighbors with the same ability as the node itself is 0.67%\n",
      "The average fraction of neighbors with the same egg group as the node itself is 8.42%\n"
     ]
    }
   ],
   "source": [
    "avg_typing = frac_same_field(anime_G, 'typing')\n",
    "print(f\"The average fraction of neighbors with the same typing as the node itself is {avg_typing*100:.2f}%\")\n",
    "\n",
    "avg_abilities = frac_same_field(anime_G, 'abilities')\n",
    "print(f\"The average fraction of neighbors with the same ability as the node itself is {avg_abilities*100:.2f}%\")\n",
    "\n",
    "avg_egg_groups = frac_same_field(anime_G, 'egg_groups')\n",
    "print(f\"The average fraction of neighbors with the same egg group as the node itself is {avg_egg_groups*100:.2f}%\")"
   ]
  },
  {
   "attachments": {},
   "cell_type": "markdown",
   "metadata": {},
   "source": [
    "Now, we mix up association and check again"
   ]
  },
  {
   "cell_type": "code",
   "execution_count": 60,
   "metadata": {},
   "outputs": [],
   "source": [
    "import random\n",
    "random.seed(42)\n",
    "\n",
    "# We implment a function that randomly assigns fields to nodes\n",
    "def frac_rand_graph(graph, field):\n",
    "    fields = nx.get_node_attributes(graph, field)\n",
    "    field_list = list(fields.values())\n",
    "    for key in fields.keys():\n",
    "        fields[key] = random.choice(field_list)\n",
    "\n",
    "    return calc_frac(graph, fields)"
   ]
  },
  {
   "cell_type": "code",
   "execution_count": 61,
   "metadata": {},
   "outputs": [
    {
     "name": "stdout",
     "output_type": "stream",
     "text": [
      "The average fraction of neighbors with the same typing as the node itself is 2.71%\n",
      "The average fraction of neighbors with the same ability as the node itself is 0.32%\n",
      "The average fraction of neighbors with the same egg group as the node itself is 7.26%\n"
     ]
    }
   ],
   "source": [
    "avg_rand_type = frac_rand_graph(anime_G, 'typing')\n",
    "print(f\"The average fraction of neighbors with the same typing as the node itself is {avg_rand_type*100:.2f}%\")\n",
    "\n",
    "avg_rand_abilities = frac_rand_graph(anime_G, 'abilities')\n",
    "print(f\"The average fraction of neighbors with the same ability as the node itself is {avg_rand_abilities*100:.2f}%\")\n",
    "\n",
    "avg_rand_egg_groups = frac_rand_graph(anime_G, 'egg_groups')\n",
    "print(f\"The average fraction of neighbors with the same egg group as the node itself is {avg_rand_egg_groups*100:.2f}%\")"
   ]
  },
  {
   "cell_type": "code",
   "execution_count": 62,
   "metadata": {},
   "outputs": [
    {
     "name": "stdout",
     "output_type": "stream",
     "text": [
      "The average fraction of neighbors with the same typing as the node itself is 2.78%\n",
      "The average fraction of neighbors with the same ability as the node itself is 0.33%\n",
      "The average fraction of neighbors with the same egg group as the node itself is 6.68%\n"
     ]
    }
   ],
   "source": [
    "# now, we repeat the above 1000 times and calculate the average fraction of neighbors with the same field as the node itself\n",
    "avg_rand_type_100 = [frac_rand_graph(anime_G, 'typing') for _ in range(100)]\n",
    "avg_rand_type_100_mu = np.mean(avg_rand_type_100)\n",
    "print(f\"The average fraction of neighbors with the same typing as the node itself is {avg_rand_type_100_mu*100:.2f}%\")\n",
    "\n",
    "avg_rand_abilities_100 = [frac_rand_graph(anime_G, 'abilities') for _ in range(100)]\n",
    "avg_rand_abilities_100_mu = np.mean(avg_rand_abilities_100)\n",
    "print(f\"The average fraction of neighbors with the same ability as the node itself is {avg_rand_abilities_100_mu*100:.2f}%\")\n",
    "\n",
    "avg_rand_egg_groups_100 = [frac_rand_graph(anime_G, 'egg_groups') for _ in range(100)]\n",
    "avg_rand_egg_groups_100_mu = np.mean(avg_rand_egg_groups_100)\n",
    "print(f\"The average fraction of neighbors with the same egg group as the node itself is {avg_rand_egg_groups_100_mu*100:.2f}%\")"
   ]
  },
  {
   "cell_type": "code",
   "execution_count": 63,
   "metadata": {},
   "outputs": [
    {
     "data": {
      "image/png": "[encoded data removed]",
      "text/plain": [
       "<Figure size 1500x600 with 3 Axes>"
      ]
     },
     "metadata": {},
     "output_type": "display_data"
    }
   ],
   "source": [
    "# now we make three subplots of the random distributions with the actual values plotted as vertical lines\n",
    "fig, ax = plt.subplots(1, 3, figsize=(15, 6), sharey=True)\n",
    "ax[0].hist(avg_rand_type_100, bins=20)\n",
    "ax[0].axvline(avg_typing, color='r', linestyle='dashed', linewidth=1)\n",
    "ax[0].set_title(\"Typing\")\n",
    "ax[0].set_ylabel(\"Count\")\n",
    "ax[0].set_xlabel(\"Fraction of neighbors with same typing\")\n",
    "ax[1].hist(avg_rand_abilities_100, bins=20)\n",
    "ax[1].axvline(avg_abilities, color='r', linestyle='dashed', linewidth=1)\n",
    "ax[1].set_title(\"Abilities\")\n",
    "ax[1].set_ylabel(\"Count\")\n",
    "ax[1].set_xlabel(\"Fraction of neighbors with same ability\")\n",
    "ax[2].hist(avg_rand_egg_groups_100, bins=20)\n",
    "ax[2].axvline(avg_egg_groups, color='r', linestyle='dashed', linewidth=1)\n",
    "ax[2].set_title(\"Egg Groups\")\n",
    "ax[2].set_ylabel(\"Count\")\n",
    "ax[2].set_xlabel(\"Fraction of neighbors with same egg group\")\n",
    "plt.show()"
   ]
  },
  {
   "attachments": {},
   "cell_type": "markdown",
   "metadata": {},
   "source": [
    "Hence, we see that typing, ability and egg group is not entirely random. This might be caused by the fact that Pokémon in the same families (evolution lines) are more likely to appear in the same episodes."
   ]
  },
  {
   "attachments": {},
   "cell_type": "markdown",
   "metadata": {},
   "source": [
    "Next, we will look at the degree assortativity"
   ]
  },
  {
   "cell_type": "code",
   "execution_count": 64,
   "metadata": {},
   "outputs": [
    {
     "name": "stdout",
     "output_type": "stream",
     "text": [
      "The degree assortativity coefficient is -0.16\n"
     ]
    }
   ],
   "source": [
    "dac = nx.degree_assortativity_coefficient(anime_G)\n",
    "print(f\"The degree assortativity coefficient is {dac:.2f}\")"
   ]
  },
  {
   "attachments": {},
   "cell_type": "markdown",
   "metadata": {},
   "source": [
    "This tells us that high degree Pokemon are actually less likely to be connected to other high degree pokemon."
   ]
  },
  {
   "attachments": {},
   "cell_type": "markdown",
   "metadata": {},
   "source": [
    "Next, we will look at partitions and modularity"
   ]
  },
  {
   "cell_type": "code",
   "execution_count": 65,
   "metadata": {},
   "outputs": [
    {
     "name": "stdout",
     "output_type": "stream",
     "text": [
      "The modularity of the partition is 0.20\n"
     ]
    }
   ],
   "source": [
    "# find best partition\n",
    "partition = community_louvain.best_partition(anime_G)\n",
    "\n",
    "# find modularity\n",
    "mod = community_louvain.modularity(partition, anime_G)\n",
    "print(f\"The modularity of the partition is {mod:.2f}\")"
   ]
  },
  {
   "cell_type": "code",
   "execution_count": 66,
   "metadata": {},
   "outputs": [
    {
     "name": "stdout",
     "output_type": "stream",
     "text": [
      "There are 6 communities\n",
      "The community sizes are [146, 140, 201, 75, 82, 24]\n"
     ]
    }
   ],
   "source": [
    "# list number of communities\n",
    "num_communities = len(set(partition.values()))\n",
    "print(f\"There are {num_communities} communities\")\n",
    "\n",
    "# Community sizes\n",
    "community_sizes = [len(list(filter(lambda x: x[1] == i, partition.items()))) for i in range(num_communities)]\n",
    "print(f\"The community sizes are {community_sizes}\")"
   ]
  },
  {
   "attachments": {},
   "cell_type": "markdown",
   "metadata": {},
   "source": [
    "## 3rd attempt at making graphs"
   ]
  },
  {
   "cell_type": "code",
   "execution_count": 67,
   "metadata": {},
   "outputs": [],
   "source": [
    "season_dict = {\n",
    "    'Indigo League': 'EP',\n",
    "    'Adventures on the Orange Islands': 'EP',\n",
    "    'The Johto Journeys': 'EP',\n",
    "    'Hoenn': 'AG',\n",
    "    'Battle Frontier': 'AG',\n",
    "    'Diamond and Pearl': 'DP',\n",
    "    'Black and White': 'BW',\n",
    "    'XY': 'XY',\n",
    "    'Sun and Moon': 'SM',\n",
    "    'Pocket Monsters': 'JN'\n",
    "}\n",
    "\n",
    "def make_number(num):\n",
    "    if num < 10:\n",
    "        return '00' + str(num)\n",
    "    elif num < 100:\n",
    "        return '0' + str(num)\n",
    "    else:\n",
    "        return str(num)\n",
    "\n",
    "\n",
    "def get_pokemon_data(episode, names, season):\n",
    "    lookup = season_dict[season]\n",
    "    r = requests.get(os.path.join('https://bulbapedia.bulbagarden.net/wiki', lookup + episode)).text\n",
    "    soup = BeautifulSoup(r, 'html.parser')\n",
    "    elems = soup.find_all('a', href=True)\n",
    "    episode_pokemon = []\n",
    "\n",
    "    for name in names:\n",
    "        for elem in elems:\n",
    "            if name in elem.text:\n",
    "                text = elem.text\n",
    "                episode_pokemon.append(text)\n",
    "\n",
    "    unique_pokemon = list(set(episode_pokemon))\n",
    "\n",
    "    # remove elements that are not single words\n",
    "    unique_pokemon = [p for p in unique_pokemon if len(p.split()) == 1]\n",
    "\n",
    "    # remove nature names\n",
    "    if 'Nature' in unique_pokemon:\n",
    "        unique_pokemon.remove('Nature')\n",
    "    return unique_pokemon\n",
    "\n",
    "\n",
    "# get episode plots\n",
    "def get_episode_plot(episode, season):\n",
    "    lookup = season_dict[season]\n",
    "    r = requests.get(os.path.join('https://bulbapedia.bulbagarden.net/wiki', lookup + episode)).text\n",
    "    soup = BeautifulSoup(r, 'html.parser')\n",
    "    elems = soup.find_all('p')\n",
    "    plot = ''\n",
    "    for i in range(1,len(elems)):\n",
    "        if \"Who's That Pokémon?\" in elems[i].text:\n",
    "            break\n",
    "        plot += elems[i].text\n",
    "\n",
    "    #plot = plot.replace('\\n ', ' ')\n",
    "    plot = plot.replace('\\n', ' ')\n",
    "\n",
    "    # remove trailing whitespace\n",
    "    plot = plot.strip()\n",
    "    \n",
    "    return plot\n",
    "\n",
    "def gather_pokemon_data(episode_numbers, names, season):\n",
    "    episode_dict = {}\n",
    "    for episode in tqdm(episode_numbers):\n",
    "        episode_pokemon = get_pokemon_data(episode, names, season)\n",
    "        plot = get_episode_plot(episode, season)\n",
    "        episode_dict[episode] = []\n",
    "        episode_dict[episode].append(episode_pokemon)\n",
    "        episode_dict[episode].append(plot)\n",
    "    return episode_dict"
   ]
  },
  {
   "cell_type": "code",
   "execution_count": 68,
   "metadata": {},
   "outputs": [],
   "source": [
    "names = poke_df_clean['pokemon'].values.tolist()"
   ]
  },
  {
   "cell_type": "code",
   "execution_count": 69,
   "metadata": {},
   "outputs": [],
   "source": [
    "if not os.path.exists('indigo_df.pkl'):\n",
    "    episode_numbers_indigo_league = [make_number(i) for i in range(1, 81)]\n",
    "    indigo_dict = gather_pokemon_data(episode_numbers_indigo_league, names, 'Indigo League')\n",
    "    indigo_df = pd.DataFrame.from_dict(indigo_dict, orient='index', columns=['pokemon', 'plot'])\n",
    "    indigo_df.to_pickle('indigo_df.pkl')\n",
    "else:\n",
    "    indigo_df = pd.read_pickle('indigo_df.pkl')\n"
   ]
  },
  {
   "cell_type": "code",
   "execution_count": 70,
   "metadata": {},
   "outputs": [],
   "source": [
    "if not os.path.exists('orange_df.pkl'):\n",
    "    episode_numbers_orange_islands = [make_number(i) for i in range(81, 117)]\n",
    "    orange_dict = gather_pokemon_data(episode_numbers_orange_islands, names, 'Adventures on the Orange Islands')\n",
    "    orange_df = pd.DataFrame.from_dict(orange_dict, orient='index', columns=['pokemon', 'plot'])\n",
    "    orange_df.to_pickle('orange_df.pkl')\n",
    "else:\n",
    "    orange_df = pd.read_pickle('orange_df.pkl')"
   ]
  },
  {
   "cell_type": "code",
   "execution_count": 71,
   "metadata": {},
   "outputs": [],
   "source": [
    "if not os.path.exists('johto_df.pkl'):\n",
    "    episode_numbers_johto_journeys = [make_number(i) for i in range(117, 275)]\n",
    "    johto_dict = gather_pokemon_data(episode_numbers_johto_journeys, names, 'The Johto Journeys')\n",
    "    johto_df = pd.DataFrame.from_dict(johto_dict, orient='index', columns=['pokemon', 'plot'])\n",
    "    johto_df.to_pickle('johto_df.pkl')\n",
    "else:\n",
    "    johto_df = pd.read_pickle('johto_df.pkl')"
   ]
  },
  {
   "cell_type": "code",
   "execution_count": 72,
   "metadata": {},
   "outputs": [],
   "source": [
    "if not os.path.exists('hoenn_df.pkl'):\n",
    "    episode_numbers_hoenn_league = [make_number(i) for i in range(1, 135)]\n",
    "    hoenn_dict = gather_pokemon_data(episode_numbers_hoenn_league, names, 'Hoenn')\n",
    "    hoenn_df = pd.DataFrame.from_dict(hoenn_dict, orient='index', columns=['pokemon', 'plot'])\n",
    "    hoenn_df.to_pickle('hoenn_df.pkl')\n",
    "else:\n",
    "    hoenn_df = pd.read_pickle('hoenn_df.pkl')"
   ]
  },
  {
   "cell_type": "code",
   "execution_count": 73,
   "metadata": {},
   "outputs": [],
   "source": [
    "if not os.path.exists('battle_df.pkl'):\n",
    "    episode_numbers_battle_frontier = [make_number(i) for i in range(135, 193)]\n",
    "    battle_dict = gather_pokemon_data(episode_numbers_battle_frontier, names, 'Battle Frontier')\n",
    "    battle_df = pd.DataFrame.from_dict(battle_dict, orient='index', columns=['pokemon', 'plot'])\n",
    "    battle_df.to_pickle('battle_df.pkl')\n",
    "else:\n",
    "    battle_df = pd.read_pickle('battle_df.pkl')"
   ]
  },
  {
   "cell_type": "code",
   "execution_count": 74,
   "metadata": {},
   "outputs": [],
   "source": [
    "if not os.path.exists('diamond_df.pkl'):\n",
    "    episode_numbers_diamond_pearl = [make_number(i) for i in range(1, 192)]\n",
    "    diamond_dict = gather_pokemon_data(episode_numbers_diamond_pearl, names, 'Diamond and Pearl')\n",
    "    diamond_df = pd.DataFrame.from_dict(diamond_dict, orient='index', columns=['pokemon', 'plot'])\n",
    "    diamond_df.to_pickle('diamond_df.pkl')\n",
    "else:\n",
    "    diamond_df = pd.read_pickle('diamond_df.pkl')"
   ]
  },
  {
   "cell_type": "code",
   "execution_count": 75,
   "metadata": {},
   "outputs": [],
   "source": [
    "if not os.path.exists('black_df.pkl'):\n",
    "    episode_numbers_black_white = [make_number(i) for i in range(1, 143)]\n",
    "    black_dict = gather_pokemon_data(episode_numbers_black_white, names, 'Black and White')\n",
    "    black_df = pd.DataFrame.from_dict(black_dict, orient='index', columns=['pokemon', 'plot'])\n",
    "    black_df.to_pickle('black_df.pkl')\n",
    "else:\n",
    "    black_df = pd.read_pickle('black_df.pkl')"
   ]
  },
  {
   "cell_type": "code",
   "execution_count": 76,
   "metadata": {},
   "outputs": [],
   "source": [
    "if not os.path.exists('xy_df.pkl'):\n",
    "    episode_numbers_xy = [make_number(i) for i in range(1, 141)]\n",
    "    xy_dict = gather_pokemon_data(episode_numbers_xy, names, 'XY')\n",
    "    xy_df = pd.DataFrame.from_dict(xy_dict, orient='index', columns=['pokemon', 'plot'])\n",
    "    xy_df.to_pickle('xy_df.pkl')\n",
    "else:\n",
    "    xy_df = pd.read_pickle('xy_df.pkl')"
   ]
  },
  {
   "cell_type": "code",
   "execution_count": 77,
   "metadata": {},
   "outputs": [],
   "source": [
    "if not os.path.exists('sun_df.pkl'):\n",
    "    episode_numbers_sun_moon = [make_number(i) for i in range(1, 147)]\n",
    "    sun_dict = gather_pokemon_data(episode_numbers_sun_moon, names, 'Sun and Moon')\n",
    "    sun_df = pd.DataFrame.from_dict(sun_dict, orient='index', columns=['pokemon', 'plot'])\n",
    "    sun_df.to_pickle('sun_df.pkl')\n",
    "else:\n",
    "    sun_df = pd.read_pickle('sun_df.pkl')"
   ]
  },
  {
   "cell_type": "code",
   "execution_count": 78,
   "metadata": {},
   "outputs": [],
   "source": [
    "if not os.path.exists('pocket_monsters.pkl'):\n",
    "    episode_numbers_pocket_monsters = [make_number(i) for i in range(1, 148)]\n",
    "    pocket_dict = gather_pokemon_data(episode_numbers_pocket_monsters, names, 'Pocket Monsters')\n",
    "    pocket_df = pd.DataFrame.from_dict(pocket_dict, orient='index', columns=['pokemon', 'plot'])\n",
    "    pocket_df.to_pickle('pocket_monsters.pkl')\n",
    "else:\n",
    "    pocket_df = pd.read_pickle('pocket_monsters.pkl')"
   ]
  },
  {
   "cell_type": "code",
   "execution_count": 79,
   "metadata": {},
   "outputs": [],
   "source": [
    "# collect all the dataframes into one\n",
    "frames = [indigo_df, orange_df, johto_df, hoenn_df, battle_df, diamond_df, black_df, xy_df, sun_df, pocket_df]\n",
    "\n",
    "# add a column for the season\n",
    "for i in range(len(frames)):\n",
    "    frames[i]['season'] = i + 1"
   ]
  },
  {
   "cell_type": "code",
   "execution_count": 80,
   "metadata": {},
   "outputs": [],
   "source": [
    "# combine all the dataframes\n",
    "all_seasons_df = pd.concat(frames)"
   ]
  },
  {
   "cell_type": "code",
   "execution_count": 81,
   "metadata": {},
   "outputs": [],
   "source": [
    "if not os.path.exists('all_seasons_df.pkl'):\n",
    "    all_seasons_df.to_pickle('all_seasons_df.pkl')\n",
    "else:\n",
    "    all_seasons_df = pd.read_pickle('all_seasons_df.pkl')"
   ]
  },
  {
   "cell_type": "code",
   "execution_count": 82,
   "metadata": {},
   "outputs": [],
   "source": [
    "# time to create a graph for each season\n",
    "def make_anime_edgelist(df):\n",
    "    from collections import defaultdict\n",
    "    edgelist = defaultdict(lambda: 0)\n",
    "    # loop over all episodes\n",
    "    for i in tqdm(range(len(df))):\n",
    "        # loop over all pokemon in the episode\n",
    "        for j in range(len(df['pokemon'].iloc[i])):\n",
    "            for k in range(j+1, len(df['pokemon'].iloc[i])):\n",
    "                edgelist[(df['pokemon'].iloc[i][j], df['pokemon'].iloc[i][k])] += 1\n",
    "                edgelist[(df['pokemon'].iloc[i][k], df['pokemon'].iloc[i][j])] += 1\n",
    "\n",
    "    # make the edgelist undirected \n",
    "    edgelist = [(k[0], k[1], v) for k, v in edgelist.items()]\n",
    "\n",
    "    # only keep every other edge to avoid duplicates\n",
    "    edgelist = edgelist[::2]\n",
    "    return edgelist"
   ]
  },
  {
   "cell_type": "code",
   "execution_count": 83,
   "metadata": {},
   "outputs": [
    {
     "name": "stderr",
     "output_type": "stream",
     "text": [
      "100%|██████████| 80/80 [00:00<00:00, 150.39it/s]\n",
      "100%|██████████| 35/35 [00:00<00:00, 91.62it/s]\n",
      "100%|██████████| 158/158 [00:01<00:00, 132.07it/s]\n",
      "100%|██████████| 134/134 [00:01<00:00, 120.78it/s]\n",
      "100%|██████████| 58/58 [00:00<00:00, 134.75it/s]\n",
      "100%|██████████| 191/191 [00:01<00:00, 116.88it/s]\n",
      "100%|██████████| 142/142 [00:01<00:00, 141.03it/s]\n",
      "100%|██████████| 140/140 [00:01<00:00, 74.49it/s]\n",
      "100%|██████████| 146/146 [00:03<00:00, 47.82it/s]\n",
      "100%|██████████| 147/147 [00:04<00:00, 34.05it/s]\n"
     ]
    }
   ],
   "source": [
    "indigo_G = nx.Graph()\n",
    "indigo_G.add_weighted_edges_from(make_anime_edgelist(indigo_df))\n",
    "\n",
    "orange_G = nx.Graph()\n",
    "orange_G.add_weighted_edges_from(make_anime_edgelist(orange_df))\n",
    "\n",
    "johto_G = nx.Graph()\n",
    "johto_G.add_weighted_edges_from(make_anime_edgelist(johto_df))\n",
    "\n",
    "hoenn_G = nx.Graph()\n",
    "hoenn_G.add_weighted_edges_from(make_anime_edgelist(hoenn_df))\n",
    "\n",
    "battle_G = nx.Graph()\n",
    "battle_G.add_weighted_edges_from(make_anime_edgelist(battle_df))\n",
    "\n",
    "diamond_G = nx.Graph()\n",
    "diamond_G.add_weighted_edges_from(make_anime_edgelist(diamond_df))\n",
    "\n",
    "black_G = nx.Graph()\n",
    "black_G.add_weighted_edges_from(make_anime_edgelist(black_df))\n",
    "\n",
    "xy_G = nx.Graph()\n",
    "xy_G.add_weighted_edges_from(make_anime_edgelist(xy_df))\n",
    "\n",
    "sun_G = nx.Graph()\n",
    "sun_G.add_weighted_edges_from(make_anime_edgelist(sun_df))\n",
    "\n",
    "pocket_G = nx.Graph()\n",
    "pocket_G.add_weighted_edges_from(make_anime_edgelist(pocket_df))"
   ]
  },
  {
   "cell_type": "code",
   "execution_count": 84,
   "metadata": {},
   "outputs": [],
   "source": [
    "#nw.visualize(diamond_G)"
   ]
  },
  {
   "cell_type": "code",
   "execution_count": 85,
   "metadata": {},
   "outputs": [
    {
     "name": "stderr",
     "output_type": "stream",
     "text": [
      "100%|██████████| 1231/1231 [00:16<00:00, 75.83it/s]\n"
     ]
    }
   ],
   "source": [
    "# make graph for all seasons\n",
    "all_seasons_G = nx.Graph()\n",
    "all_seasons_G.add_weighted_edges_from(make_anime_edgelist(all_seasons_df))"
   ]
  },
  {
   "cell_type": "code",
   "execution_count": 86,
   "metadata": {},
   "outputs": [],
   "source": [
    "# make a dataframe with only the pokemon that appear in the anime\n",
    "if not os.path.exists('anime_pokemon_all_seasons.pickle'):\n",
    "    anime_pokemon_all_seasons = find_unique(all_seasons_df, 'pokemon')\n",
    "    anime_pokemon_all_seasons_df = poke_df_clean[poke_df_clean['pokemon'].isin(anime_pokemon_all_seasons)].reset_index(drop=True)\n",
    "    anime_pokemon_all_seasons_df.to_pickle('anime_pokemon_all_seasons.pickle')\n",
    "else:\n",
    "    anime_pokemon_all_seasons_df = pd.read_pickle('anime_pokemon_all_seasons.pickle')"
   ]
  },
  {
   "cell_type": "code",
   "execution_count": 87,
   "metadata": {},
   "outputs": [],
   "source": [
    "# remove all nodes that are not in the anime pokemon dataframe\n",
    "pokemon = anime_pokemon_all_seasons_df['pokemon'].values.tolist()\n",
    "all_seasons_G.remove_nodes_from([n for n in all_seasons_G.nodes() if n not in pokemon])"
   ]
  },
  {
   "cell_type": "code",
   "execution_count": 88,
   "metadata": {},
   "outputs": [],
   "source": [
    "types = [t for t in anime_pokemon_all_seasons_df['types'].values]\n",
    "type_dict = dict(zip(anime_pokemon_all_seasons_df['pokemon'], types))\n",
    "\n",
    "abilities = [a for a in anime_pokemon_all_seasons_df['abilities'].values]\n",
    "ability_dict = dict(zip(anime_pokemon_all_seasons_df['pokemon'], abilities))\n",
    "\n",
    "egg_groups = [e for e in anime_pokemon_all_seasons_df['egg_groups'].values]\n",
    "egg_group_dict = dict(zip(anime_pokemon_all_seasons_df['pokemon'], egg_groups))\n",
    "\n",
    "nx.set_node_attributes(all_seasons_G, type_dict, 'type')\n",
    "nx.set_node_attributes(all_seasons_G, ability_dict, 'ability')\n",
    "nx.set_node_attributes(all_seasons_G, egg_group_dict, 'egg_group')"
   ]
  },
  {
   "attachments": {},
   "cell_type": "markdown",
   "metadata": {},
   "source": [
    "### Analysis"
   ]
  },
  {
   "cell_type": "code",
   "execution_count": 89,
   "metadata": {},
   "outputs": [
    {
     "data": {
      "image/png": "[encoded data removed]",
      "text/plain": [
       "<Figure size 1000x600 with 1 Axes>"
      ]
     },
     "metadata": {},
     "output_type": "display_data"
    }
   ],
   "source": [
    "# get degree distribution\n",
    "degree_sequence = sorted([d for n, d in all_seasons_G.degree()], reverse=True)\n",
    "\n",
    "# plot degree distribution\n",
    "plt.figure(figsize=(10, 6))\n",
    "plt.plot(degree_sequence, 'b-', marker='o')\n",
    "# add the name to the highest degree\n",
    "plt.title(\"Degree rank plot\")\n",
    "plt.ylabel(\"degree\")\n",
    "plt.xlabel(\"rank\")\n",
    "plt.show()"
   ]
  },
  {
   "cell_type": "code",
   "execution_count": 90,
   "metadata": {},
   "outputs": [
    {
     "data": {
      "image/png": "[encoded data removed]",
      "text/plain": [
       "<Figure size 1000x600 with 1 Axes>"
      ]
     },
     "metadata": {},
     "output_type": "display_data"
    }
   ],
   "source": [
    "# make histogram of degree distribution w. mean\n",
    "plt.figure(figsize=(10, 6))\n",
    "plt.hist(degree_sequence, bins=20)\n",
    "plt.axvline(np.mean(degree_sequence), color='r', linestyle='dashed', linewidth=1)\n",
    "plt.text(np.mean(degree_sequence) + 10, 100, 'Mean: {:.0f}'.format(np.mean(degree_sequence)))\n",
    "plt.title(\"Degree Distribution\")\n",
    "plt.ylabel(\"Count\")\n",
    "plt.xlabel(\"Degree\")\n",
    "plt.show()"
   ]
  },
  {
   "cell_type": "code",
   "execution_count": 91,
   "metadata": {},
   "outputs": [
    {
     "data": {
      "text/plain": [
       "[('Pikachu', 844),\n",
       " ('Meowth', 821),\n",
       " ('Wobbuffet', 786),\n",
       " ('Rotom', 763),\n",
       " ('Eevee', 716),\n",
       " ('Charizard', 684),\n",
       " ('Psyduck', 666),\n",
       " ('Dragonite', 639),\n",
       " ('Lucario', 634),\n",
       " ('Bulbasaur', 626)]"
      ]
     },
     "execution_count": 91,
     "metadata": {},
     "output_type": "execute_result"
    }
   ],
   "source": [
    "# identify the ten pokemon with the highest degree\n",
    "sorted_degree = sorted(all_seasons_G.degree, key=lambda x: x[1], reverse=True)\n",
    "sorted_degree[:10]"
   ]
  },
  {
   "cell_type": "code",
   "execution_count": 92,
   "metadata": {},
   "outputs": [
    {
     "data": {
      "text/plain": [
       "-0.09585841052785056"
      ]
     },
     "execution_count": 92,
     "metadata": {},
     "output_type": "execute_result"
    }
   ],
   "source": [
    "# get degree assortativity\n",
    "nx.degree_assortativity_coefficient(all_seasons_G)"
   ]
  },
  {
   "cell_type": "code",
   "execution_count": 93,
   "metadata": {},
   "outputs": [],
   "source": [
    "def calc_frac(graph, fields):\n",
    "    \"\"\" Calculate the fraction of neighbors with the same field as the node itself.\"\"\"\n",
    "    fracs = []\n",
    "    for node in graph.nodes:\n",
    "        c = 0\n",
    "        for neighbor in graph.neighbors(node):\n",
    "            if fields[neighbor] == fields[node]:\n",
    "                c += 1\n",
    "        fracs.append(c/graph.degree(node))\n",
    "\n",
    "    return np.mean(fracs)\n",
    "\n",
    "def frac_same_field(graph, field):\n",
    "    fields = nx.get_node_attributes(graph, field)\n",
    "    return calc_frac(graph, fields)"
   ]
  },
  {
   "cell_type": "code",
   "execution_count": 94,
   "metadata": {},
   "outputs": [
    {
     "name": "stdout",
     "output_type": "stream",
     "text": [
      "The average fraction of neighbors with the same typing as the node itself is 3.70%\n",
      "The average fraction of neighbors with the same ability as the node itself is 0.66%\n",
      "The average fraction of neighbors with the same egg group as the node itself is 8.22%\n"
     ]
    }
   ],
   "source": [
    "avg_typing = frac_same_field(all_seasons_G, 'type')\n",
    "print(f\"The average fraction of neighbors with the same typing as the node itself is {avg_typing*100:.2f}%\")\n",
    "\n",
    "avg_abilities = frac_same_field(all_seasons_G, 'ability')\n",
    "print(f\"The average fraction of neighbors with the same ability as the node itself is {avg_abilities*100:.2f}%\")\n",
    "\n",
    "avg_egg_groups = frac_same_field(all_seasons_G, 'egg_group')\n",
    "print(f\"The average fraction of neighbors with the same egg group as the node itself is {avg_egg_groups*100:.2f}%\")"
   ]
  },
  {
   "cell_type": "markdown",
   "metadata": {},
   "source": [
    "Now, we mix up association and check again"
   ]
  },
  {
   "cell_type": "code",
   "execution_count": 95,
   "metadata": {},
   "outputs": [],
   "source": [
    "import random\n",
    "random.seed(42)\n",
    "\n",
    "# We implment a function that randomly assigns fields to nodes\n",
    "def frac_rand_graph(graph, field):\n",
    "    fields = nx.get_node_attributes(graph, field)\n",
    "    field_list = list(fields.values())\n",
    "    for key in fields.keys():\n",
    "        fields[key] = random.choice(field_list)\n",
    "\n",
    "    return calc_frac(graph, fields)"
   ]
  },
  {
   "cell_type": "code",
   "execution_count": 96,
   "metadata": {},
   "outputs": [
    {
     "name": "stdout",
     "output_type": "stream",
     "text": [
      "The average fraction of neighbors with the same typing as the node itself is 2.58%\n",
      "The average fraction of neighbors with the same ability as the node itself is 0.45%\n",
      "The average fraction of neighbors with the same egg group as the node itself is 6.35%\n"
     ]
    }
   ],
   "source": [
    "avg_rand_type = frac_rand_graph(all_seasons_G, 'type')\n",
    "print(f\"The average fraction of neighbors with the same typing as the node itself is {avg_rand_type*100:.2f}%\")\n",
    "\n",
    "avg_rand_abilities = frac_rand_graph(all_seasons_G, 'ability')\n",
    "print(f\"The average fraction of neighbors with the same ability as the node itself is {avg_rand_abilities*100:.2f}%\")\n",
    "\n",
    "avg_rand_egg_groups = frac_rand_graph(all_seasons_G, 'egg_group')\n",
    "print(f\"The average fraction of neighbors with the same egg group as the node itself is {avg_rand_egg_groups*100:.2f}%\")"
   ]
  },
  {
   "cell_type": "code",
   "execution_count": 97,
   "metadata": {},
   "outputs": [
    {
     "name": "stdout",
     "output_type": "stream",
     "text": [
      "The average fraction of neighbors with the same typing as the node itself is 2.59%\n",
      "The average fraction of neighbors with the same ability as the node itself is 0.34%\n",
      "The average fraction of neighbors with the same egg group as the node itself is 6.71%\n"
     ]
    }
   ],
   "source": [
    "# now, we repeat the above 1000 times and calculate the average fraction of neighbors with the same field as the node itself\n",
    "avg_rand_type_100 = [frac_rand_graph(all_seasons_G, 'type') for _ in range(100)]\n",
    "avg_rand_type_100_mu = np.mean(avg_rand_type_100)\n",
    "print(f\"The average fraction of neighbors with the same typing as the node itself is {avg_rand_type_100_mu*100:.2f}%\")\n",
    "\n",
    "avg_rand_abilities_100 = [frac_rand_graph(all_seasons_G, 'ability') for _ in range(100)]\n",
    "avg_rand_abilities_100_mu = np.mean(avg_rand_abilities_100)\n",
    "print(f\"The average fraction of neighbors with the same ability as the node itself is {avg_rand_abilities_100_mu*100:.2f}%\")\n",
    "\n",
    "avg_rand_egg_groups_100 = [frac_rand_graph(all_seasons_G, 'egg_group') for _ in range(100)]\n",
    "avg_rand_egg_groups_100_mu = np.mean(avg_rand_egg_groups_100)\n",
    "print(f\"The average fraction of neighbors with the same egg group as the node itself is {avg_rand_egg_groups_100_mu*100:.2f}%\")"
   ]
  },
  {
   "cell_type": "code",
   "execution_count": 98,
   "metadata": {},
   "outputs": [
    {
     "data": {
      "image/png": "[encoded data removed]",
      "text/plain": [
       "<Figure size 1500x600 with 3 Axes>"
      ]
     },
     "metadata": {},
     "output_type": "display_data"
    }
   ],
   "source": [
    "# now we make three subplots of the random distributions with the actual values plotted as vertical lines\n",
    "fig, ax = plt.subplots(1, 3, figsize=(15, 6), sharey=True)\n",
    "ax[0].hist(avg_rand_type_100, bins=20)\n",
    "ax[0].axvline(avg_typing, color='r', linestyle='dashed', linewidth=1)\n",
    "ax[0].set_title(\"Typing\")\n",
    "ax[0].set_ylabel(\"Count\")\n",
    "ax[0].set_xlabel(\"Fraction of neighbors with same typing\")\n",
    "ax[1].hist(avg_rand_abilities_100, bins=20)\n",
    "ax[1].axvline(avg_abilities, color='r', linestyle='dashed', linewidth=1)\n",
    "ax[1].set_title(\"Abilities\")\n",
    "ax[1].set_ylabel(\"Count\")\n",
    "ax[1].set_xlabel(\"Fraction of neighbors with same ability\")\n",
    "ax[2].hist(avg_rand_egg_groups_100, bins=20)\n",
    "ax[2].axvline(avg_egg_groups, color='r', linestyle='dashed', linewidth=1)\n",
    "ax[2].set_title(\"Egg Groups\")\n",
    "ax[2].set_ylabel(\"Count\")\n",
    "ax[2].set_xlabel(\"Fraction of neighbors with same egg group\")\n",
    "plt.show()"
   ]
  },
  {
   "cell_type": "markdown",
   "metadata": {},
   "source": [
    "Hence, we see that typing, ability and egg group is not entirely random. This might be caused by the fact that Pokémon in the same families (evolution lines) are more likely to appear in the same episodes."
   ]
  },
  {
   "cell_type": "markdown",
   "metadata": {},
   "source": [
    "Next, we will look at the degree assortativity"
   ]
  },
  {
   "cell_type": "code",
   "execution_count": 99,
   "metadata": {},
   "outputs": [
    {
     "name": "stdout",
     "output_type": "stream",
     "text": [
      "The degree assortativity coefficient is -0.10\n"
     ]
    }
   ],
   "source": [
    "dac = nx.degree_assortativity_coefficient(all_seasons_G)\n",
    "print(f\"The degree assortativity coefficient is {dac:.2f}\")"
   ]
  },
  {
   "cell_type": "markdown",
   "metadata": {},
   "source": [
    "This tells us that high degree Pokemon are actually less likely to be connected to other high degree pokemon."
   ]
  },
  {
   "cell_type": "markdown",
   "metadata": {},
   "source": [
    "Next, we will look at partitions and modularity"
   ]
  },
  {
   "cell_type": "code",
   "execution_count": 100,
   "metadata": {},
   "outputs": [
    {
     "name": "stdout",
     "output_type": "stream",
     "text": [
      "The modularity of the partition is 0.22\n"
     ]
    }
   ],
   "source": [
    "# find best partition\n",
    "partition = community_louvain.best_partition(all_seasons_G)\n",
    "\n",
    "# find modularity\n",
    "mod = community_louvain.modularity(partition, all_seasons_G)\n",
    "print(f\"The modularity of the partition is {mod:.2f}\")"
   ]
  },
  {
   "cell_type": "code",
   "execution_count": 101,
   "metadata": {},
   "outputs": [
    {
     "name": "stdout",
     "output_type": "stream",
     "text": [
      "There are 5 communities\n",
      "The community sizes are [244, 206, 138, 146, 111]\n"
     ]
    }
   ],
   "source": [
    "# list number of communities\n",
    "num_communities = len(set(partition.values()))\n",
    "print(f\"There are {num_communities} communities\")\n",
    "\n",
    "# Community sizes\n",
    "community_sizes = [len(list(filter(lambda x: x[1] == i, partition.items()))) for i in range(num_communities)]\n",
    "print(f\"The community sizes are {community_sizes}\")"
   ]
  },
  {
   "cell_type": "code",
   "execution_count": 102,
   "metadata": {},
   "outputs": [],
   "source": [
    "# find communities\n",
    "import community as community_louvain\n",
    "communities = community_louvain.best_partition(all_seasons_G)\n",
    "set_group(all_seasons_G, communities)\n"
   ]
  },
  {
   "cell_type": "code",
   "execution_count": 103,
   "metadata": {},
   "outputs": [],
   "source": [
    "#nw.visualize(all_seasons_G)"
   ]
  },
  {
   "cell_type": "code",
   "execution_count": 185,
   "metadata": {},
   "outputs": [],
   "source": [
    "# we use network x to do double edge swaps\n",
    "# we use the same seed as before to ensure reproducibility\n",
    "def modularity_test(graph, nswap):\n",
    "    temp_graph = nx.double_edge_swap(graph, nswap=nswap, max_tries=1000000)\n",
    "    partition = community_louvain.best_partition(temp_graph)\n",
    "    return community_louvain.modularity(partition, temp_graph)"
   ]
  },
  {
   "cell_type": "code",
   "execution_count": 169,
   "metadata": {},
   "outputs": [
    {
     "name": "stderr",
     "output_type": "stream",
     "text": [
      " 10%|█         | 1/10 [00:16<02:27, 16.34s/it]\n"
     ]
    },
    {
     "ename": "KeyboardInterrupt",
     "evalue": "",
     "output_type": "error",
     "traceback": [
      "\u001b[0;31m---------------------------------------------------------------------------\u001b[0m",
      "\u001b[0;31mKeyboardInterrupt\u001b[0m                         Traceback (most recent call last)",
      "Cell \u001b[0;32mIn[169], line 3\u001b[0m\n\u001b[1;32m      1\u001b[0m mods \u001b[39m=\u001b[39m []\n\u001b[1;32m      2\u001b[0m \u001b[39mfor\u001b[39;00m _ \u001b[39min\u001b[39;00m tqdm(\u001b[39mrange\u001b[39m(\u001b[39m10\u001b[39m)):\n\u001b[0;32m----> 3\u001b[0m     mods\u001b[39m.\u001b[39mappend(modularity_test(all_seasons_G, all_seasons_G\u001b[39m.\u001b[39;49mnumber_of_edges()\u001b[39m/\u001b[39;49m\u001b[39m2\u001b[39;49m))\n",
      "Cell \u001b[0;32mIn[168], line 4\u001b[0m, in \u001b[0;36mmodularity_test\u001b[0;34m(graph, nswap)\u001b[0m\n\u001b[1;32m      3\u001b[0m \u001b[39mdef\u001b[39;00m \u001b[39mmodularity_test\u001b[39m(graph, nswap):\n\u001b[0;32m----> 4\u001b[0m     temp_graph \u001b[39m=\u001b[39m nx\u001b[39m.\u001b[39;49mdouble_edge_swap(graph, nswap\u001b[39m=\u001b[39;49mnswap, max_tries\u001b[39m=\u001b[39;49m\u001b[39m1000000\u001b[39;49m)\n\u001b[1;32m      5\u001b[0m     partition \u001b[39m=\u001b[39m community_louvain\u001b[39m.\u001b[39mbest_partition(temp_graph)\n\u001b[1;32m      6\u001b[0m     \u001b[39mreturn\u001b[39;00m community_louvain\u001b[39m.\u001b[39mmodularity(partition, temp_graph)\n",
      "File \u001b[0;32m<class 'networkx.utils.decorators.argmap'> compilation 4:4\u001b[0m, in \u001b[0;36margmap_double_edge_swap_1\u001b[0;34m(G, nswap, max_tries, seed)\u001b[0m\n\u001b[1;32m      2\u001b[0m \u001b[39mimport\u001b[39;00m \u001b[39mcollections\u001b[39;00m\n\u001b[1;32m      3\u001b[0m \u001b[39mimport\u001b[39;00m \u001b[39mgzip\u001b[39;00m\n\u001b[0;32m----> 4\u001b[0m \u001b[39mimport\u001b[39;00m \u001b[39minspect\u001b[39;00m\n\u001b[1;32m      5\u001b[0m \u001b[39mimport\u001b[39;00m \u001b[39mitertools\u001b[39;00m\n\u001b[1;32m      6\u001b[0m \u001b[39mimport\u001b[39;00m \u001b[39mre\u001b[39;00m\n",
      "File \u001b[0;32m~/opt/anaconda3/envs/compsci/lib/python3.9/site-packages/networkx/algorithms/swap.py:213\u001b[0m, in \u001b[0;36mdouble_edge_swap\u001b[0;34m(G, nswap, max_tries, seed)\u001b[0m\n\u001b[1;32m    211\u001b[0m \u001b[39mif\u001b[39;00m v \u001b[39m==\u001b[39m y:\n\u001b[1;32m    212\u001b[0m     \u001b[39mcontinue\u001b[39;00m  \u001b[39m# same target, skip\u001b[39;00m\n\u001b[0;32m--> 213\u001b[0m \u001b[39mif\u001b[39;00m (x \u001b[39mnot\u001b[39;00m \u001b[39min\u001b[39;00m G[u]) \u001b[39mand\u001b[39;00m (y \u001b[39mnot\u001b[39;00m \u001b[39min\u001b[39;00m G[v]):  \u001b[39m# don't create parallel edges\u001b[39;00m\n\u001b[1;32m    214\u001b[0m     G\u001b[39m.\u001b[39madd_edge(u, x)\n\u001b[1;32m    215\u001b[0m     G\u001b[39m.\u001b[39madd_edge(v, y)\n",
      "File \u001b[0;32m~/opt/anaconda3/envs/compsci/lib/python3.9/site-packages/networkx/classes/graph.py:489\u001b[0m, in \u001b[0;36mGraph.__getitem__\u001b[0;34m(self, n)\u001b[0m\n\u001b[1;32m    468\u001b[0m     \u001b[39m\"\"\"Returns the number of nodes in the graph. Use: 'len(G)'.\u001b[39;00m\n\u001b[1;32m    469\u001b[0m \n\u001b[1;32m    470\u001b[0m \u001b[39m    Returns\u001b[39;00m\n\u001b[0;32m   (...)\u001b[0m\n\u001b[1;32m    485\u001b[0m \n\u001b[1;32m    486\u001b[0m \u001b[39m    \"\"\"\u001b[39;00m\n\u001b[1;32m    487\u001b[0m     \u001b[39mreturn\u001b[39;00m \u001b[39mlen\u001b[39m(\u001b[39mself\u001b[39m\u001b[39m.\u001b[39m_node)\n\u001b[0;32m--> 489\u001b[0m \u001b[39mdef\u001b[39;00m \u001b[39m__getitem__\u001b[39m(\u001b[39mself\u001b[39m, n):\n\u001b[1;32m    490\u001b[0m     \u001b[39m\"\"\"Returns a dict of neighbors of node n.  Use: 'G[n]'.\u001b[39;00m\n\u001b[1;32m    491\u001b[0m \n\u001b[1;32m    492\u001b[0m \u001b[39m    Parameters\u001b[39;00m\n\u001b[0;32m   (...)\u001b[0m\n\u001b[1;32m    511\u001b[0m \u001b[39m    AtlasView({1: {}})\u001b[39;00m\n\u001b[1;32m    512\u001b[0m \u001b[39m    \"\"\"\u001b[39;00m\n\u001b[1;32m    513\u001b[0m     \u001b[39mreturn\u001b[39;00m \u001b[39mself\u001b[39m\u001b[39m.\u001b[39madj[n]\n",
      "\u001b[0;31mKeyboardInterrupt\u001b[0m: "
     ]
    }
   ],
   "source": [
    "mods = [modularity_test(all_seasons_G, 1000) for _ in range(100)]"
   ]
  },
  {
   "cell_type": "code",
   "execution_count": 126,
   "metadata": {},
   "outputs": [
    {
     "data": {
      "image/png": "[encoded data removed]",
      "text/plain": [
       "<Figure size 640x480 with 1 Axes>"
      ]
     },
     "metadata": {},
     "output_type": "display_data"
    }
   ],
   "source": [
    "# plot the distribution of modularity values with the actual modularity value plotted as a vertical line\n",
    "plt.hist(mods, bins=20)\n",
    "plt.axvline(mod, color='r', linestyle='dashed', linewidth=1)\n",
    "plt.title(\"Modularity distribution\")\n",
    "plt.xlabel(\"Modularity\")\n",
    "plt.ylabel(\"Count\")\n",
    "plt.show()"
   ]
  },
  {
   "cell_type": "code",
   "execution_count": 228,
   "metadata": {},
   "outputs": [],
   "source": [
    "save_name_dict = {\"indigo\": \"Indigo League\",\n",
    "                  \"orange\": \"Orange Islands\",\n",
    "                    \"johto\": \"Johto League\",\n",
    "                    \"hoenn\": \"Hoenn League\",\n",
    "                    \"battle\": \"Battle Frontier\",\n",
    "                    \"sinnoh\": \"Sinnoh League\",\n",
    "                    \"unova\": \"Unova League\",\n",
    "                    \"kalos\": \"Kalos League\",\n",
    "                    \"alola\": \"Alola League\",\n",
    "                    \"journeys\": \"Pokémon Journeys\",\n",
    "                    \"all_seasons\": \"All Seasons\"}\n",
    "\n",
    "\n",
    "# time to make a function for all graph analysis\n",
    "def graph_analysis(df, save_name: str, save: bool = False):\n",
    "    # setup relevant folders for saving\n",
    "    if save:\n",
    "        os.makedirs(f'figures/{save_name}', exist_ok=True)\n",
    "\n",
    "    txt_lines = []\n",
    "\n",
    "    # make big print statement\n",
    "    print(f\"Analysing the graph for the {save_name_dict[save_name]} season\")\n",
    "    txt_lines.append(\"Analysing the graph for the \" + save_name_dict[save_name] + \" season\")\n",
    "    # make the initial graph\n",
    "    G = nx.Graph()\n",
    "    print(\"Making graph...\")\n",
    "    G.add_weighted_edges_from(make_anime_edgelist(df))\n",
    "    print(\"Done!\")\n",
    "    txt_lines.append(f\"The graph has {G.number_of_nodes()} nodes and {G.number_of_edges()} edges\")\n",
    "\n",
    "    # make dataframe with only pokemon in original df\n",
    "    anime_pokemon = find_unique(df, 'pokemon')\n",
    "    anime_pokemon_df = poke_df_clean[poke_df_clean['pokemon'].isin(anime_pokemon)].reset_index(drop=True)\n",
    "\n",
    "    # remove all nodes that are not in the anime pokemon dataframe\n",
    "    pokemon = anime_pokemon_all_seasons_df['pokemon'].values.tolist()\n",
    "    G.remove_nodes_from([n for n in G.nodes() if n not in pokemon])\n",
    "\n",
    "    # add pokemon attributes to graph\n",
    "    types = [t for t in anime_pokemon_df['types'].values]\n",
    "    type_dict = dict(zip(anime_pokemon_df['pokemon'], types))\n",
    "\n",
    "    abilities = [a for a in anime_pokemon_df['abilities'].values]\n",
    "    ability_dict = dict(zip(anime_pokemon_df['pokemon'], abilities))\n",
    "\n",
    "    egg_groups = [e for e in anime_pokemon_df['egg_groups'].values]\n",
    "    egg_group_dict = dict(zip(anime_pokemon_df['pokemon'], egg_groups))\n",
    "\n",
    "    nx.set_node_attributes(G, type_dict, 'type')\n",
    "    nx.set_node_attributes(G, ability_dict, 'ability')\n",
    "    nx.set_node_attributes(G, egg_group_dict, 'egg_groups')\n",
    "\n",
    "    # degree rank plot\n",
    "    degree_sequence = sorted([d for _, d in G.degree()], reverse=True)\n",
    "\n",
    "    # plot degree distribution\n",
    "    plt.figure(figsize=(10, 6))\n",
    "    plt.plot(degree_sequence, 'b-', marker='o')\n",
    "    # add the name to the highest degree\n",
    "    plt.title(f\"Degree rank plot for {save_name_dict[save_name]}\")\n",
    "    plt.ylabel(\"degree\")\n",
    "    plt.xlabel(\"rank\")\n",
    "    figure_path = os.path.join('figures', save_name, 'degree_rank_plot.png')\n",
    "    if save:\n",
    "        plt.savefig(figure_path)\n",
    "    plt.close()\n",
    "\n",
    "    # make histogram of degree distribution w. mean\n",
    "    plt.figure(figsize=(10, 6))\n",
    "    plt.hist(degree_sequence, bins=20)\n",
    "    plt.axvline(np.mean(degree_sequence), color='r', linestyle='dashed', linewidth=1)\n",
    "    plt.text(np.mean(degree_sequence) + 10, 100, 'Mean: {:.0f}'.format(np.mean(degree_sequence)))\n",
    "    plt.title(f\"Degree Distribution for {save_name_dict[save_name]}\")\n",
    "    plt.ylabel(\"Count\")\n",
    "    plt.xlabel(\"Degree\")\n",
    "    if save:\n",
    "        plt.savefig(os.path.join('figures', save_name, 'degree_distribution.png'))\n",
    "    plt.close()\n",
    "\n",
    "    # identify the ten pokemon with the highest degree\n",
    "    sorted_degree = sorted(G.degree, key=lambda x: x[1], reverse=True)\n",
    "    # print the top ten pokemon with the highest degree and their degree value each on one line\n",
    "    txt_lines.append(\"The top ten pokemon with the highest degree are:\")\n",
    "    for i in range(10):\n",
    "        txt_lines.append(f\"{sorted_degree[i][0]}: {sorted_degree[i][1]}\")\n",
    "\n",
    "    # get degree assortativity\n",
    "    dac = nx.degree_assortativity_coefficient(G)\n",
    "    txt_lines.append(f\"The degree assortativity coefficient is {dac:.2f}\")\n",
    "\n",
    "    # explore connections between pokemon types, abilities and egg groups\n",
    "    avg_typing = frac_same_field(all_seasons_G, 'type')\n",
    "    txt_lines.append(f\"The average fraction of neighbors with the same typing as the node itself is {avg_typing*100:.2f}%\")\n",
    "\n",
    "    avg_abilities = frac_same_field(all_seasons_G, 'ability')\n",
    "    txt_lines.append(f\"The average fraction of neighbors with the same ability as the node itself is {avg_abilities*100:.2f}%\")\n",
    "\n",
    "    avg_egg_groups = frac_same_field(all_seasons_G, 'egg_group')\n",
    "    txt_lines.append(f\"The average fraction of neighbors with the same egg group as the node itself is {avg_egg_groups*100:.2f}%\")\n",
    "\n",
    "    # now, we repeat the above 100 times and calculate the average fraction of neighbors with the same field as the node itself\n",
    "    avg_rand_type_100 = [frac_rand_graph(all_seasons_G, 'type') for _ in range(100)]\n",
    "    avg_rand_type_100_mu = np.mean(avg_rand_type_100)\n",
    "    txt_lines.append(f\"The average fraction of neighbors with the same typing as the node itself when random is {avg_rand_type_100_mu*100:.2f}%\")\n",
    "    \n",
    "\n",
    "    avg_rand_abilities_100 = [frac_rand_graph(all_seasons_G, 'ability') for _ in range(100)]\n",
    "    avg_rand_abilities_100_mu = np.mean(avg_rand_abilities_100)\n",
    "    txt_lines.append(f\"The average fraction of neighbors with the same ability as the node itself when random is {avg_rand_abilities_100_mu*100:.2f}%\")\n",
    "\n",
    "    avg_rand_egg_groups_100 = [frac_rand_graph(all_seasons_G, 'egg_group') for _ in range(100)]\n",
    "    avg_rand_egg_groups_100_mu = np.mean(avg_rand_egg_groups_100)\n",
    "    txt_lines.append(f\"The average fraction of neighbors with the same egg group as the node itself when random is {avg_rand_egg_groups_100_mu*100:.2f}%\")\n",
    "\n",
    "    # now we make three subplots of the random distributions with the actual values plotted as vertical lines with text\n",
    "    fig, ax = plt.subplots(1, 3, figsize=(15, 6), sharey=True)\n",
    "    ax[0].hist(avg_rand_type_100, bins=20)\n",
    "    ax[0].axvline(avg_typing, color='r', linestyle='dashed', linewidth=1)\n",
    "    ax[0].set_title(\"Typing\")\n",
    "    ax[0].set_ylabel(\"Count\")\n",
    "    ax[0].set_xlabel(\"Fraction of neighbors with same typing\")\n",
    "    ax[1].hist(avg_rand_abilities_100, bins=20)\n",
    "    ax[1].axvline(avg_abilities, color='r', linestyle='dashed', linewidth=1)\n",
    "    ax[1].set_title(\"Abilities\")\n",
    "    ax[1].set_xlabel(\"Fraction of neighbors with same ability\")\n",
    "    ax[2].hist(avg_rand_egg_groups_100, bins=20)\n",
    "    ax[2].axvline(avg_egg_groups, color='r', linestyle='dashed', linewidth=1)\n",
    "    ax[2].set_title(\"Egg Groups\")\n",
    "    ax[2].set_xlabel(\"Fraction of neighbors with same egg group\")\n",
    "    \n",
    "    plt.suptitle(f\"Random distributions for {save_name_dict[save_name]}\")\n",
    "    if save:\n",
    "        plt.savefig(os.path.join('figures', save_name, 'random_distributions.png'))\n",
    "    plt.close()\n",
    "\n",
    "    # make statistical tests for the three fields\n",
    "    import scipy.stats as stats\n",
    "    txt_lines.append(\"Statistical tests for the three fields:\")\n",
    "\n",
    "    p_val_typing = stats.ttest_1samp(avg_rand_type_100, avg_typing)[1]\n",
    "    txt_lines.append(f\"Typing: {p_val_typing}\")\n",
    "\n",
    "    p_val_abilities = stats.ttest_1samp(avg_rand_abilities_100, avg_abilities)[1]\n",
    "    txt_lines.append(f\"Abilities: {p_val_abilities}\")\n",
    "\n",
    "    p_val_egg_groups = stats.ttest_1samp(avg_rand_egg_groups_100, avg_egg_groups)[1]\n",
    "    txt_lines.append(f\"Egg Groups: {p_val_egg_groups}\")\n",
    "    \n",
    "\n",
    "    # find best partition\n",
    "    partition = community_louvain.best_partition(G)\n",
    "    # print the modularity\n",
    "    mod = community_louvain.modularity(partition, G)\n",
    "    txt_lines.append(f\"The modularity is {mod:.2f}\")\n",
    "\n",
    "    num_communities = len(set(partition.values()))\n",
    "    txt_lines.append(f\"There are {num_communities} communities\")\n",
    "\n",
    "    # Community sizes\n",
    "    community_sizes = [len(list(filter(lambda x: x[1] == i, partition.items()))) for i in range(num_communities)]\n",
    "    txt_lines.append(f\"The community sizes are {community_sizes}\")\n",
    "\n",
    "    # add the community as an attribute to the nodes\n",
    "    set_group(G, partition)\n",
    "\n",
    "    # time to test modularity\n",
    "    txt_lines.append(\"Testing modularity\")\n",
    "    print(\"Testing modularity\")\n",
    "    if save_name != 'all_seasons':\n",
    "        # if we are using the all seasons graph, we need to remove the edges between seasons\n",
    "        \n",
    "        mods = []\n",
    "        for _ in tqdm(range(100)):\n",
    "            mods.append(modularity_test(G, G.number_of_edges()/2))\n",
    "        txt_lines.append(f\"The average modularity after double edge swap test is {np.mean(mods):.2f}\")\n",
    "        # statistical test\n",
    "        p_val_mod = stats.ttest_1samp(mods, mod)[1]\n",
    "        txt_lines.append(f\"The p-value for the modularity test is {p_val_mod}\")\n",
    "\n",
    "        # plot the distribution of modularity values with the actual modularity value plotted as a vertical line\n",
    "        plt.hist(mods, bins=20)\n",
    "        plt.axvline(mod, color='r', linestyle='dashed', linewidth=1)\n",
    "        plt.title(f\"Modularity distribution for {save_name_dict[save_name]}\")\n",
    "        plt.xlabel(\"Modularity\")\n",
    "        plt.ylabel(\"Count\")\n",
    "        if save:\n",
    "            plt.savefig(os.path.join('figures', save_name, 'modularity_distribution.png'))\n",
    "        plt.close()\n",
    "\n",
    "    # write all the text lines to a file\n",
    "    with open(os.path.join('txt_files', f'{save_name}_text.txt'), 'w') as f:\n",
    "        f.write('\\n'.join(txt_lines))\n",
    "\n",
    "    return G\n",
    "\n",
    "def save_graph(G, save_name):\n",
    "    \"\"\"\n",
    "    Saves the graph as a pkl file\n",
    "    \"\"\"\n",
    "    # make the directory if it doesn't exist\n",
    "    \n",
    "    print(f\"Saving graph as {save_name}_G.pkl\")\n",
    "    with open(os.path.join('graphs', f'{save_name}_G.pkl'), 'wb') as f:\n",
    "        pickle.dump(G, f)\n",
    "    "
   ]
  },
  {
   "cell_type": "code",
   "execution_count": 227,
   "metadata": {},
   "outputs": [
    {
     "name": "stdout",
     "output_type": "stream",
     "text": [
      "Analysing the graph for the Indigo League season\n",
      "Making graph...\n"
     ]
    },
    {
     "name": "stderr",
     "output_type": "stream",
     "text": [
      "100%|██████████| 80/80 [00:00<00:00, 128.22it/s]\n"
     ]
    },
    {
     "name": "stdout",
     "output_type": "stream",
     "text": [
      "Done!\n"
     ]
    },
    {
     "name": "stderr",
     "output_type": "stream",
     "text": [
      "100%|██████████| 100/100 [00:51<00:00,  1.94it/s]"
     ]
    },
    {
     "name": "stdout",
     "output_type": "stream",
     "text": [
      "Saving graph as indigo_G.pkl\n",
      "Graph for orange already exists\n",
      "Graph for johto already exists\n",
      "Graph for hoenn already exists\n",
      "Graph for sinnoh already exists\n",
      "Graph for unova already exists\n",
      "Graph for kalos already exists\n",
      "Graph for alola already exists\n",
      "Graph for journeys already exists\n",
      "Graph for all_seasons already exists\n"
     ]
    },
    {
     "name": "stderr",
     "output_type": "stream",
     "text": [
      "\n"
     ]
    }
   ],
   "source": [
    "name_to_df_dict = {\"indigo\": indigo_df,\n",
    "                   \"orange\": orange_df,\n",
    "                   \"johto\": johto_df,\n",
    "                   \"hoenn\": hoenn_df,\n",
    "                   \"sinnoh\": diamond_df,\n",
    "                   \"unova\": black_df,\n",
    "                   \"kalos\": xy_df,\n",
    "                   \"alola\": sun_df,\n",
    "                   \"journeys\": pocket_df,\n",
    "                   \"all_seasons\": all_seasons_df\n",
    "}\n",
    "\n",
    "# loop through all the dataframes and make the graphs\n",
    "for name, df in name_to_df_dict.items():\n",
    "    if not os.path.exists(os.path.join('graphs', f'{name}_G.pkl')):\n",
    "        G = graph_analysis(df, name, save=True)\n",
    "        save_graph(G, name)\n",
    "    else:\n",
    "        print(f\"Graph for {name} already exists\")"
   ]
  },
  {
   "cell_type": "code",
   "execution_count": null,
   "metadata": {},
   "outputs": [],
   "source": []
  }
 ],
 "metadata": {
  "kernelspec": {
   "display_name": "compsci",
   "language": "python",
   "name": "python3"
  },
  "language_info": {
   "codemirror_mode": {
    "name": "ipython",
    "version": 3
   },
   "file_extension": ".py",
   "mimetype": "text/x-python",
   "name": "python",
   "nbconvert_exporter": "python",
   "pygments_lexer": "ipython3",
   "version": "3.9.16"
  },
  "orig_nbformat": 4
 },
 "nbformat": 4,
 "nbformat_minor": 2
}
